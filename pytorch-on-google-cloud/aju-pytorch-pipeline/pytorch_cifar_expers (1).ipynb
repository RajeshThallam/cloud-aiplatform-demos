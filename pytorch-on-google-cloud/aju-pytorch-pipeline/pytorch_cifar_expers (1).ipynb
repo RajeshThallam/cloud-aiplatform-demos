{
 "cells": [
  {
   "cell_type": "code",
   "execution_count": null,
   "metadata": {
    "id": "ur8xi4C7S06n"
   },
   "outputs": [],
   "source": [
    "# Copyright 2021 Google LLC\n",
    "#\n",
    "# Licensed under the Apache License, Version 2.0 (the \"License\");\n",
    "# you may not use this file except in compliance with the License.\n",
    "# You may obtain a copy of the License at\n",
    "#\n",
    "#     https://www.apache.org/licenses/LICENSE-2.0\n",
    "#\n",
    "# Unless required by applicable law or agreed to in writing, software\n",
    "# distributed under the License is distributed on an \"AS IS\" BASIS,\n",
    "# WITHOUT WARRANTIES OR CONDITIONS OF ANY KIND, either express or implied.\n",
    "# See the License for the specific language governing permissions and\n",
    "# limitations under the License."
   ]
  },
  {
   "cell_type": "markdown",
   "metadata": {
    "id": "JAPoU8Sm5E6e"
   },
   "source": [
    "<!-- <table align=\"left\">\n",
    "\n",
    "  <td>\n",
    "    <a href=\"https://colab.research.google.com/github/GoogleCloudPlatform/ai-platform-samples/blob/master/ai-platform-unified/notebooks/notebook_template.ipynb\"\">\n",
    "      <img src=\"https://cloud.google.com/ml-engine/images/colab-logo-32px.png\" alt=\"Colab logo\"> Run in Colab\n",
    "    </a>\n",
    "  </td>\n",
    "  <td>\n",
    "    <a href=\"https://github.com/GoogleCloudPlatform/ai-platform-samples/blob/master/ai-platform-unified/notebooks/notebook_template.ipynb\">\n",
    "      <img src=\"https://cloud.google.com/ml-engine/images/github-logo-32px.png\" alt=\"GitHub logo\">\n",
    "      View on GitHub\n",
    "    </a>\n",
    "  </td>\n",
    "</table> -->"
   ]
  },
  {
   "cell_type": "markdown",
   "metadata": {
    "id": "3yTsQctS8QLd"
   },
   "source": [
    "#  Vertex Pipelines: Pytorch resnet CIFAR10 e2e example"
   ]
  },
  {
   "cell_type": "markdown",
   "metadata": {
    "id": "tvgnzT1CKxrO"
   },
   "source": [
    "## Overview\n",
    "\n",
    "Pytorch resnet CIFAR10 e2e example using [Vertex Pipelines](https://cloud.google.com/vertex-ai/docs/pipelines).\n",
    "\n",
    "This `kfp.v2` code currently does not run on OSS KFP, but will be able to soon once the 'v2 compatibility mode' feature is supported.\n"
   ]
  },
  {
   "cell_type": "markdown",
   "metadata": {
    "id": "ze4-nDLfK4pw"
   },
   "source": [
    "### Set up your local development environment\n",
    "\n",
    "**If you are using Colab or Google Cloud Notebooks**, your environment already meets\n",
    "all the requirements to run this notebook. You can skip this step."
   ]
  },
  {
   "cell_type": "markdown",
   "metadata": {
    "id": "gCuSR8GkAgzl"
   },
   "source": [
    "**Otherwise**, make sure your environment meets this notebook's requirements.\n",
    "You need the following:\n",
    "\n",
    "* The Google Cloud SDK\n",
    "* Git\n",
    "* Python 3\n",
    "* virtualenv\n",
    "* Jupyter notebook running in a virtual environment with Python 3\n",
    "\n",
    "The Google Cloud guide to [Setting up a Python development\n",
    "environment](https://cloud.google.com/python/setup) and the [Jupyter\n",
    "installation guide](https://jupyter.org/install) provide detailed instructions\n",
    "for meeting these requirements. The following steps provide a condensed set of\n",
    "instructions:\n",
    "\n",
    "1. [Install and initialize the Cloud SDK.](https://cloud.google.com/sdk/docs/)\n",
    "\n",
    "1. [Install Python 3.](https://cloud.google.com/python/setup#installing_python)\n",
    "\n",
    "1. [Install\n",
    "   virtualenv](https://cloud.google.com/python/setup#installing_and_using_virtualenv)\n",
    "   and create a virtual environment that uses Python 3. Activate the virtual environment.\n",
    "\n",
    "1. To install Jupyter, run `pip install jupyter` on the\n",
    "command-line in a terminal shell.\n",
    "\n",
    "1. To launch Jupyter, run `jupyter notebook` on the command-line in a terminal shell.\n",
    "\n",
    "1. Open this notebook in the Jupyter Notebook Dashboard."
   ]
  },
  {
   "cell_type": "markdown",
   "metadata": {
    "id": "i7EUnXsZhAGF"
   },
   "source": [
    "### Install additional packages\n",
    "\n"
   ]
  },
  {
   "cell_type": "code",
   "execution_count": 2,
   "metadata": {
    "id": "0GlP_C9mY3Gq"
   },
   "outputs": [
    {
     "name": "stdout",
     "output_type": "stream",
     "text": [
      "Project ID: rthallam-demo-project\n"
     ]
    }
   ],
   "source": [
    "PROJECT_ID = 'rthallam-demo-project'  # <---CHANGE THIS"
   ]
  },
  {
   "cell_type": "code",
   "execution_count": 2,
   "metadata": {
    "id": "VkWdxe4TXRHk"
   },
   "outputs": [
    {
     "name": "stdout",
     "output_type": "stream",
     "text": [
      "Updated property [core/project].\n"
     ]
    }
   ],
   "source": [
    "!gcloud config set project {PROJECT_ID}"
   ]
  },
  {
   "cell_type": "markdown",
   "metadata": {
    "id": "FweS1-dyu-Vx"
   },
   "source": [
    "On colab, authenticate first:"
   ]
  },
  {
   "cell_type": "code",
   "execution_count": 3,
   "metadata": {
    "id": "kZQA0KrfXCvU"
   },
   "outputs": [],
   "source": [
    "import sys\n",
    "if 'google.colab' in sys.modules:\n",
    "  from google.colab import auth\n",
    "  auth.authenticate_user()"
   ]
  },
  {
   "cell_type": "markdown",
   "metadata": {
    "id": "ijfOidzcdEWy"
   },
   "source": [
    "Then, install the libraries."
   ]
  },
  {
   "cell_type": "code",
   "execution_count": 4,
   "metadata": {
    "id": "IaYsrh0Tc17L"
   },
   "outputs": [],
   "source": [
    "import sys\n",
    "if 'google.colab' in sys.modules:\n",
    "  USER_FLAG = ''\n",
    "else:\n",
    "  USER_FLAG = '--user'"
   ]
  },
  {
   "cell_type": "code",
   "execution_count": null,
   "metadata": {
    "id": "8KHmtHp6VMZU"
   },
   "outputs": [],
   "source": [
    "!python3 -m pip install {USER_FLAG} torch sklearn webdataset torchvision pytorch-lightning boto3 google-cloud-build --upgrade"
   ]
  },
  {
   "cell_type": "code",
   "execution_count": null,
   "metadata": {
    "id": "aR7LNYMUCVKc"
   },
   "outputs": [],
   "source": [
    "!python3 -m pip install {USER_FLAG} kfp google-cloud-pipeline-components --upgrade"
   ]
  },
  {
   "cell_type": "markdown",
   "metadata": {
    "id": "hhq5zEbGg0XX"
   },
   "source": [
    "### Restart the kernel\n",
    "\n",
    "After you install the additional packages, you need to restart the notebook kernel so it can find the packages."
   ]
  },
  {
   "cell_type": "code",
   "execution_count": 7,
   "metadata": {
    "id": "EzrelQZ22IZj"
   },
   "outputs": [],
   "source": [
    "# Automatically restart kernel after installs\n",
    "import os\n",
    "\n",
    "if not os.getenv(\"IS_TESTING\"):\n",
    "    # Automatically restart kernel after installs\n",
    "    import IPython\n",
    "\n",
    "    app = IPython.Application.instance()\n",
    "    app.kernel.do_shutdown(True)"
   ]
  },
  {
   "cell_type": "markdown",
   "metadata": {
    "id": "6GPgNN7eeX1l"
   },
   "source": [
    "Check the versions of the packages you installed.  The KFP SDK version should be >=1.6."
   ]
  },
  {
   "cell_type": "code",
   "execution_count": 1,
   "metadata": {
    "id": "NN0mULkEeb84"
   },
   "outputs": [
    {
     "name": "stdout",
     "output_type": "stream",
     "text": [
      "KFP SDK version: 1.6.2\n"
     ]
    }
   ],
   "source": [
    "!python3 -c \"import kfp; print('KFP SDK version: {}'.format(kfp.__version__))\""
   ]
  },
  {
   "cell_type": "markdown",
   "metadata": {
    "id": "lWEdiXsJg0XY"
   },
   "source": [
    "## Before you begin\n",
    "\n",
    "This notebook does not require a GPU runtime."
   ]
  },
  {
   "cell_type": "markdown",
   "metadata": {
    "id": "BF1j6f9HApxa"
   },
   "source": [
    "### Set up your Google Cloud project\n",
    "\n",
    "**The following steps are required, regardless of your notebook environment.**\n",
    "\n",
    "1. [Select or create a Google Cloud project](https://console.cloud.google.com/cloud-resource-manager). When you first create an account, you get a $300 free credit towards your compute/storage costs.\n",
    "\n",
    "1. [Make sure that billing is enabled for your project](https://cloud.google.com/billing/docs/how-to/modify-project).\n",
    "\n",
    "1. [Enable the Vertex AI API and Compute Engine API](https://console.cloud.google.com/flows/enableapi?apiid=aiplatform.googleapis.com,compute_component). \n",
    "Also [enable the Cloud Build API](https://console.cloud.google.com/flows/enableapi?apiid=cloudbuild.googleapis.com).\n",
    "\n",
    "1. If you are running this notebook locally, you will need to install the [Cloud SDK](https://cloud.google.com/sdk).\n",
    "\n",
    "1. Enter your project ID in the cell below. Then run the cell to make sure the\n",
    "Cloud SDK uses the right project for all the commands in this notebook.\n",
    "\n",
    "**Note**: Jupyter runs lines prefixed with `!` as shell commands, and it interpolates Python variables prefixed with `$` into these commands."
   ]
  },
  {
   "cell_type": "markdown",
   "metadata": {
    "id": "WReHDGG5g0XY"
   },
   "source": [
    "#### Set your project ID\n",
    "\n",
    "**If you don't know your project ID**, you may be able to get your project ID using `gcloud`."
   ]
  },
  {
   "cell_type": "code",
   "execution_count": 1,
   "metadata": {
    "id": "oM1iC_MfAts1"
   },
   "outputs": [
    {
     "name": "stdout",
     "output_type": "stream",
     "text": [
      "Project ID:  rthallam-demo-project\n"
     ]
    }
   ],
   "source": [
    "import os\n",
    "# Get your Google Cloud project ID from gcloud\n",
    "shell_output=!gcloud config list --format 'value(core.project)' 2>/dev/null\n",
    "\n",
    "try:\n",
    "    PROJECT_ID = shell_output[0]\n",
    "except IndexError:\n",
    "    PROJECT_ID = None\n",
    "\n",
    "# Get your Google Cloud project ID from gcloud\n",
    "if not os.getenv(\"IS_TESTING\"):\n",
    "    shell_output=!gcloud config list --format 'value(core.project)' 2>/dev/null\n",
    "    PROJECT_ID = shell_output[0]\n",
    "    print(\"Project ID: \", PROJECT_ID)"
   ]
  },
  {
   "cell_type": "markdown",
   "metadata": {
    "id": "qJYoRfYng0XZ"
   },
   "source": [
    "Otherwise, set your project ID here."
   ]
  },
  {
   "cell_type": "code",
   "execution_count": 2,
   "metadata": {
    "id": "riG_qUokg0XZ"
   },
   "outputs": [],
   "source": [
    "if PROJECT_ID == \"\" or PROJECT_ID is None:\n",
    "    PROJECT_ID = \"python-docs-samples-tests\"  # @param {type:\"string\"}"
   ]
  },
  {
   "cell_type": "markdown",
   "metadata": {
    "id": "06571eb4063b"
   },
   "source": [
    "#### Timestamp\n",
    "\n",
    "If you are in a live tutorial session, you might be using a shared test account or project. To avoid name collisions between users on resources created, you create a timestamp for each instance session, and append it onto the name of resources you create in this tutorial."
   ]
  },
  {
   "cell_type": "code",
   "execution_count": 3,
   "metadata": {
    "id": "697568e92bd6"
   },
   "outputs": [],
   "source": [
    "from datetime import datetime\n",
    "\n",
    "TIMESTAMP = datetime.now().strftime(\"%Y%m%d%H%M%S\")"
   ]
  },
  {
   "cell_type": "markdown",
   "metadata": {
    "id": "dr--iN2kAylZ"
   },
   "source": [
    "### Authenticate your Google Cloud account\n",
    "\n",
    "**If you are using AI Platform Notebooks**, your environment is already\n",
    "authenticated. Skip this step."
   ]
  },
  {
   "cell_type": "markdown",
   "metadata": {
    "id": "sBCra4QMA2wR"
   },
   "source": [
    "**If you are using Colab**, run the cell below and follow the instructions\n",
    "when prompted to authenticate your account via oAuth.\n",
    "\n",
    "**Otherwise**, follow these steps:\n",
    "\n",
    "1. In the Cloud Console, go to the [**Create service account key**\n",
    "   page](https://console.cloud.google.com/apis/credentials/serviceaccountkey).\n",
    "\n",
    "2. Click **Create service account**.\n",
    "\n",
    "3. In the **Service account name** field, enter a name, and\n",
    "   click **Create**.\n",
    "\n",
    "4. In the **Grant this service account access to project** section, click the **Role** drop-down list. Type \"AI Platform\"\n",
    "into the filter box, and select\n",
    "   **AI Platform Administrator**. Type \"Storage Object Admin\" into the filter box, and select **Storage Object Admin**.\n",
    "\n",
    "5. Click *Create*. A JSON file that contains your key downloads to your\n",
    "local environment.\n",
    "\n",
    "6. Enter the path to your service account key as the\n",
    "`GOOGLE_APPLICATION_CREDENTIALS` variable in the cell below and run the cell."
   ]
  },
  {
   "cell_type": "code",
   "execution_count": 4,
   "metadata": {
    "id": "PyQmSRbKA8r-"
   },
   "outputs": [],
   "source": [
    "import os\n",
    "import sys\n",
    "\n",
    "# If you are running this notebook in Colab, run this cell and follow the\n",
    "# instructions to authenticate your GCP account. This provides access to your\n",
    "# Cloud Storage bucket and lets you submit training jobs and prediction\n",
    "# requests.\n",
    "\n",
    "# If on AI Platform, then don't execute this code\n",
    "if not os.path.exists(\"/opt/deeplearning/metadata/env_version\"):\n",
    "    if \"google.colab\" in sys.modules:\n",
    "        from google.colab import auth as google_auth\n",
    "\n",
    "        google_auth.authenticate_user()\n",
    "\n",
    "    # If you are running this notebook locally, replace the string below with the\n",
    "    # path to your service account key and run this cell to authenticate your GCP\n",
    "    # account.\n",
    "    elif not os.getenv(\"IS_TESTING\"):\n",
    "        %env GOOGLE_APPLICATION_CREDENTIALS ''"
   ]
  },
  {
   "cell_type": "markdown",
   "metadata": {
    "id": "NxhCPW6e46EF"
   },
   "source": [
    "### Create a Cloud Storage bucket as necessary\n",
    "\n",
    "You will need a Cloud Storage bucket for this example.  If you don't have one that you want to use, you can make one now.\n",
    "\n",
    "\n",
    "Set the name of your Cloud Storage bucket below. It must be unique across all\n",
    "Cloud Storage buckets.\n",
    "\n",
    "You may also change the `REGION` variable, which is used for operations\n",
    "throughout the rest of this notebook. Make sure to [choose a region where AI Platform (Unified) services are\n",
    "available](https://cloud.google.com/ai-platform-unified/docs/general/locations#available_regions). You may\n",
    "not use a Multi-Regional Storage bucket for training with AI Platform.\n",
    "\n",
    "**Change the bucket name below** before running the next cell."
   ]
  },
  {
   "cell_type": "code",
   "execution_count": 5,
   "metadata": {
    "id": "kZPew6MljTcP"
   },
   "outputs": [],
   "source": [
    "BUCKET_NAME = \"gs://cloud-ai-platform-2f444b6a-a742-444b-b91a-c7519f51bd77\"  # @param {type:\"string\"}\n",
    "REGION = \"us-central1\"  # @param {type:\"string\"}"
   ]
  },
  {
   "cell_type": "code",
   "execution_count": 6,
   "metadata": {
    "id": "cf221059d072"
   },
   "outputs": [],
   "source": [
    "if BUCKET_NAME == \"\" or BUCKET_NAME is None or BUCKET_NAME == \"gs://[your-bucket-name]\":\n",
    "    BUCKET_NAME = \"gs://\" + PROJECT_ID + \"aip-\" + TIMESTAMP"
   ]
  },
  {
   "cell_type": "markdown",
   "metadata": {
    "id": "-EcIXiGsCePi"
   },
   "source": [
    "**Only if your bucket doesn't already exist**: Run the following cell to create your Cloud Storage bucket."
   ]
  },
  {
   "cell_type": "code",
   "execution_count": null,
   "metadata": {
    "id": "NIq7R4HZCfIc"
   },
   "outputs": [],
   "source": [
    "! gsutil mb -l $REGION $BUCKET_NAME"
   ]
  },
  {
   "cell_type": "markdown",
   "metadata": {
    "id": "ucvCsknMCims"
   },
   "source": [
    "Finally, validate access to your Cloud Storage bucket by examining its contents:"
   ]
  },
  {
   "cell_type": "code",
   "execution_count": null,
   "metadata": {
    "id": "vhOb7YnwClBb"
   },
   "outputs": [],
   "source": [
    "! gsutil ls -al $BUCKET_NAME"
   ]
  },
  {
   "cell_type": "markdown",
   "metadata": {
    "id": "e3EQyqZiEMmf"
   },
   "source": [
    "### Import libraries and define constants"
   ]
  },
  {
   "cell_type": "markdown",
   "metadata": {
    "id": "lNV3Jd8BEMmj"
   },
   "source": [
    "\n",
    "\n",
    "Define some constants. See the \"Before you begin\" section of the Managed Pipelines User Guide for information on creating your API key.\n"
   ]
  },
  {
   "cell_type": "code",
   "execution_count": 7,
   "metadata": {
    "id": "UwT_YZM6W5Pj"
   },
   "outputs": [
    {
     "name": "stdout",
     "output_type": "stream",
     "text": [
      "env: PATH=/usr/local/cuda/bin:/opt/conda/bin:/opt/conda/condabin:/usr/local/bin:/usr/bin:/bin:/usr/local/games:/usr/games:/home/jupyter/.local/bin\n"
     ]
    },
    {
     "data": {
      "text/plain": [
       "'gs://cloud-ai-platform-2f444b6a-a742-444b-b91a-c7519f51bd77/pipeline_root/rthallam'"
      ]
     },
     "execution_count": 7,
     "metadata": {},
     "output_type": "execute_result"
    }
   ],
   "source": [
    "PATH=%env PATH\n",
    "%env PATH={PATH}:/home/jupyter/.local/bin\n",
    "\n",
    "USER = 'rthallam' # <---CHANGE THIS\n",
    "PIPELINE_ROOT = '{}/pipeline_root/{}'.format(BUCKET_NAME, USER)\n",
    "\n",
    "PIPELINE_ROOT"
   ]
  },
  {
   "cell_type": "markdown",
   "metadata": {
    "id": "wbY_UZSvEMmk"
   },
   "source": [
    "Do some imports:"
   ]
  },
  {
   "cell_type": "code",
   "execution_count": 8,
   "metadata": {
    "id": "lnz2aQ_EEMmk"
   },
   "outputs": [],
   "source": [
    "import json\n",
    "from typing import NamedTuple\n",
    "\n",
    "\n",
    "from kfp import dsl\n",
    "from kfp.v2 import compiler\n",
    "from typing import NamedTuple\n",
    "from kfp.v2 import dsl\n",
    "from kfp.v2.dsl import (\n",
    "    component,\n",
    "    InputPath,\n",
    "    OutputPath,\n",
    "    Input,\n",
    "    Output,\n",
    "    Artifact,\n",
    "    Dataset,\n",
    "    Model,\n",
    "    ClassificationMetrics,\n",
    "    Metrics,\n",
    ")\n",
    "\n",
    "from kfp.v2.google.client import AIPlatformClient\n",
    "\n",
    "from google_cloud_pipeline_components import aiplatform as gcc_aip"
   ]
  },
  {
   "cell_type": "markdown",
   "metadata": {
    "id": "ZzmFXOmeXLiT"
   },
   "source": [
    "## Define the pipeline components\n",
    "\n"
   ]
  },
  {
   "cell_type": "markdown",
   "metadata": {
    "id": "z5BhmbvC9hML"
   },
   "source": [
    "### (Optional, not necessary to run the example) Create base images from modified version of repo code\n",
    "\n",
    "To run the example, you can just use the public images below.  Here's the info on building the images.\n",
    "\n",
    "Download and unzip the zip file [in this folder](https://drive.google.com/drive/folders/1_rX4UaI3h4rcciJhZcyJA2CatzfwNw_r?usp=sharing), and build an image using the `Dockerfile` in the top-level directory, then push it to gcr.\n",
    "Then  build an image for `Dockerfile-gpu`.\n",
    "\n",
    "What's currently different from the repo version (at time of copy):\n",
    "- changed (and moved) the Dockerfile, added a GPU version of the dockerfile.\n",
    "- copied these two files to the pytorch-pipelines top-level dir: `cifar10_train.py`, `cifar10_datamodule.py`\n",
    "- changed one file, `pytorch_pipeline/components/trainer/executor.py`, according to [this patch](https://drive.google.com/file/d/1djdMxroHKu9O024_Eq8zU-RM_Q77zPXK/view?usp=sharing), to get rid of the minio stuff\n",
    "\n",
    "**Edit the next cell** to point to your image builds."
   ]
  },
  {
   "cell_type": "code",
   "execution_count": 9,
   "metadata": {
    "id": "e_L9GVO3v_rT"
   },
   "outputs": [],
   "source": [
    "CONTAINER_URI = \"gcr.io/google-samples/pytorch-pl:v1\"\n",
    "GPU_CONTAINER_URI = \"gcr.io/google-samples/pytorch-pl-gpu:v1\""
   ]
  },
  {
   "cell_type": "markdown",
   "metadata": {
    "id": "9k2-Z9P6TePz"
   },
   "source": [
    "### Define the 'preprocess' component"
   ]
  },
  {
   "cell_type": "markdown",
   "metadata": {
    "id": "T8IxJuZ_YCHi"
   },
   "source": [
    "The preproc component is an adapted version of `examples/cifar10/cifar10_pre_process.py`."
   ]
  },
  {
   "cell_type": "code",
   "execution_count": 10,
   "metadata": {
    "id": "2AqjrSGjXS24"
   },
   "outputs": [],
   "source": [
    "@component(\n",
    "    base_image=CONTAINER_URI,\n",
    "    output_component_file=\"cifar_preproc.yaml\",\n",
    ")\n",
    "def cifar_preproc(\n",
    "    cifar_dataset: Output[Dataset],\n",
    "):\n",
    "\n",
    "    import subprocess\n",
    "    import logging\n",
    "    from pathlib import Path\n",
    "\n",
    "    import torchvision\n",
    "    import webdataset as wds\n",
    "    from sklearn.model_selection import train_test_split\n",
    "\n",
    "    logging.getLogger().setLevel(logging.INFO)\n",
    "    logging.info(\"Dataset path is: %s\", cifar_dataset.path)\n",
    "    output_pth = cifar_dataset.path\n",
    "\n",
    "    Path(output_pth).mkdir(parents=True, exist_ok=True)\n",
    "\n",
    "    trainset = torchvision.datasets.CIFAR10(\n",
    "        root=\"./\", train=True, download=True\n",
    "    )\n",
    "    testset = torchvision.datasets.CIFAR10(\n",
    "        root=\"./\", train=False, download=True\n",
    "    )\n",
    "\n",
    "    Path(output_pth + \"/train\").mkdir(parents=True, exist_ok=True)\n",
    "    Path(output_pth + \"/val\").mkdir(parents=True, exist_ok=True)\n",
    "    Path(output_pth + \"/test\").mkdir(parents=True, exist_ok=True)\n",
    "\n",
    "    random_seed = 25\n",
    "    y = trainset.targets\n",
    "    trainset, valset, y_train, y_val = train_test_split(\n",
    "        trainset,\n",
    "        y,\n",
    "        stratify=y,\n",
    "        shuffle=True,\n",
    "        test_size=0.2,\n",
    "        random_state=random_seed,\n",
    "    )\n",
    "\n",
    "    for name in [(trainset, \"train\"), (valset, \"val\"), (testset, \"test\")]:\n",
    "        with wds.ShardWriter(\n",
    "            output_pth + \"/\" + str(name[1]) + \"/\" + str(name[1]) + \"-%d.tar\",\n",
    "            maxcount=1000,\n",
    "        ) as sink:\n",
    "            for index, (image, cls) in enumerate(name[0]):\n",
    "                sink.write(\n",
    "                    {\"__key__\": \"%06d\" % index, \"ppm\": image, \"cls\": cls}\n",
    "                )\n",
    "\n",
    "    entry_point = [\"ls\", \"-R\", output_pth]\n",
    "    run_code = subprocess.run(entry_point, stdout=subprocess.PIPE)\n",
    "    print(run_code.stdout)\n"
   ]
  },
  {
   "cell_type": "markdown",
   "metadata": {
    "id": "XEBbfj09iobC"
   },
   "source": [
    "### Define a component to create torchserve `Dockerfile` and `config.properties` files from the pipeline params\n",
    "\n",
    "(**TODO**: a more robust approach would be to read from and modify template files rather than defining them inline).\n",
    "\n",
    "This version uses the `json` service envelope.  \n",
    "\n",
    "**TODO**: use `kfserving` service envelope. For some reason that version failed to deploy successfully to ucaip prediction."
   ]
  },
  {
   "cell_type": "code",
   "execution_count": 11,
   "metadata": {
    "id": "wA2W7Lzyi62t"
   },
   "outputs": [],
   "source": [
    "@component(\n",
    "    # base_image=CONTAINER_URI,\n",
    "    output_component_file=\"cifar_config.yaml\",\n",
    ")\n",
    "def cifar_config(\n",
    "    mar_model_name: str,\n",
    "    version: str,\n",
    "    port: int,\n",
    "    cifar_config: Output[Artifact],\n",
    "):\n",
    "    import os\n",
    "    from pathlib import Path\n",
    "  \n",
    "    Path(cifar_config.path).mkdir(parents=True, exist_ok=True)\n",
    "\n",
    "    config_properties = f\"\"\"inference_address=http://0.0.0.0:{port}\n",
    "management_address=http://0.0.0.0:8081\n",
    "metrics_address=http://0.0.0.0:8082\n",
    "enable_metrics_api=true\n",
    "metrics_format=prometheus\n",
    "number_of_netty_threads=4\n",
    "job_queue_size=10\n",
    "service_envelope=kfserving\n",
    "model_store=/home/model-server/model-store\n",
    "model_snapshot={{\"name\":\"startup.cfg\",\"modelCount\":1,\"models\":{{\"{mar_model_name}\":{{\"{version}\":{{\"defaultVersion\":true,\"marName\":\"{mar_model_name}.mar\",\"minWorkers\":1,\"maxWorkers\":5,\"batchSize\":1,\"maxBatchDelay\":5000,\"responseTimeout\":120}}}}}}}}\n",
    "\"\"\"\n",
    "\n",
    "    # write to artifact dir\n",
    "    properties_path = os.path.join(cifar_config.path, 'config.properties')\n",
    "    with open(properties_path, \"w\") as f:\n",
    "      f.write(config_properties)\n",
    "\n",
    "    torchserve_dockerfile_str = f\"\"\"FROM pytorch/torchserve:0.3.0-cpu\n",
    "\n",
    "RUN pip install --upgrade pip\n",
    "RUN pip install grpcio==1.32.0\n",
    "RUN pip install pytorch-lightning\n",
    "\n",
    "COPY config.properties /home/model-server/config.properties\n",
    "COPY {mar_model_name}.mar /home/model-server/model-store/\n",
    "\"\"\"\n",
    "    # write to artifact dir\n",
    "    dockerfile_path = os.path.join(cifar_config.path, 'Dockerfile')\n",
    "    with open(dockerfile_path, \"w\") as f:\n",
    "      f.write(torchserve_dockerfile_str)\n",
    "\n"
   ]
  },
  {
   "cell_type": "markdown",
   "metadata": {
    "id": "wLG03qV3ihUe"
   },
   "source": [
    "### Define the `train` component"
   ]
  },
  {
   "cell_type": "markdown",
   "metadata": {
    "id": "Pq_ZZnis1yAz"
   },
   "source": [
    "The train component will take as input the `Dataset` generated in the preproc component above, using that as the data source; and write its training data to the `Model` artifact's GCSFuse path.  That means that the trained model info is in GCS.  (However, it's not yet in a format that TB can handle).\n",
    "\n",
    "This component is an adapted version of `examples/cifar10/cifar10_pytorch.py`.  The modifications include skipping the 'mar' step, which is factored out as a separate pipeline component."
   ]
  },
  {
   "cell_type": "code",
   "execution_count": 12,
   "metadata": {
    "id": "I6zST7PbHgCV"
   },
   "outputs": [],
   "source": [
    "@component(\n",
    "    base_image=GPU_CONTAINER_URI,\n",
    "    output_component_file=\"cifar_train.yaml\",\n",
    ")\n",
    "def cifar_train(\n",
    "    model_name: str,\n",
    "    max_epochs: int,\n",
    "    cifar_dataset: Input[Dataset],\n",
    "    cifar_model: Output[Model],\n",
    "):\n",
    "\n",
    "    import pytorch_lightning as pl\n",
    "    import logging\n",
    "    import os\n",
    "    import sys\n",
    "\n",
    "    from pytorch_pipeline.components.trainer.component import Trainer\n",
    "    from argparse import ArgumentParser\n",
    "    from pytorch_lightning.loggers import TensorBoardLogger\n",
    "    from pytorch_lightning.callbacks import (\n",
    "        EarlyStopping,\n",
    "        LearningRateMonitor,\n",
    "        ModelCheckpoint,\n",
    "    )\n",
    "\n",
    "    logging.getLogger().setLevel(logging.INFO)\n",
    "    logging.info('datset root path: %s', cifar_dataset.path)\n",
    "    logging.info('model root path: %s', cifar_model.path)\n",
    "    model_output_root = cifar_model.path\n",
    "\n",
    "\n",
    "    # Argument parser for user defined paths\n",
    "    parser = ArgumentParser()\n",
    "\n",
    "    parser.add_argument(\n",
    "        \"--tensorboard_root\",\n",
    "        type=str,\n",
    "        default=f\"{model_output_root}/tensorboard\",\n",
    "        help=\"Tensorboard Root path (default: output/tensorboard)\",\n",
    "    )\n",
    "\n",
    "    parser.add_argument(\n",
    "        \"--checkpoint_dir\",\n",
    "        type=str,\n",
    "        default=f\"{model_output_root}/train/models\",\n",
    "        help=\"Path to save model checkpoints \",\n",
    "    )\n",
    "\n",
    "    parser.add_argument(\n",
    "        \"--dataset_path\",\n",
    "        type=str,\n",
    "        default=cifar_dataset.path,\n",
    "        help=\"Cifar10 Dataset path (default: output/processing)\",\n",
    "    )\n",
    "\n",
    "    parser.add_argument(\n",
    "        \"--model_name\",\n",
    "        type=str,\n",
    "        default=\"resnet.pth\",\n",
    "        help=\"Name of the model to be saved as (default: resnet.pth)\",\n",
    "    )\n",
    "\n",
    "    sys.argv = sys.argv[:1]\n",
    "\n",
    "    logging.info('datset root path: %s', cifar_dataset.path)\n",
    "    logging.info('model root path: %s', cifar_model.path)   \n",
    "\n",
    "    parser = pl.Trainer.add_argparse_args(parent_parser=parser)\n",
    "    args = vars(parser.parse_args())\n",
    "    logging.info('args after processing: %s', args)\n",
    "    print('args after processing: {}'.format(args), flush=True)\n",
    " \n",
    "    # Enabling Tensorboard Logger, ModelCheckpoint, Earlystopping\n",
    "    lr_logger = LearningRateMonitor()\n",
    "    tboard = TensorBoardLogger(f\"{model_output_root}/tensorboard\")\n",
    "\n",
    "    early_stopping = EarlyStopping(monitor=\"val_loss\", mode=\"min\", patience=5, verbose=True)\n",
    "    checkpoint_callback = ModelCheckpoint(\n",
    "        dirpath=f\"{model_output_root}/train/models\",\n",
    "        filename=\"cifar10_{epoch:02d}\",\n",
    "        save_top_k=1,\n",
    "        verbose=True,\n",
    "        monitor=\"val_loss\",\n",
    "        mode=\"min\",\n",
    "    )\n",
    "\n",
    "    # Setting the trainer specific arguments\n",
    "    trainer_args = {\n",
    "        \"logger\": tboard,\n",
    "        \"profiler\": \"pytorch\",\n",
    "        \"checkpoint_callback\": True,\n",
    "        \"max_epochs\": max_epochs,\n",
    "        \"callbacks\": [lr_logger, early_stopping, checkpoint_callback],\n",
    "        \"gpus\": 1\n",
    "    }\n",
    "\n",
    "    # Setting the datamodule specific arguments\n",
    "    data_module_args = {\"train_glob\": cifar_dataset.path}\n",
    "\n",
    "    # Initiating the training process\n",
    "    logging.info(\"about to call the Trainer...\")\n",
    "\n",
    "    trainer = Trainer(\n",
    "        module_file=\"cifar10_train.py\",\n",
    "        data_module_file=\"cifar10_datamodule.py\",\n",
    "        module_file_args=parser,\n",
    "        data_module_args=data_module_args,\n",
    "        trainer_args=trainer_args,\n",
    "    )\n",
    "\n"
   ]
  },
  {
   "cell_type": "markdown",
   "metadata": {
    "id": "lvhwyAIo858M"
   },
   "source": [
    "### Define the 'mar' component\n",
    "\n",
    "This version leverages Artifacts (& GCSFuse under the hood) instead of minio.\n"
   ]
  },
  {
   "cell_type": "code",
   "execution_count": 13,
   "metadata": {
    "id": "87szStMs9EIV"
   },
   "outputs": [],
   "source": [
    "@component(\n",
    "    base_image=CONTAINER_URI,\n",
    "    output_component_file=\"mar.yaml\",\n",
    ")\n",
    "def generate_mar_file(\n",
    "    model_name: str,\n",
    "    mar_model_name: str,\n",
    "    handler: str,\n",
    "    version: str,\n",
    "    config_properties: str,\n",
    "    cifar_model: Input[Model],\n",
    "    cifar_mar: Output[Model],\n",
    "):\n",
    "\n",
    "    import logging\n",
    "    import pytorch_lightning as pl\n",
    "    import os\n",
    "    import subprocess\n",
    "\n",
    "    from pathlib import Path\n",
    "\n",
    "    # from pytorch_pipeline.components.mar.mar_generation import MarGeneration\n",
    "\n",
    "    def _validate_mar_config(mar_config):\n",
    "        mandatory_args = [\n",
    "            \"MODEL_NAME\",\n",
    "            \"SERIALIZED_FILE\",\n",
    "            \"MODEL_FILE\",\n",
    "            \"HANDLER\",\n",
    "            \"VERSION\",\n",
    "            \"CONFIG_PROPERTIES\",\n",
    "        ]\n",
    "        missing_list = []\n",
    "        for key in mandatory_args:\n",
    "            if key not in mar_config:\n",
    "                missing_list.append(key)\n",
    "\n",
    "        if missing_list:\n",
    "            logging.warning(\"The following Mandatory keys are missing in the config file {} \".format(\n",
    "                    missing_list))\n",
    "            raise Exception(\n",
    "                \"Following Mandatory keys are missing in the config file {} \".format(\n",
    "                    missing_list))\n",
    "\n",
    "    logging.getLogger().setLevel(logging.INFO)\n",
    "\n",
    "    model_output_root = cifar_model.path\n",
    "    mar_output_root = cifar_mar.path\n",
    "    export_path = f\"{mar_output_root}/model-store\"\n",
    "    Path(export_path).mkdir(parents=True, exist_ok=True)\n",
    "\n",
    "    mar_config = {\n",
    "        \"MODEL_NAME\": mar_model_name,\n",
    "        \"MODEL_FILE\": \"pytorch_pipeline/examples/cifar10/cifar10_train.py\",\n",
    "        # \"HANDLER\": \"image_classifier\",\n",
    "        \"HANDLER\": handler,\n",
    "        \"SERIALIZED_FILE\": os.path.join(\n",
    "            # args[\"checkpoint_dir\"], args[\"model_name\"]\n",
    "            f\"{model_output_root}/train/models\",\n",
    "            model_name,\n",
    "        ),\n",
    "        # \"VERSION\": \"1\",\n",
    "        \"VERSION\": version,\n",
    "        # \"EXPORT_PATH\": args[\"checkpoint_dir\"],\n",
    "        \"EXPORT_PATH\": f\"{cifar_mar.path}/model-store\",\n",
    "        # \"CONFIG_PROPERTIES\": \"https://kubeflow-dataset.s3.us-east-2.amazonaws.com/config.properties\",\n",
    "        \"CONFIG_PROPERTIES\": config_properties,\n",
    "    }\n",
    "    logging.warning(\"mar_config: %s\", mar_config)\n",
    "    print(f\"mar_config: {mar_config}\")\n",
    "    try:\n",
    "        logging.info(\"validating config\")\n",
    "        _validate_mar_config(mar_config)\n",
    "    # temp testing\n",
    "    except Exception as e:\n",
    "      logging.warning(e)\n",
    "      # return\n",
    "\n",
    "    archiver_cmd = \"torch-model-archiver --force --model-name {MODEL_NAME} --serialized-file {SERIALIZED_FILE} --model-file {MODEL_FILE} --handler {HANDLER} -v {VERSION}\".format(\n",
    "        MODEL_NAME=mar_config[\"MODEL_NAME\"],\n",
    "        SERIALIZED_FILE=mar_config[\"SERIALIZED_FILE\"],\n",
    "        MODEL_FILE=mar_config[\"MODEL_FILE\"],\n",
    "        HANDLER=mar_config[\"HANDLER\"],\n",
    "        VERSION=mar_config[\"VERSION\"],\n",
    "    )\n",
    "    if \"EXPORT_PATH\" in mar_config:\n",
    "        archiver_cmd += \" --export-path {EXPORT_PATH}\".format(\n",
    "            EXPORT_PATH=mar_config[\"EXPORT_PATH\"]\n",
    "        )\n",
    "\n",
    "    if \"EXTRA_FILES\" in mar_config:\n",
    "        archiver_cmd += \" --extra_files {EXTRA_FILES}\".format(\n",
    "            EXTRA_FILES=mar_config[\"EXTRA_FILES\"]\n",
    "        )\n",
    "\n",
    "    if \"REQUIREMENTS_FILE\" in mar_config:\n",
    "        archiver_cmd += \" -r {REQUIREMENTS_FILE}\".format(\n",
    "            REQUIREMENTS_FILE=mar_config[\"REQUIREMENTS_FILE\"]\n",
    "        )\n",
    "\n",
    "    print(\"Running Archiver cmd: \", archiver_cmd)\n",
    "    logging.warning(\"archiver command: %s\", archiver_cmd)\n",
    "\n",
    "    try:\n",
    "        return_code = subprocess.Popen(archiver_cmd, shell=True).wait()\n",
    "        if return_code != 0:\n",
    "            error_msg = (\n",
    "                \"Error running command {archiver_cmd} {return_code}\".format(\n",
    "                    archiver_cmd=archiver_cmd, return_code=return_code\n",
    "                )\n",
    "            )\n",
    "            print(error_msg)\n",
    "    except Exception as e:\n",
    "        logging.warning(e)\n",
    "        # raise Exception(\"Unable to create mar file: {error_msg}\".format(error_msg=error_msg))\n"
   ]
  },
  {
   "cell_type": "markdown",
   "metadata": {
    "id": "d7gWcJgdvJiL"
   },
   "source": [
    "### Define the component to build a torchserve docker image\n",
    "\n",
    "This component uses the results of the 'config' component.\n"
   ]
  },
  {
   "cell_type": "code",
   "execution_count": 14,
   "metadata": {
    "id": "Hv8_CxG6vRPc"
   },
   "outputs": [],
   "source": [
    "@component(\n",
    "    base_image=\"gcr.io/deeplearning-platform-release/tf2-gpu.2-3:latest\",\n",
    "    output_component_file=\"build_image.yaml\",\n",
    ")\n",
    "def build_torchserve_image(\n",
    "    model_name: str,\n",
    "    cifar_mar: Input[Model],\n",
    "    cifar_config: Input[Artifact],\n",
    "    project: str,\n",
    ")-> NamedTuple(\n",
    "    \"Outputs\",\n",
    "    [\n",
    "        (\"serving_container_uri\", str), \n",
    "    ],\n",
    "):\n",
    "\n",
    "    from datetime import datetime\n",
    "    import logging\n",
    "    import os\n",
    "\n",
    "    # from pathlib import Path\n",
    "    # import subprocess\n",
    "    import google.auth\n",
    "    from google.cloud.devtools import cloudbuild_v1\n",
    "\n",
    "    logging.getLogger().setLevel(logging.INFO)\n",
    "    credentials, project_id = google.auth.default()\n",
    "    client = cloudbuild_v1.services.cloud_build.CloudBuildClient()\n",
    "\n",
    "    mar_model_name = f\"{model_name}.mar\"\n",
    "    build_version = datetime.now().strftime(\"%Y%m%d%H%M%S\")\n",
    "\n",
    "    dockerfile_path = os.path.join(cifar_config.path, 'Dockerfile')\n",
    "    gs_dockerfile_path = dockerfile_path.replace(\"/gcs/\", \"gs://\")\n",
    "    config_prop_path = os.path.join(cifar_config.path, 'config.properties')\n",
    "    gs_config_prop_path = config_prop_path.replace(\"/gcs/\", \"gs://\")\n",
    "\n",
    "    export_path = f\"{cifar_mar.path}/model-store\"\n",
    "    model_path = os.path.join(export_path, mar_model_name)\n",
    "    gs_model_path = model_path.replace(\"/gcs/\", \"gs://\")\n",
    "    logging.warning(\"gs_model_path: %s\", gs_model_path)\n",
    "    # config_properties_path = (\n",
    "    #     \"/gcs/aju-pipelines/pytorch_temp/cifar_config/config.properties\"\n",
    "    # )\n",
    "    image_uri = f\"gcr.io/{project}/torchservetest:{build_version}\"\n",
    "    logging.info(\"image uri: %s\", image_uri)\n",
    "\n",
    "    build = cloudbuild_v1.Build(\n",
    "        images=[image_uri]\n",
    "    )\n",
    "    build.steps = [\n",
    "        {\n",
    "            \"name\": \"gcr.io/cloud-builders/gsutil\",\n",
    "            \"args\": [\n",
    "                \"cp\",\n",
    "                gs_config_prop_path,\n",
    "                \"config.properties\",\n",
    "            ],\n",
    "        },\n",
    "        {\n",
    "            \"name\": \"gcr.io/cloud-builders/gsutil\",\n",
    "            \"args\": [\"cp\", f\"{gs_model_path}\", f\"{mar_model_name}\"],\n",
    "        },\n",
    "        {\n",
    "            \"name\": \"gcr.io/cloud-builders/gsutil\",\n",
    "            \"args\": [\n",
    "                \"cp\",\n",
    "                gs_dockerfile_path,\n",
    "                \"Dockerfile\",\n",
    "            ],\n",
    "        },\n",
    "        {\n",
    "          \"name\": 'gcr.io/cloud-builders/docker',\n",
    "          \"args\": [ 'build', '-t', image_uri, '.' ]\n",
    "        }\n",
    "    ]\n",
    "    operation = client.create_build(project_id=project, build=build)\n",
    "    print(\"IN PROGRESS:\")\n",
    "    print(operation.metadata)\n",
    "\n",
    "    result = operation.result()\n",
    "    # Print the completed status\n",
    "    print(\"RESULT:\", result.status)\n",
    "    return(image_uri,)\n",
    "\n"
   ]
  },
  {
   "cell_type": "markdown",
   "metadata": {
    "id": "t3uNZryMj8VW"
   },
   "source": [
    "### Build Tensorboard (on CAIP Notebooks) component\n",
    "\n",
    "(Work in progress)"
   ]
  },
  {
   "cell_type": "code",
   "execution_count": 15,
   "metadata": {
    "id": "j79ndWMij8VY"
   },
   "outputs": [],
   "source": [
    "@component(\n",
    "    base_image=\"gcr.io/deeplearning-platform-release/tf2-gpu.2-3:latest\",\n",
    "    output_component_file=\"build_tb_image.yaml\",\n",
    "    packages_to_install=['google-cloud-notebooks']\n",
    ")\n",
    "def build_tb_image(\n",
    "    project: str,\n",
    "    project_num: str,\n",
    "    zone: str,\n",
    "    cifar_model: Input[Model],\n",
    "    training_path_info: str,\n",
    "    tb_config: Output[Artifact],\n",
    ") -> NamedTuple(\"Outputs\", [(\"tb_serving_container_uri\", str),],):\n",
    "\n",
    "    from datetime import datetime\n",
    "    import logging\n",
    "    import os\n",
    "\n",
    "    from pathlib import Path\n",
    "    import subprocess\n",
    "    import google.auth\n",
    "    from google.cloud.devtools import cloudbuild_v1\n",
    "    from google.cloud import notebooks\n",
    "\n",
    "    Path(tb_config.path).mkdir(parents=True, exist_ok=True)\n",
    "    Path(training_path_info).mkdir(parents=True, exist_ok=True)\n",
    "\n",
    "    logging.getLogger().setLevel(logging.INFO)\n",
    "    credentials, project_id = google.auth.default()\n",
    "    client = cloudbuild_v1.services.cloud_build.CloudBuildClient()\n",
    "\n",
    "    # mar_model_name = f\"{model_name}.mar\"\n",
    "    build_version = datetime.now().strftime(\"%Y%m%d%H%M%S\")\n",
    "\n",
    "    # model_path = os.path.join(cifar_model.path, 'tensorboard')\n",
    "    model_path = cifar_model.path\n",
    "    model_path = model_path.replace(\"/gcs/\", \"gs://\")\n",
    "    logging.info(\"model_path: %s\", model_path)\n",
    "\n",
    "    dockerfile_str = f\"\"\"\n",
    "FROM gcr.io/deeplearning-platform-release/tf2-gpu.2-3:latest\n",
    "\n",
    "#RUN pip3 install torch_tb_profiler\n",
    "\n",
    "RUN mkdir summaries\n",
    "COPY summaries/* /summaries/\n",
    "\n",
    "ENTRYPOINT [\"tensorboard\", \"--bind_all\", \"--port\", \"8080\", \"--logdir\", \"/summaries\"]\n",
    "#ENTRYPOINT [\"tensorboard\", \"--bind_all\", \"--port\", \"8080\", \"--logdir\", \"{model_path}\"]\n",
    "\n",
    "\"\"\"\n",
    "\n",
    "    # write to artifact dir\n",
    "    dockerfile_path = os.path.join(tb_config.path, \"Dockerfile\")\n",
    "    with open(dockerfile_path, \"w\") as f:\n",
    "        f.write(dockerfile_str)\n",
    "\n",
    "    image_uri = f\"gcr.io/{project}/tb_test:{build_version}\"\n",
    "    logging.info(\"image uri: %s\", image_uri)\n",
    "\n",
    "    build = cloudbuild_v1.Build(images=[image_uri])\n",
    "    build.steps = [\n",
    "        {\n",
    "            \"name\": \"ubuntu\",\n",
    "            \"args\": [\n",
    "                \"mkdir\",\n",
    "                \"-p\",\n",
    "                model_path,\n",
    "                \"summaries\",\n",
    "            ],\n",
    "        },\n",
    "        {\n",
    "            \"name\": \"gcr.io/cloud-builders/gsutil\",\n",
    "            \"args\": [\n",
    "                \"cp\",\n",
    "                \"-r\",\n",
    "                model_path,\n",
    "                \"summaries\",\n",
    "            ],\n",
    "        },\n",
    "        {\n",
    "            \"name\": \"gcr.io/cloud-builders/gsutil\",\n",
    "            \"args\": [\n",
    "                \"cp\",\n",
    "                dockerfile_path.replace(\"/gcs/\", \"gs://\"),\n",
    "                \"Dockerfile\",\n",
    "            ],\n",
    "        },\n",
    "        {\n",
    "            \"name\": \"gcr.io/cloud-builders/docker\",\n",
    "            \"args\": [\"build\", \"-t\", image_uri, \".\"],\n",
    "        },\n",
    "    ]\n",
    "    operation = client.create_build(project_id=project, build=build)\n",
    "    print(\"IN PROGRESS:\")\n",
    "    print(operation.metadata)\n",
    "\n",
    "    result = operation.result()\n",
    "    # Print the completed status\n",
    "    print(\"RESULT:\", result.status)\n",
    "\n",
    "    logging.warning(\"creating tensorboard notebook instance\")\n",
    "    print(\"creating tensorboard notebook instance\")\n",
    "\n",
    "    # create tb 'notebook'\n",
    "    parent = f\"projects/{project_num}/locations/{zone}\"\n",
    "    notebooks_client = notebooks.NotebookServiceClient()\n",
    "    notebook_id = f\"tb-nb{build_version}\"\n",
    "    container_image = notebooks.ContainerImage(\n",
    "        {\"repository\": f\"gcr.io/{project}/tb_test\", \"tag\": f\"{build_version}\"}\n",
    "    )\n",
    "    # Define instance information\n",
    "    instance = notebooks.Instance(\n",
    "        {\n",
    "            \"name\": notebook_id,\n",
    "            \"machine_type\": \"n1-standard-4\",\n",
    "            \"container_image\": container_image,\n",
    "            \"no_public_ip\": False,\n",
    "            \"metadata\": {\"agent-health-check-interval-seconds\": \"0\"},\n",
    "            \"service_account\": \"default\",\n",
    "            # \"service_account\": \"467744782358@developer.gserviceaccount.com\",\n",
    "        }\n",
    "    )\n",
    "    # Create a new AI Platform Notebook Instance\n",
    "    nb1 = notebooks_client.create_instance(\n",
    "        notebooks.CreateInstanceRequest(\n",
    "            {\n",
    "                \"parent\": parent,\n",
    "                \"instance_id\": notebook_id,\n",
    "                \"instance\": instance,\n",
    "            }\n",
    "        )\n",
    "    )\n",
    "    # List operation status\n",
    "    print(nb1.operation)\n",
    "\n",
    "    return (image_uri,)\n"
   ]
  },
  {
   "cell_type": "markdown",
   "metadata": {
    "id": "Uo-daiZMU0P_"
   },
   "source": [
    "..."
   ]
  },
  {
   "cell_type": "markdown",
   "metadata": {
    "id": "LfmLlMQDQzwX"
   },
   "source": [
    "## Define and run the pipeline\n",
    "\n",
    "Define a pipeline that uses these components. \n",
    "**Edit the GPU type** depending upon what quota you have available."
   ]
  },
  {
   "cell_type": "markdown",
   "metadata": {
    "id": "fR1wPmfjkBBR"
   },
   "source": [
    "Define some constants"
   ]
  },
  {
   "cell_type": "code",
   "execution_count": 16,
   "metadata": {
    "id": "vdE2zqHBD_nU"
   },
   "outputs": [],
   "source": [
    "from datetime import datetime\n",
    "ts = datetime.now().strftime(\"%Y%m%d%H%M%S\")\n",
    "MODEL_NAME = f'resnet{ts}'\n",
    "PORT = 8080\n",
    "MAR_MODEL_NAME = 'cifar10'"
   ]
  },
  {
   "cell_type": "code",
   "execution_count": 17,
   "metadata": {
    "id": "1SIWkbKn5dNG"
   },
   "outputs": [
    {
     "name": "stdout",
     "output_type": "stream",
     "text": [
      "resnet20210525214733\n"
     ]
    }
   ],
   "source": [
    "print(MODEL_NAME)"
   ]
  },
  {
   "cell_type": "code",
   "execution_count": 18,
   "metadata": {
    "id": "hG_q76I3dI_f"
   },
   "outputs": [
    {
     "name": "stdout",
     "output_type": "stream",
     "text": [
      "/gcs/cloud-ai-platform-2f444b6a-a742-444b-b91a-c7519f51bd77/pipeline_root/rthallam/training_path/20210525214733\n"
     ]
    }
   ],
   "source": [
    "PROJECT_NUMBER = '560224572293'\n",
    "ZONE = 'us-central1-c'\n",
    "TRAINING_PATH_INFO = os.path.join(PIPELINE_ROOT, 'training_path', ts).replace(\"gs://\", \"/gcs/\")\n",
    "print(TRAINING_PATH_INFO)"
   ]
  },
  {
   "cell_type": "code",
   "execution_count": 19,
   "metadata": {
    "id": "QDVgJnHfsxkJ"
   },
   "outputs": [],
   "source": [
    "\n",
    "@dsl.pipeline(\n",
    "    name=\"pytorch-test-pipeline\",\n",
    "    pipeline_root=PIPELINE_ROOT,\n",
    ")\n",
    "def pytorch_cifar_pipeline(\n",
    "    project: str = PROJECT_ID,\n",
    "    project_num: str = PROJECT_NUMBER,\n",
    "    zone: str = ZONE,\n",
    "    model_name: str = \"resnet.pth\",\n",
    "    model_display_name: str = MODEL_NAME,\n",
    "    max_epochs: int = 1,\n",
    "    mar_model_name: str = MAR_MODEL_NAME,\n",
    "    handler: str = \"image_classifier\",\n",
    "    version: str = \"1.0\",\n",
    "    port: int = PORT,\n",
    "    training_path_info: str = TRAINING_PATH_INFO,\n",
    "    # config_properties: str = \"https://kubeflow-dataset.s3.us-east-2.amazonaws.com/config.properties\",\n",
    "    config_properties: str = 'https://storage.googleapis.com/aju-pipelines/pytorch_temp/cifar_config/config.properties',\n",
    "):\n",
    "    cifar_config_task = cifar_config(mar_model_name, version, port)\n",
    "    cifar_preproc_task = cifar_preproc()\n",
    "\n",
    "    cifar_train_task = cifar_train(\n",
    "        model_name=model_name,\n",
    "        max_epochs=max_epochs,\n",
    "        cifar_dataset=cifar_preproc_task.outputs[\"cifar_dataset\"],\n",
    "    ).set_gpu_limit(1).set_memory_limit('32G')\n",
    "    cifar_train_task.add_node_selector_constraint(\n",
    "        \"cloud.google.com/gke-accelerator\", \"nvidia-tesla-v100\"\n",
    "        # \"cloud.google.com/gke-accelerator\",\n",
    "        # \"nvidia-tesla-k80\",\n",
    "    )\n",
    "\n",
    "    cifar_mar_task = generate_mar_file(\n",
    "        model_name,\n",
    "        mar_model_name,\n",
    "        handler,\n",
    "        version,\n",
    "        config_properties,\n",
    "        cifar_train_task.outputs[\"cifar_model\"],\n",
    "    )\n",
    "\n",
    "    build_image_task = build_torchserve_image(\n",
    "        mar_model_name, cifar_mar_task.outputs[\"cifar_mar\"], \n",
    "        cifar_config_task.outputs['cifar_config'],\n",
    "        project\n",
    "    )\n",
    "\n",
    "    model_upload_op = gcc_aip.ModelUploadOp(\n",
    "        project=project,\n",
    "        display_name=model_display_name,\n",
    "        # artifact_uri=WORKING_DIR,\n",
    "        serving_container_image_uri=build_image_task.outputs['serving_container_uri'],\n",
    "        serving_container_predict_route=\"/predictions/{}\".format(MAR_MODEL_NAME),\n",
    "        serving_container_health_route=\"/ping\",\n",
    "        serving_container_ports=[PORT]        \n",
    "        # serving_container_environment_variables={\"NOT_USED\": \"NO_VALUE\"},\n",
    "    )\n",
    "    \n",
    "    endpoint_create_op = gcc_aip.EndpointCreateOp(\n",
    "        project=project,\n",
    "        display_name=model_display_name,\n",
    "    )\n",
    "\n",
    "    model_deploy_op = gcc_aip.ModelDeployOp(\n",
    "        project=project,\n",
    "        endpoint=endpoint_create_op.outputs[\"endpoint\"],\n",
    "        model=model_upload_op.outputs[\"model\"],\n",
    "        deployed_model_display_name=model_display_name,\n",
    "        machine_type=\"n1-standard-4\",\n",
    "    )\n",
    "\n",
    "    build_tb_image_task = build_tb_image(\n",
    "        project, project_num, zone,\n",
    "        cifar_train_task.outputs[\"cifar_model\"],\n",
    "        training_path_info\n",
    "    )\n"
   ]
  },
  {
   "cell_type": "code",
   "execution_count": 20,
   "metadata": {
    "id": "xREwNd4b2Oif"
   },
   "outputs": [],
   "source": [
    "from kfp.v2 import compiler as v2compiler\n",
    "v2compiler.Compiler().compile(pipeline_func=pytorch_cifar_pipeline,\n",
    "                              package_path='pytorch_test_pipeline_spec.json')"
   ]
  },
  {
   "cell_type": "code",
   "execution_count": 21,
   "metadata": {
    "id": "r9jd9MW_2gyx"
   },
   "outputs": [],
   "source": [
    "from kfp.v2.google.client import AIPlatformClient  # noqa: F811\n",
    "\n",
    "api_client = AIPlatformClient(\n",
    "    project_id=PROJECT_ID, \n",
    "    region=REGION, \n",
    "    )"
   ]
  },
  {
   "cell_type": "code",
   "execution_count": 22,
   "metadata": {
    "id": "TMRR4HfjS5w6"
   },
   "outputs": [
    {
     "data": {
      "text/html": [
       "See the Pipeline job <a href=\"https://console.cloud.google.com/vertex-ai/locations/us-central1/pipelines/runs/pytorch-test-pipeline-20210525214745?project=rthallam-demo-project\" target=\"_blank\" >here</a>."
      ],
      "text/plain": [
       "<IPython.core.display.HTML object>"
      ]
     },
     "metadata": {},
     "output_type": "display_data"
    }
   ],
   "source": [
    "result = api_client.create_run_from_job_spec(\n",
    "    job_spec_path=\"pytorch_test_pipeline_spec.json\",\n",
    "    pipeline_root=PIPELINE_ROOT,\n",
    "    # enable_caching=False,\n",
    "    parameter_values={\n",
    "        \"model_name\": \"resnet.pth\", \"max_epochs\": 5,\n",
    "        \"project\": PROJECT_ID, \"model_display_name\": MODEL_NAME,\n",
    "    },\n",
    ")"
   ]
  },
  {
   "cell_type": "code",
   "execution_count": 32,
   "metadata": {
    "id": "KBsg1x1g6HAl"
   },
   "outputs": [
    {
     "name": "stdout",
     "output_type": "stream",
     "text": [
      "Writing instances.json\n"
     ]
    }
   ],
   "source": [
    "%%writefile instances.json\n",
    "{\n",
    "  \"instances\": [\n",
    "    {\n",
    "      \"data\": {\n",
    "        \"b64\": \"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\"\n",
    "      }\n",
    "    }\n",
    "  ]\n",
    "}"
   ]
  },
  {
   "cell_type": "code",
   "execution_count": 45,
   "metadata": {},
   "outputs": [
    {
     "name": "stdout",
     "output_type": "stream",
     "text": [
      "Using endpoint [https://us-central1-prediction-aiplatform.googleapis.com/]\n",
      "\u001b[1;31mERROR:\u001b[0m (gcloud.ai.endpoints.predict) HttpError accessing <https://us-central1-prediction-aiplatform.googleapis.com/v1/projects/rthallam-demo-project/locations/us-central1/endpoints/3409277694477598720:predict?alt=json>: response: <{'vary': 'Origin, X-Origin, Referer', 'content-type': 'application/json; charset=UTF-8', 'content-encoding': 'gzip', 'date': 'Fri, 21 May 2021 16:54:07 GMT', 'server': 'scaffolding on HTTPServer2', 'cache-control': 'private', 'x-xss-protection': '0', 'x-frame-options': 'SAMEORIGIN', 'x-content-type-options': 'nosniff', 'transfer-encoding': 'chunked', 'status': 503}>, content <{\n",
      "  \"error\": {\n",
      "    \"code\": 503,\n",
      "    \"message\": \"Unable to process the request when processing endpoint_id: 3409277694477598720, deployed_model_id: 647867435457708032.\",\n",
      "    \"status\": \"UNAVAILABLE\"\n",
      "  }\n",
      "}\n",
      ">\n",
      "This may be due to network connectivity issues. Please check your network settings, and the status of the service you are trying to reach.\n"
     ]
    }
   ],
   "source": [
    "!gcloud ai endpoints predict 3409277694477598720 --json-request=instances.json --region=us-central1"
   ]
  },
  {
   "cell_type": "code",
   "execution_count": 39,
   "metadata": {},
   "outputs": [],
   "source": [
    "from typing import Dict\n",
    "\n",
    "from google.cloud import aiplatform\n",
    "from google.protobuf import json_format\n",
    "from google.protobuf.struct_pb2 import Value\n",
    "\n",
    "\n",
    "def predict_custom_trained_model_sample(\n",
    "    project: str,\n",
    "    endpoint_id: str,\n",
    "    instance_dict: Dict,\n",
    "    location: str = \"us-central1\",\n",
    "    api_endpoint: str = \"us-central1-aiplatform.googleapis.com\",\n",
    "):\n",
    "    # The AI Platform services require regional API endpoints.\n",
    "    client_options = {\"api_endpoint\": api_endpoint}\n",
    "    # Initialize client that will be used to create and send requests.\n",
    "    # This client only needs to be created once, and can be reused for multiple requests.\n",
    "    client = aiplatform.gapic.PredictionServiceClient(client_options=client_options)\n",
    "    # The format of each instance should conform to the deployed model's prediction input schema.\n",
    "    instance = json_format.ParseDict(instance_dict, Value())\n",
    "    instances = [instance]\n",
    "    parameters_dict = {}\n",
    "    parameters = json_format.ParseDict(parameters_dict, Value())\n",
    "    endpoint = client.endpoint_path(\n",
    "        project=project, location=location, endpoint=endpoint_id\n",
    "    )\n",
    "    response = client.predict(\n",
    "        endpoint=endpoint, instances=instances, parameters=parameters\n",
    "    )\n",
    "    print(\"response\")\n",
    "    print(\" deployed_model_id:\", response.deployed_model_id)\n",
    "    # The predictions are a google.protobuf.Value representation of the model's predictions.\n",
    "    predictions = response.predictions\n",
    "    for prediction in predictions:\n",
    "        print(\" prediction:\", dict(prediction))\n",
    "\n",
    "\n",
    "# [END aiplatform_predict_custom_trained_model_sample]"
   ]
  },
  {
   "cell_type": "code",
   "execution_count": 43,
   "metadata": {},
   "outputs": [
    {
     "ename": "ServiceUnavailable",
     "evalue": "503 Unable to process the request when processing endpoint_id: 3409277694477598720, deployed_model_id: 6322402965944532992.",
     "output_type": "error",
     "traceback": [
      "\u001b[0;31m---------------------------------------------------------------------------\u001b[0m",
      "\u001b[0;31m_InactiveRpcError\u001b[0m                         Traceback (most recent call last)",
      "\u001b[0;32m/opt/conda/lib/python3.7/site-packages/google/api_core/grpc_helpers.py\u001b[0m in \u001b[0;36merror_remapped_callable\u001b[0;34m(*args, **kwargs)\u001b[0m\n\u001b[1;32m     72\u001b[0m         \u001b[0;32mtry\u001b[0m\u001b[0;34m:\u001b[0m\u001b[0;34m\u001b[0m\u001b[0;34m\u001b[0m\u001b[0m\n\u001b[0;32m---> 73\u001b[0;31m             \u001b[0;32mreturn\u001b[0m \u001b[0mcallable_\u001b[0m\u001b[0;34m(\u001b[0m\u001b[0;34m*\u001b[0m\u001b[0margs\u001b[0m\u001b[0;34m,\u001b[0m \u001b[0;34m**\u001b[0m\u001b[0mkwargs\u001b[0m\u001b[0;34m)\u001b[0m\u001b[0;34m\u001b[0m\u001b[0;34m\u001b[0m\u001b[0m\n\u001b[0m\u001b[1;32m     74\u001b[0m         \u001b[0;32mexcept\u001b[0m \u001b[0mgrpc\u001b[0m\u001b[0;34m.\u001b[0m\u001b[0mRpcError\u001b[0m \u001b[0;32mas\u001b[0m \u001b[0mexc\u001b[0m\u001b[0;34m:\u001b[0m\u001b[0;34m\u001b[0m\u001b[0;34m\u001b[0m\u001b[0m\n",
      "\u001b[0;32m/opt/conda/lib/python3.7/site-packages/grpc/_channel.py\u001b[0m in \u001b[0;36m__call__\u001b[0;34m(self, request, timeout, metadata, credentials, wait_for_ready, compression)\u001b[0m\n\u001b[1;32m    825\u001b[0m                                       wait_for_ready, compression)\n\u001b[0;32m--> 826\u001b[0;31m         \u001b[0;32mreturn\u001b[0m \u001b[0m_end_unary_response_blocking\u001b[0m\u001b[0;34m(\u001b[0m\u001b[0mstate\u001b[0m\u001b[0;34m,\u001b[0m \u001b[0mcall\u001b[0m\u001b[0;34m,\u001b[0m \u001b[0;32mFalse\u001b[0m\u001b[0;34m,\u001b[0m \u001b[0;32mNone\u001b[0m\u001b[0;34m)\u001b[0m\u001b[0;34m\u001b[0m\u001b[0;34m\u001b[0m\u001b[0m\n\u001b[0m\u001b[1;32m    827\u001b[0m \u001b[0;34m\u001b[0m\u001b[0m\n",
      "\u001b[0;32m/opt/conda/lib/python3.7/site-packages/grpc/_channel.py\u001b[0m in \u001b[0;36m_end_unary_response_blocking\u001b[0;34m(state, call, with_call, deadline)\u001b[0m\n\u001b[1;32m    728\u001b[0m     \u001b[0;32melse\u001b[0m\u001b[0;34m:\u001b[0m\u001b[0;34m\u001b[0m\u001b[0;34m\u001b[0m\u001b[0m\n\u001b[0;32m--> 729\u001b[0;31m         \u001b[0;32mraise\u001b[0m \u001b[0m_InactiveRpcError\u001b[0m\u001b[0;34m(\u001b[0m\u001b[0mstate\u001b[0m\u001b[0;34m)\u001b[0m\u001b[0;34m\u001b[0m\u001b[0;34m\u001b[0m\u001b[0m\n\u001b[0m\u001b[1;32m    730\u001b[0m \u001b[0;34m\u001b[0m\u001b[0m\n",
      "\u001b[0;31m_InactiveRpcError\u001b[0m: <_InactiveRpcError of RPC that terminated with:\n\tstatus = StatusCode.UNAVAILABLE\n\tdetails = \"Unable to process the request when processing endpoint_id: 3409277694477598720, deployed_model_id: 6322402965944532992.\"\n\tdebug_error_string = \"{\"created\":\"@1621556041.163414850\",\"description\":\"Error received from peer ipv4:142.250.148.95:443\",\"file\":\"src/core/lib/surface/call.cc\",\"file_line\":1061,\"grpc_message\":\"Unable to process the request when processing endpoint_id: 3409277694477598720, deployed_model_id: 6322402965944532992.\",\"grpc_status\":14}\"\n>",
      "\nThe above exception was the direct cause of the following exception:\n",
      "\u001b[0;31mServiceUnavailable\u001b[0m                        Traceback (most recent call last)",
      "\u001b[0;32m<ipython-input-43-c7b19ea5274a>\u001b[0m in \u001b[0;36m<module>\u001b[0;34m\u001b[0m\n\u001b[1;32m     10\u001b[0m     \u001b[0mendpoint_id\u001b[0m\u001b[0;34m=\u001b[0m\u001b[0;34m\"3409277694477598720\"\u001b[0m\u001b[0;34m,\u001b[0m\u001b[0;34m\u001b[0m\u001b[0;34m\u001b[0m\u001b[0m\n\u001b[1;32m     11\u001b[0m     \u001b[0mlocation\u001b[0m\u001b[0;34m=\u001b[0m\u001b[0;34m\"us-central1\"\u001b[0m\u001b[0;34m,\u001b[0m\u001b[0;34m\u001b[0m\u001b[0;34m\u001b[0m\u001b[0m\n\u001b[0;32m---> 12\u001b[0;31m     \u001b[0minstance_dict\u001b[0m\u001b[0;34m=\u001b[0m\u001b[0minstance\u001b[0m\u001b[0;34m\u001b[0m\u001b[0;34m\u001b[0m\u001b[0m\n\u001b[0m\u001b[1;32m     13\u001b[0m )\n",
      "\u001b[0;32m<ipython-input-39-c625976b2477>\u001b[0m in \u001b[0;36mpredict_custom_trained_model_sample\u001b[0;34m(project, endpoint_id, instance_dict, location, api_endpoint)\u001b[0m\n\u001b[1;32m     27\u001b[0m     )\n\u001b[1;32m     28\u001b[0m     response = client.predict(\n\u001b[0;32m---> 29\u001b[0;31m         \u001b[0mendpoint\u001b[0m\u001b[0;34m=\u001b[0m\u001b[0mendpoint\u001b[0m\u001b[0;34m,\u001b[0m \u001b[0minstances\u001b[0m\u001b[0;34m=\u001b[0m\u001b[0minstances\u001b[0m\u001b[0;34m,\u001b[0m \u001b[0mparameters\u001b[0m\u001b[0;34m=\u001b[0m\u001b[0mparameters\u001b[0m\u001b[0;34m\u001b[0m\u001b[0;34m\u001b[0m\u001b[0m\n\u001b[0m\u001b[1;32m     30\u001b[0m     )\n\u001b[1;32m     31\u001b[0m     \u001b[0mprint\u001b[0m\u001b[0;34m(\u001b[0m\u001b[0;34m\"response\"\u001b[0m\u001b[0;34m)\u001b[0m\u001b[0;34m\u001b[0m\u001b[0;34m\u001b[0m\u001b[0m\n",
      "\u001b[0;32m~/.local/lib/python3.7/site-packages/google/cloud/aiplatform_v1/services/prediction_service/client.py\u001b[0m in \u001b[0;36mpredict\u001b[0;34m(self, request, endpoint, instances, parameters, retry, timeout, metadata)\u001b[0m\n\u001b[1;32m    449\u001b[0m \u001b[0;34m\u001b[0m\u001b[0m\n\u001b[1;32m    450\u001b[0m         \u001b[0;31m# Send the request.\u001b[0m\u001b[0;34m\u001b[0m\u001b[0;34m\u001b[0m\u001b[0;34m\u001b[0m\u001b[0m\n\u001b[0;32m--> 451\u001b[0;31m         \u001b[0mresponse\u001b[0m \u001b[0;34m=\u001b[0m \u001b[0mrpc\u001b[0m\u001b[0;34m(\u001b[0m\u001b[0mrequest\u001b[0m\u001b[0;34m,\u001b[0m \u001b[0mretry\u001b[0m\u001b[0;34m=\u001b[0m\u001b[0mretry\u001b[0m\u001b[0;34m,\u001b[0m \u001b[0mtimeout\u001b[0m\u001b[0;34m=\u001b[0m\u001b[0mtimeout\u001b[0m\u001b[0;34m,\u001b[0m \u001b[0mmetadata\u001b[0m\u001b[0;34m=\u001b[0m\u001b[0mmetadata\u001b[0m\u001b[0;34m,\u001b[0m\u001b[0;34m)\u001b[0m\u001b[0;34m\u001b[0m\u001b[0;34m\u001b[0m\u001b[0m\n\u001b[0m\u001b[1;32m    452\u001b[0m \u001b[0;34m\u001b[0m\u001b[0m\n\u001b[1;32m    453\u001b[0m         \u001b[0;31m# Done; return the response.\u001b[0m\u001b[0;34m\u001b[0m\u001b[0;34m\u001b[0m\u001b[0;34m\u001b[0m\u001b[0m\n",
      "\u001b[0;32m/opt/conda/lib/python3.7/site-packages/google/api_core/gapic_v1/method.py\u001b[0m in \u001b[0;36m__call__\u001b[0;34m(self, *args, **kwargs)\u001b[0m\n\u001b[1;32m    143\u001b[0m             \u001b[0mkwargs\u001b[0m\u001b[0;34m[\u001b[0m\u001b[0;34m\"metadata\"\u001b[0m\u001b[0;34m]\u001b[0m \u001b[0;34m=\u001b[0m \u001b[0mmetadata\u001b[0m\u001b[0;34m\u001b[0m\u001b[0;34m\u001b[0m\u001b[0m\n\u001b[1;32m    144\u001b[0m \u001b[0;34m\u001b[0m\u001b[0m\n\u001b[0;32m--> 145\u001b[0;31m         \u001b[0;32mreturn\u001b[0m \u001b[0mwrapped_func\u001b[0m\u001b[0;34m(\u001b[0m\u001b[0;34m*\u001b[0m\u001b[0margs\u001b[0m\u001b[0;34m,\u001b[0m \u001b[0;34m**\u001b[0m\u001b[0mkwargs\u001b[0m\u001b[0;34m)\u001b[0m\u001b[0;34m\u001b[0m\u001b[0;34m\u001b[0m\u001b[0m\n\u001b[0m\u001b[1;32m    146\u001b[0m \u001b[0;34m\u001b[0m\u001b[0m\n\u001b[1;32m    147\u001b[0m \u001b[0;34m\u001b[0m\u001b[0m\n",
      "\u001b[0;32m/opt/conda/lib/python3.7/site-packages/google/api_core/grpc_helpers.py\u001b[0m in \u001b[0;36merror_remapped_callable\u001b[0;34m(*args, **kwargs)\u001b[0m\n\u001b[1;32m     73\u001b[0m             \u001b[0;32mreturn\u001b[0m \u001b[0mcallable_\u001b[0m\u001b[0;34m(\u001b[0m\u001b[0;34m*\u001b[0m\u001b[0margs\u001b[0m\u001b[0;34m,\u001b[0m \u001b[0;34m**\u001b[0m\u001b[0mkwargs\u001b[0m\u001b[0;34m)\u001b[0m\u001b[0;34m\u001b[0m\u001b[0;34m\u001b[0m\u001b[0m\n\u001b[1;32m     74\u001b[0m         \u001b[0;32mexcept\u001b[0m \u001b[0mgrpc\u001b[0m\u001b[0;34m.\u001b[0m\u001b[0mRpcError\u001b[0m \u001b[0;32mas\u001b[0m \u001b[0mexc\u001b[0m\u001b[0;34m:\u001b[0m\u001b[0;34m\u001b[0m\u001b[0;34m\u001b[0m\u001b[0m\n\u001b[0;32m---> 75\u001b[0;31m             \u001b[0msix\u001b[0m\u001b[0;34m.\u001b[0m\u001b[0mraise_from\u001b[0m\u001b[0;34m(\u001b[0m\u001b[0mexceptions\u001b[0m\u001b[0;34m.\u001b[0m\u001b[0mfrom_grpc_error\u001b[0m\u001b[0;34m(\u001b[0m\u001b[0mexc\u001b[0m\u001b[0;34m)\u001b[0m\u001b[0;34m,\u001b[0m \u001b[0mexc\u001b[0m\u001b[0;34m)\u001b[0m\u001b[0;34m\u001b[0m\u001b[0;34m\u001b[0m\u001b[0m\n\u001b[0m\u001b[1;32m     76\u001b[0m \u001b[0;34m\u001b[0m\u001b[0m\n\u001b[1;32m     77\u001b[0m     \u001b[0;32mreturn\u001b[0m \u001b[0merror_remapped_callable\u001b[0m\u001b[0;34m\u001b[0m\u001b[0;34m\u001b[0m\u001b[0m\n",
      "\u001b[0;32m/opt/conda/lib/python3.7/site-packages/six.py\u001b[0m in \u001b[0;36mraise_from\u001b[0;34m(value, from_value)\u001b[0m\n",
      "\u001b[0;31mServiceUnavailable\u001b[0m: 503 Unable to process the request when processing endpoint_id: 3409277694477598720, deployed_model_id: 6322402965944532992."
     ]
    }
   ],
   "source": [
    "instance = {\n",
    "  \"instance_key_1\":\n",
    "    {\n",
    "        \"b64\": \"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\"\n",
    "    }\n",
    "}\n",
    "\n",
    "predict_custom_trained_model_sample(\n",
    "    project=\"560224572293\",\n",
    "    endpoint_id=\"3409277694477598720\",\n",
    "    location=\"us-central1\",\n",
    "    instance_dict=instance\n",
    ")"
   ]
  }
 ],
 "metadata": {
  "colab": {
   "collapsed_sections": [],
   "name": "pytorch_cifar_expers.ipynb",
   "provenance": [],
   "toc_visible": true
  },
  "environment": {
   "name": "tf2-gpu.2-4.m65",
   "type": "gcloud",
   "uri": "gcr.io/deeplearning-platform-release/tf2-gpu.2-4:m65"
  },
  "kernelspec": {
   "display_name": "pytorch-pipeline",
   "language": "python",
   "name": "pytorch-pipeline"
  },
  "language_info": {
   "codemirror_mode": {
    "name": "ipython",
    "version": 3
   },
   "file_extension": ".py",
   "mimetype": "text/x-python",
   "name": "python",
   "nbconvert_exporter": "python",
   "pygments_lexer": "ipython3",
   "version": "3.7.10"
  }
 },
 "nbformat": 4,
 "nbformat_minor": 4
}
