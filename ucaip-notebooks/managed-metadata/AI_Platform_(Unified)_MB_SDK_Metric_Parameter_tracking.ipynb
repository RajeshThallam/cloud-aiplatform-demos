{
 "cells": [
  {
   "cell_type": "code",
   "execution_count": null,
   "metadata": {
    "id": "Snm88Z0sROQB"
   },
   "outputs": [],
   "source": [
    "# Copyright 2021 Google LLC\n",
    "#\n",
    "# Licensed under the Apache License, Version 2.0 (the \"License\");\n",
    "# you may not use this file except in compliance with the License.\n",
    "# You may obtain a copy of the License at\n",
    "#\n",
    "#     https://www.apache.org/licenses/LICENSE-2.0\n",
    "#\n",
    "# Unless required by applicable law or agreed to in writing, software\n",
    "# distributed under the License is distributed on an \"AS IS\" BASIS,\n",
    "# WITHOUT WARRANTIES OR CONDITIONS OF ANY KIND, either express or implied.\n",
    "# See the License for the specific language governing permissions and\n",
    "# limitations under the License."
   ]
  },
  {
   "cell_type": "markdown",
   "metadata": {
    "id": "ThTHoy7DRSye"
   },
   "source": [
    "# Feedback or issues?\n",
    "\n",
    "For any feedback or questions, please fill up this [form](https://forms.gle/hXDnv1T4WanMwTi79). If you provided an email address, we will follow up with you."
   ]
  },
  {
   "cell_type": "markdown",
   "metadata": {
    "id": "acg-u47CJ7-T"
   },
   "source": [
    "# ML parameter and metric tracking via MB SDK\n",
    "\n",
    "To use this Jupyter notebook, copy the notebook to an AI Platform(Unified) Notebooks instance with Tensorflow installed and open it. You can run each step, or cell, and see its results. To run a cell, use Shift+Enter. Jupyter automatically displays the return value of the last line in each cell. For more information about running notebooks in AI Platform(Unified) Notebook, see the [AI Platform(Unified) Notebook guide](https://cloud.google.com/ai-platform-unified/docs/general/notebooks).\n",
    "\n",
    "\n",
    "This notebook demonstrate how to track metrics and parameters for ML training jobs. And also how to perform detail analysis using those data.\n",
    "\n",
    "\n",
    "\n",
    "Note: you may incur charges for training, prediction, storage or usage of other GCP products in connection with testing this SDK."
   ]
  },
  {
   "cell_type": "markdown",
   "metadata": {
    "id": "-VL5avdUJ7-V"
   },
   "source": [
    "### Install Model Builder SDK\n",
    "\n",
    "This section install the Model Builder SDK. Refer to the [Model Builder SDK User Guide](https://docs.google.com/document/d/1tFhzwCbR1jU-_BLkxmEriA9Y3NDWse2YYEYyKXkRybk) for more details.\n",
    "\n",
    "After the SDK installation the kernel will be automatically restarted."
   ]
  },
  {
   "cell_type": "code",
   "execution_count": 4,
   "metadata": {
    "id": "5-6l0OdRJ7-V"
   },
   "outputs": [],
   "source": [
    "%%capture\n",
    "!pip3 uninstall -y google-cloud-aiplatform --user\n",
    "!pip3 install --user git+https://github.com/googleapis/python-aiplatform.git@dev-test --user\n",
    "import IPython\n",
    "app = IPython.Application.instance()\n",
    "app.kernel.do_shutdown(True)"
   ]
  },
  {
   "cell_type": "markdown",
   "metadata": {
    "id": "amZxHeNzRhgN"
   },
   "source": [
    "### Enter Your Project and GCS Bucket\n",
    "\n",
    "Enter your Project Id in the cell below. Then run the cell to make sure the Cloud SDK uses the right project for all the commands in this notebook."
   ]
  },
  {
   "cell_type": "code",
   "execution_count": 1,
   "metadata": {
    "id": "GtIjHUhlJ7-W"
   },
   "outputs": [],
   "source": [
    "MY_PROJECT = 'rthallam-demo-project' # Please change this to your own test project\n",
    "MY_STAGING_BUCKET = 'gs://cloud-ai-platform-2f444b6a-a742-444b-b91a-c7519f51bd77'  # bucket should be in same region as ucaip"
   ]
  },
  {
   "cell_type": "code",
   "execution_count": 2,
   "metadata": {
    "id": "KjLd9x994wm3"
   },
   "outputs": [],
   "source": [
    "import sys\n",
    "if 'google.colab' in sys.modules:\n",
    "  from google.colab import auth\n",
    "  auth.authenticate_user()"
   ]
  },
  {
   "cell_type": "markdown",
   "metadata": {
    "id": "itgJdQPGJ7-W"
   },
   "source": [
    "## Set up SDK workspace"
   ]
  },
  {
   "cell_type": "code",
   "execution_count": 3,
   "metadata": {
    "id": "o_wnT10RJ7-W"
   },
   "outputs": [],
   "source": [
    "from google.cloud import aiplatform\n",
    "import tensorflow as tf\n",
    "import uuid"
   ]
  },
  {
   "cell_type": "markdown",
   "metadata": {
    "id": "O8XJZB3gR8eL"
   },
   "source": [
    "### Initialize Model Builder SDK and set an Experiment\n",
    "\n",
    "Initialize the *client* for AI Platform (Unified)."
   ]
  },
  {
   "cell_type": "code",
   "execution_count": 4,
   "metadata": {
    "id": "D8H9q6Y4EdPk"
   },
   "outputs": [],
   "source": [
    "aiplatform.constants.API_BASE_PATH = \"staging-aiplatform.sandbox.googleapis.com\" # set api endpoint to staging\n",
    "# aiplatform.constants.API_BASE_PATH = \"aiplatform.googleapis.com\""
   ]
  },
  {
   "cell_type": "code",
   "execution_count": 5,
   "metadata": {
    "colab": {
     "base_uri": "https://localhost:8080/"
    },
    "id": "Wrlk2B2nJ7-X",
    "outputId": "1874e43d-8658-4815-d61d-123433ebd8e1"
   },
   "outputs": [
    {
     "name": "stdout",
     "output_type": "stream",
     "text": [
      "INFO:root:MetadataStore default not found.\n",
      "INFO:root:Resource metadata-tracking-experiment not found.\n",
      "INFO:root:Creating Resource metadata-tracking-experiment\n"
     ]
    }
   ],
   "source": [
    "aiplatform.init(project=MY_PROJECT, experiment=\"metadata-tracking-experiment\", staging_bucket=MY_STAGING_BUCKET)"
   ]
  },
  {
   "cell_type": "markdown",
   "metadata": {
    "id": "aotY5RYKls_k"
   },
   "source": [
    "# Tracking parameters and metrics for a model trained locally"
   ]
  },
  {
   "cell_type": "markdown",
   "metadata": {
    "id": "l1YW2pgyegFP"
   },
   "source": [
    "Users can use this SDK to track metrics and parameters for models trained locally."
   ]
  },
  {
   "cell_type": "markdown",
   "metadata": {
    "id": "KPY41M9_AhZU"
   },
   "source": [
    "## Load and process training dataset"
   ]
  },
  {
   "cell_type": "code",
   "execution_count": 6,
   "metadata": {
    "id": "_UI6y6tbl2hy"
   },
   "outputs": [],
   "source": [
    "import pathlib\n",
    "import numpy as np\n",
    "import pandas as pd\n",
    "from tensorflow.python.keras import layers, Sequential\n",
    "from tensorflow.python.keras.utils import data_utils\n"
   ]
  },
  {
   "cell_type": "code",
   "execution_count": 7,
   "metadata": {
    "colab": {
     "base_uri": "https://localhost:8080/"
    },
    "id": "RiQuMv4bmpuV",
    "outputId": "ab78f10f-34de-46fa-8717-80bc0147dcf1"
   },
   "outputs": [
    {
     "name": "stderr",
     "output_type": "stream",
     "text": [
      "/opt/conda/lib/python3.7/site-packages/ipykernel_launcher.py:9: SettingWithCopyWarning: \n",
      "A value is trying to be set on a copy of a slice from a DataFrame.\n",
      "Try using .loc[row_indexer,col_indexer] = value instead\n",
      "\n",
      "See the caveats in the documentation: https://pandas.pydata.org/pandas-docs/stable/user_guide/indexing.html#returning-a-view-versus-a-copy\n",
      "  if __name__ == '__main__':\n"
     ]
    }
   ],
   "source": [
    "def read_data(uri):\n",
    "    dataset_path = data_utils.get_file(\"auto-mpg.data\", uri)\n",
    "    column_names = ['MPG','Cylinders','Displacement','Horsepower','Weight',\n",
    "                    'Acceleration', 'Model Year', 'Origin']\n",
    "    raw_dataset = pd.read_csv(dataset_path, names=column_names, na_values = \"?\",\n",
    "                              comment='\\t', sep=\" \", skipinitialspace=True)\n",
    "    dataset = raw_dataset.dropna()\n",
    "    dataset['Origin'] = dataset['Origin'].map(\n",
    "        lambda x: {1: 'USA', 2: 'Europe', 3: 'Japan'}.get(x))\n",
    "    dataset = pd.get_dummies(dataset, prefix='', prefix_sep='')        \n",
    "    return dataset\n",
    "\n",
    "\n",
    "dataset = read_data(\"http://archive.ics.uci.edu/ml/machine-learning-databases/auto-mpg/auto-mpg.data\")"
   ]
  },
  {
   "cell_type": "code",
   "execution_count": 8,
   "metadata": {
    "id": "p5JBCBKyH-NC"
   },
   "outputs": [],
   "source": [
    "def train_test_split(dataset, split_frac=0.8, random_state=0):    \n",
    "    train_dataset = dataset.sample(frac=split_frac, random_state=random_state)\n",
    "    test_dataset = dataset.drop(train_dataset.index)\n",
    "    train_labels = train_dataset.pop('MPG')\n",
    "    test_labels = test_dataset.pop('MPG')\n",
    "    \n",
    "    return train_dataset, test_dataset, train_labels, test_labels\n",
    "\n",
    "train_dataset, test_dataset, train_labels, test_labels = train_test_split(dataset)"
   ]
  },
  {
   "cell_type": "code",
   "execution_count": 9,
   "metadata": {
    "id": "VGq5QCoyIEWJ"
   },
   "outputs": [],
   "source": [
    "def normalize_dataset(train_dataset, test_dataset):\n",
    "    train_stats = train_dataset.describe()\n",
    "    train_stats = train_stats.transpose()\n",
    "    def norm(x):\n",
    "        return (x - train_stats['mean']) / train_stats['std']\n",
    "    normed_train_data = norm(train_dataset)\n",
    "    normed_test_data = norm(test_dataset)\n",
    "    \n",
    "    return normed_train_data, normed_test_data\n",
    "\n",
    "normed_train_data, normed_test_data = normalize_dataset(train_dataset,\n",
    "                                                        test_dataset)"
   ]
  },
  {
   "cell_type": "markdown",
   "metadata": {
    "id": "UBXUgxgqA_GB"
   },
   "source": [
    "## Define ML model and training steps"
   ]
  },
  {
   "cell_type": "code",
   "execution_count": 10,
   "metadata": {
    "id": "66odBYKrIN4q"
   },
   "outputs": [],
   "source": [
    "def train(train_data, train_labels, num_units=64, activation='relu',\n",
    "          dropout_rate=0.0, validation_split = 0.2, epochs=1000):\n",
    "    \n",
    "    model = Sequential([\n",
    "        layers.Dense(num_units, activation=activation,\n",
    "                     input_shape=[len(train_dataset.keys())]),\n",
    "        layers.Dropout(rate=dropout_rate),\n",
    "        layers.Dense(num_units, activation=activation),\n",
    "        layers.Dense(1)\n",
    "    ])\n",
    "\n",
    "\n",
    "    model.compile(loss='mse',\n",
    "                optimizer='adam',\n",
    "                metrics=['mae', 'mse'])\n",
    "    print(model.summary())\n",
    "    \n",
    "    history = model.fit(\n",
    "      train_data, train_labels,\n",
    "      epochs=epochs, validation_split=validation_split)\n",
    "\n",
    "    return model, history"
   ]
  },
  {
   "cell_type": "markdown",
   "metadata": {
    "id": "u-iTnzt3B6Z_"
   },
   "source": [
    "## Start model training in multiple runs and log training parameters and metrics"
   ]
  },
  {
   "cell_type": "code",
   "execution_count": 11,
   "metadata": {
    "colab": {
     "base_uri": "https://localhost:8080/"
    },
    "id": "i2wnpu8_7JfV",
    "outputId": "9df39b13-4313-47b3-b0c2-419752755552"
   },
   "outputs": [
    {
     "name": "stdout",
     "output_type": "stream",
     "text": [
      "INFO:root:Resource metadata-tracking-experiment-run-0 not found.\n",
      "INFO:root:Creating Resource metadata-tracking-experiment-run-0\n",
      "INFO:root:Resource metadata-tracking-experiment-run-0-metrics not found.\n",
      "INFO:root:Creating Resource metadata-tracking-experiment-run-0-metrics\n",
      "Model: \"sequential\"\n",
      "_________________________________________________________________\n",
      "Layer (type)                 Output Shape              Param #   \n",
      "=================================================================\n",
      "dense (Dense)                (None, 16)                160       \n",
      "_________________________________________________________________\n",
      "dropout (Dropout)            (None, 16)                0         \n",
      "_________________________________________________________________\n",
      "dense_1 (Dense)              (None, 16)                272       \n",
      "_________________________________________________________________\n",
      "dense_2 (Dense)              (None, 1)                 17        \n",
      "=================================================================\n",
      "Total params: 449\n",
      "Trainable params: 449\n",
      "Non-trainable params: 0\n",
      "_________________________________________________________________\n",
      "None\n",
      "Epoch 1/3\n",
      "8/8 [==============================] - 2s 130ms/step - loss: 585.0053 - mae: 22.8741 - mse: 585.0053 - val_loss: 613.3524 - val_mae: 23.4722 - val_mse: 613.3524\n",
      "Epoch 2/3\n",
      "8/8 [==============================] - 0s 27ms/step - loss: 602.8274 - mae: 23.2662 - mse: 602.8274 - val_loss: 603.0394 - val_mae: 23.2423 - val_mse: 603.0394\n",
      "Epoch 3/3\n",
      "8/8 [==============================] - 0s 27ms/step - loss: 554.4899 - mae: 22.2497 - mse: 554.4899 - val_loss: 592.6541 - val_mae: 23.0015 - val_mse: 592.6541\n",
      "3/3 - 0s - loss: 608.4404 - mae: 23.2550 - mse: 608.4404\n",
      "INFO:root:Resource metadata-tracking-experiment-run-1 not found.\n",
      "INFO:root:Creating Resource metadata-tracking-experiment-run-1\n",
      "INFO:root:Resource metadata-tracking-experiment-run-1-metrics not found.\n",
      "INFO:root:Creating Resource metadata-tracking-experiment-run-1-metrics\n",
      "Model: \"sequential_1\"\n",
      "_________________________________________________________________\n",
      "Layer (type)                 Output Shape              Param #   \n",
      "=================================================================\n",
      "dense_3 (Dense)              (None, 16)                160       \n",
      "_________________________________________________________________\n",
      "dropout_1 (Dropout)          (None, 16)                0         \n",
      "_________________________________________________________________\n",
      "dense_4 (Dense)              (None, 16)                272       \n",
      "_________________________________________________________________\n",
      "dense_5 (Dense)              (None, 1)                 17        \n",
      "=================================================================\n",
      "Total params: 449\n",
      "Trainable params: 449\n",
      "Non-trainable params: 0\n",
      "_________________________________________________________________\n",
      "None\n",
      "Epoch 1/10\n",
      "8/8 [==============================] - 1s 77ms/step - loss: 546.9558 - mae: 22.0624 - mse: 546.9558 - val_loss: 591.9313 - val_mae: 22.9994 - val_mse: 591.9313\n",
      "Epoch 2/10\n",
      "8/8 [==============================] - 0s 28ms/step - loss: 595.8390 - mae: 23.1498 - mse: 595.8390 - val_loss: 581.9447 - val_mae: 22.7731 - val_mse: 581.9447\n",
      "Epoch 3/10\n",
      "8/8 [==============================] - 0s 27ms/step - loss: 545.6604 - mae: 22.0134 - mse: 545.6604 - val_loss: 570.9840 - val_mae: 22.5212 - val_mse: 570.9840\n",
      "Epoch 4/10\n",
      "8/8 [==============================] - 0s 36ms/step - loss: 566.1192 - mae: 22.5840 - mse: 566.1192 - val_loss: 558.7821 - val_mae: 22.2391 - val_mse: 558.7821\n",
      "Epoch 5/10\n",
      "8/8 [==============================] - 0s 31ms/step - loss: 523.0737 - mae: 21.4799 - mse: 523.0737 - val_loss: 544.8395 - val_mae: 21.9130 - val_mse: 544.8395\n",
      "Epoch 6/10\n",
      "8/8 [==============================] - 0s 34ms/step - loss: 545.8365 - mae: 21.9402 - mse: 545.8365 - val_loss: 528.9435 - val_mae: 21.5413 - val_mse: 528.9435\n",
      "Epoch 7/10\n",
      "8/8 [==============================] - 0s 36ms/step - loss: 497.6493 - mae: 20.8324 - mse: 497.6493 - val_loss: 511.3315 - val_mae: 21.1235 - val_mse: 511.3315\n",
      "Epoch 8/10\n",
      "8/8 [==============================] - 0s 34ms/step - loss: 460.4537 - mae: 20.0350 - mse: 460.4537 - val_loss: 491.7074 - val_mae: 20.6509 - val_mse: 491.7074\n",
      "Epoch 9/10\n",
      "8/8 [==============================] - 0s 29ms/step - loss: 485.5352 - mae: 20.3737 - mse: 485.5352 - val_loss: 469.6113 - val_mae: 20.1123 - val_mse: 469.6113\n",
      "Epoch 10/10\n",
      "8/8 [==============================] - 0s 29ms/step - loss: 455.8335 - mae: 19.7958 - mse: 455.8335 - val_loss: 445.4190 - val_mae: 19.5075 - val_mse: 445.4190\n",
      "3/3 - 0s - loss: 465.4916 - mae: 19.9504 - mse: 465.4916\n",
      "INFO:root:Resource metadata-tracking-experiment-run-2 not found.\n",
      "INFO:root:Creating Resource metadata-tracking-experiment-run-2\n",
      "INFO:root:Resource metadata-tracking-experiment-run-2-metrics not found.\n",
      "INFO:root:Creating Resource metadata-tracking-experiment-run-2-metrics\n",
      "Model: \"sequential_2\"\n",
      "_________________________________________________________________\n",
      "Layer (type)                 Output Shape              Param #   \n",
      "=================================================================\n",
      "dense_6 (Dense)              (None, 16)                160       \n",
      "_________________________________________________________________\n",
      "dropout_2 (Dropout)          (None, 16)                0         \n",
      "_________________________________________________________________\n",
      "dense_7 (Dense)              (None, 16)                272       \n",
      "_________________________________________________________________\n",
      "dense_8 (Dense)              (None, 1)                 17        \n",
      "=================================================================\n",
      "Total params: 449\n",
      "Trainable params: 449\n",
      "Non-trainable params: 0\n",
      "_________________________________________________________________\n",
      "None\n",
      "Epoch 1/10\n",
      "8/8 [==============================] - 1s 74ms/step - loss: 595.4919 - mae: 23.0343 - mse: 595.4919 - val_loss: 619.7106 - val_mae: 23.5445 - val_mse: 619.7106\n",
      "Epoch 2/10\n",
      "8/8 [==============================] - 0s 30ms/step - loss: 581.6033 - mae: 22.8308 - mse: 581.6033 - val_loss: 612.6875 - val_mae: 23.3826 - val_mse: 612.6875\n",
      "Epoch 3/10\n",
      "8/8 [==============================] - 0s 33ms/step - loss: 608.1347 - mae: 23.2768 - mse: 608.1347 - val_loss: 605.5577 - val_mae: 23.2139 - val_mse: 605.5577\n",
      "Epoch 4/10\n",
      "8/8 [==============================] - 0s 26ms/step - loss: 561.0366 - mae: 22.3088 - mse: 561.0366 - val_loss: 598.1864 - val_mae: 23.0347 - val_mse: 598.1864\n",
      "Epoch 5/10\n",
      "8/8 [==============================] - 0s 36ms/step - loss: 571.3933 - mae: 22.4660 - mse: 571.3933 - val_loss: 590.3982 - val_mae: 22.8408 - val_mse: 590.3982\n",
      "Epoch 6/10\n",
      "8/8 [==============================] - 0s 28ms/step - loss: 522.6773 - mae: 21.5174 - mse: 522.6773 - val_loss: 582.0969 - val_mae: 22.6279 - val_mse: 582.0969\n",
      "Epoch 7/10\n",
      "8/8 [==============================] - 0s 32ms/step - loss: 531.3488 - mae: 21.6422 - mse: 531.3488 - val_loss: 573.0052 - val_mae: 22.3922 - val_mse: 573.0052\n",
      "Epoch 8/10\n",
      "8/8 [==============================] - 0s 31ms/step - loss: 543.6717 - mae: 21.8137 - mse: 543.6717 - val_loss: 563.1892 - val_mae: 22.1332 - val_mse: 563.1892\n",
      "Epoch 9/10\n",
      "8/8 [==============================] - 0s 30ms/step - loss: 522.8797 - mae: 21.3722 - mse: 522.8797 - val_loss: 552.5294 - val_mae: 21.8498 - val_mse: 552.5294\n",
      "Epoch 10/10\n",
      "8/8 [==============================] - 0s 28ms/step - loss: 535.1781 - mae: 21.4871 - mse: 535.1781 - val_loss: 540.7315 - val_mae: 21.5342 - val_mse: 540.7315\n",
      "3/3 - 0s - loss: 559.9514 - mae: 21.9070 - mse: 559.9514\n",
      "INFO:root:Resource metadata-tracking-experiment-run-3 not found.\n",
      "INFO:root:Creating Resource metadata-tracking-experiment-run-3\n",
      "INFO:root:Resource metadata-tracking-experiment-run-3-metrics not found.\n",
      "INFO:root:Creating Resource metadata-tracking-experiment-run-3-metrics\n",
      "Model: \"sequential_3\"\n",
      "_________________________________________________________________\n",
      "Layer (type)                 Output Shape              Param #   \n",
      "=================================================================\n",
      "dense_9 (Dense)              (None, 32)                320       \n",
      "_________________________________________________________________\n",
      "dropout_3 (Dropout)          (None, 32)                0         \n",
      "_________________________________________________________________\n",
      "dense_10 (Dense)             (None, 32)                1056      \n",
      "_________________________________________________________________\n",
      "dense_11 (Dense)             (None, 1)                 33        \n",
      "=================================================================\n",
      "Total params: 1,409\n",
      "Trainable params: 1,409\n",
      "Non-trainable params: 0\n",
      "_________________________________________________________________\n",
      "None\n",
      "Epoch 1/10\n",
      "8/8 [==============================] - 1s 78ms/step - loss: 590.9234 - mae: 23.0101 - mse: 590.9234 - val_loss: 608.8188 - val_mae: 23.3519 - val_mse: 608.8188\n",
      "Epoch 2/10\n",
      "8/8 [==============================] - 0s 27ms/step - loss: 573.5554 - mae: 22.5926 - mse: 573.5554 - val_loss: 589.3939 - val_mae: 22.9077 - val_mse: 589.3939\n",
      "Epoch 3/10\n",
      "8/8 [==============================] - 0s 34ms/step - loss: 552.5281 - mae: 22.1530 - mse: 552.5281 - val_loss: 569.4688 - val_mae: 22.4441 - val_mse: 569.4688\n",
      "Epoch 4/10\n",
      "8/8 [==============================] - 0s 34ms/step - loss: 498.9114 - mae: 21.0277 - mse: 498.9114 - val_loss: 547.9020 - val_mae: 21.9278 - val_mse: 547.9020\n",
      "Epoch 5/10\n",
      "8/8 [==============================] - 0s 34ms/step - loss: 503.3932 - mae: 21.0990 - mse: 503.3932 - val_loss: 523.8206 - val_mae: 21.3354 - val_mse: 523.8206\n",
      "Epoch 6/10\n",
      "8/8 [==============================] - 0s 28ms/step - loss: 483.0229 - mae: 20.4542 - mse: 483.0229 - val_loss: 496.2122 - val_mae: 20.6411 - val_mse: 496.2122\n",
      "Epoch 7/10\n",
      "8/8 [==============================] - 0s 32ms/step - loss: 432.2750 - mae: 19.2776 - mse: 432.2750 - val_loss: 464.9884 - val_mae: 19.8322 - val_mse: 464.9884\n",
      "Epoch 8/10\n",
      "8/8 [==============================] - 0s 30ms/step - loss: 419.9148 - mae: 18.8843 - mse: 419.9148 - val_loss: 428.5876 - val_mae: 18.8739 - val_mse: 428.5876\n",
      "Epoch 9/10\n",
      "8/8 [==============================] - 0s 36ms/step - loss: 401.6472 - mae: 18.3251 - mse: 401.6472 - val_loss: 387.5347 - val_mae: 17.7621 - val_mse: 387.5347\n",
      "Epoch 10/10\n",
      "8/8 [==============================] - 0s 37ms/step - loss: 357.6125 - mae: 17.1710 - mse: 357.6125 - val_loss: 343.2477 - val_mae: 16.4994 - val_mse: 343.2477\n",
      "3/3 - 0s - loss: 354.9121 - mae: 16.8957 - mse: 354.9121\n",
      "INFO:root:Resource metadata-tracking-experiment-run-4 not found.\n",
      "INFO:root:Creating Resource metadata-tracking-experiment-run-4\n",
      "INFO:root:Resource metadata-tracking-experiment-run-4-metrics not found.\n",
      "INFO:root:Creating Resource metadata-tracking-experiment-run-4-metrics\n",
      "Model: \"sequential_4\"\n",
      "_________________________________________________________________\n",
      "Layer (type)                 Output Shape              Param #   \n",
      "=================================================================\n",
      "dense_12 (Dense)             (None, 32)                320       \n",
      "_________________________________________________________________\n",
      "dropout_4 (Dropout)          (None, 32)                0         \n",
      "_________________________________________________________________\n",
      "dense_13 (Dense)             (None, 32)                1056      \n",
      "_________________________________________________________________\n",
      "dense_14 (Dense)             (None, 1)                 33        \n",
      "=================================================================\n",
      "Total params: 1,409\n",
      "Trainable params: 1,409\n",
      "Non-trainable params: 0\n",
      "_________________________________________________________________\n",
      "None\n",
      "Epoch 1/10\n",
      "8/8 [==============================] - 1s 74ms/step - loss: 600.0208 - mae: 23.2363 - mse: 600.0208 - val_loss: 601.3474 - val_mae: 23.2006 - val_mse: 601.3474\n",
      "Epoch 2/10\n",
      "8/8 [==============================] - 0s 29ms/step - loss: 564.3474 - mae: 22.5164 - mse: 564.3474 - val_loss: 582.8687 - val_mae: 22.7797 - val_mse: 582.8687\n",
      "Epoch 3/10\n",
      "8/8 [==============================] - 0s 38ms/step - loss: 548.7129 - mae: 22.1682 - mse: 548.7129 - val_loss: 563.0464 - val_mae: 22.3321 - val_mse: 563.0464\n",
      "Epoch 4/10\n",
      "8/8 [==============================] - 0s 39ms/step - loss: 565.3145 - mae: 22.4025 - mse: 565.3145 - val_loss: 541.0065 - val_mae: 21.8317 - val_mse: 541.0065\n",
      "Epoch 5/10\n",
      "8/8 [==============================] - 0s 36ms/step - loss: 485.2583 - mae: 20.5760 - mse: 485.2583 - val_loss: 516.5603 - val_mae: 21.2644 - val_mse: 516.5603\n",
      "Epoch 6/10\n",
      "8/8 [==============================] - 0s 39ms/step - loss: 482.4636 - mae: 20.5800 - mse: 482.4636 - val_loss: 487.7086 - val_mae: 20.5960 - val_mse: 487.7086\n",
      "Epoch 7/10\n",
      "8/8 [==============================] - 0s 30ms/step - loss: 473.2138 - mae: 20.1967 - mse: 473.2138 - val_loss: 455.3878 - val_mae: 19.8258 - val_mse: 455.3878\n",
      "Epoch 8/10\n",
      "8/8 [==============================] - 0s 34ms/step - loss: 425.0837 - mae: 19.0692 - mse: 425.0837 - val_loss: 419.4521 - val_mae: 18.9381 - val_mse: 419.4521\n",
      "Epoch 9/10\n",
      "8/8 [==============================] - 0s 28ms/step - loss: 414.3169 - mae: 18.9118 - mse: 414.3169 - val_loss: 379.4883 - val_mae: 17.9129 - val_mse: 379.4883\n",
      "Epoch 10/10\n",
      "8/8 [==============================] - 0s 30ms/step - loss: 354.0125 - mae: 17.3587 - mse: 354.0125 - val_loss: 336.3884 - val_mae: 16.7430 - val_mse: 336.3884\n",
      "3/3 - 0s - loss: 349.3498 - mae: 17.1331 - mse: 349.3498\n"
     ]
    }
   ],
   "source": [
    "parameters = [\n",
    "             {'num_units':16, 'epochs':3, 'dropout_rate':0.1}, \n",
    "             {'num_units':16, 'epochs':10, 'dropout_rate':0.1}, \n",
    "             {'num_units':16, 'epochs':10, 'dropout_rate':0.2},\n",
    "             {'num_units':32, 'epochs':10, 'dropout_rate':0.1},\n",
    "             {'num_units':32, 'epochs':10, 'dropout_rate':0.2},\n",
    "            ]\n",
    "\n",
    "for i, params in enumerate(parameters):\n",
    "  aiplatform.start_run(run=f'run-{i}')\n",
    "  aiplatform.log_params(params)\n",
    "  model, history = train(normed_train_data, train_labels, num_units=params['num_units'],\n",
    "                        activation='relu', epochs=params['epochs'], dropout_rate=params['dropout_rate'])\n",
    "  aiplatform.log_metrics({metric: values[-1]\n",
    "                            for metric, values in history.history.items()})\n",
    "  \n",
    "  loss, mae, mse = model.evaluate(normed_test_data, test_labels, verbose=2) \n",
    "  aiplatform.log_metrics({'eval_loss':loss, 'eval_mae':mae, 'eval_mse':mse})"
   ]
  },
  {
   "cell_type": "markdown",
   "metadata": {
    "id": "jZLrJZTfL7tE"
   },
   "source": [
    "## Extract parameters and metrics into a dataframe for analysis"
   ]
  },
  {
   "cell_type": "code",
   "execution_count": 13,
   "metadata": {
    "colab": {
     "base_uri": "https://localhost:8080/",
     "height": 299
    },
    "id": "jbRf1WoH_vbY",
    "outputId": "2da69a4e-c670-4c96-d0b4-74238f18eef2"
   },
   "outputs": [
    {
     "data": {
      "text/html": [
       "<div>\n",
       "<style scoped>\n",
       "    .dataframe tbody tr th:only-of-type {\n",
       "        vertical-align: middle;\n",
       "    }\n",
       "\n",
       "    .dataframe tbody tr th {\n",
       "        vertical-align: top;\n",
       "    }\n",
       "\n",
       "    .dataframe thead th {\n",
       "        text-align: right;\n",
       "    }\n",
       "</style>\n",
       "<table border=\"1\" class=\"dataframe\">\n",
       "  <thead>\n",
       "    <tr style=\"text-align: right;\">\n",
       "      <th></th>\n",
       "      <th>experiment_name</th>\n",
       "      <th>run_name</th>\n",
       "      <th>param.epochs</th>\n",
       "      <th>param.dropout_rate</th>\n",
       "      <th>param.num_units</th>\n",
       "      <th>metric.mse</th>\n",
       "      <th>metric.val_mae</th>\n",
       "      <th>metric.val_mse</th>\n",
       "      <th>metric.eval_loss</th>\n",
       "      <th>metric.mae</th>\n",
       "      <th>metric.eval_mse</th>\n",
       "      <th>metric.loss</th>\n",
       "      <th>metric.val_loss</th>\n",
       "      <th>metric.eval_mae</th>\n",
       "    </tr>\n",
       "  </thead>\n",
       "  <tbody>\n",
       "    <tr>\n",
       "      <th>0</th>\n",
       "      <td>metadata-tracking-experiment</td>\n",
       "      <td>run-4</td>\n",
       "      <td>10.0</td>\n",
       "      <td>0.2</td>\n",
       "      <td>32.0</td>\n",
       "      <td>352.720612</td>\n",
       "      <td>16.743032</td>\n",
       "      <td>336.388397</td>\n",
       "      <td>349.349823</td>\n",
       "      <td>17.282282</td>\n",
       "      <td>349.349823</td>\n",
       "      <td>352.720612</td>\n",
       "      <td>336.388397</td>\n",
       "      <td>17.133062</td>\n",
       "    </tr>\n",
       "    <tr>\n",
       "      <th>1</th>\n",
       "      <td>metadata-tracking-experiment</td>\n",
       "      <td>run-3</td>\n",
       "      <td>10.0</td>\n",
       "      <td>0.1</td>\n",
       "      <td>32.0</td>\n",
       "      <td>358.596191</td>\n",
       "      <td>16.499369</td>\n",
       "      <td>343.247681</td>\n",
       "      <td>354.912109</td>\n",
       "      <td>17.038406</td>\n",
       "      <td>354.912109</td>\n",
       "      <td>358.596191</td>\n",
       "      <td>343.247681</td>\n",
       "      <td>16.895674</td>\n",
       "    </tr>\n",
       "    <tr>\n",
       "      <th>2</th>\n",
       "      <td>metadata-tracking-experiment</td>\n",
       "      <td>run-2</td>\n",
       "      <td>10.0</td>\n",
       "      <td>0.2</td>\n",
       "      <td>16.0</td>\n",
       "      <td>525.632446</td>\n",
       "      <td>21.534233</td>\n",
       "      <td>540.731506</td>\n",
       "      <td>559.951416</td>\n",
       "      <td>21.311123</td>\n",
       "      <td>559.951416</td>\n",
       "      <td>525.632446</td>\n",
       "      <td>540.731506</td>\n",
       "      <td>21.906973</td>\n",
       "    </tr>\n",
       "    <tr>\n",
       "      <th>3</th>\n",
       "      <td>metadata-tracking-experiment</td>\n",
       "      <td>run-1</td>\n",
       "      <td>10.0</td>\n",
       "      <td>0.1</td>\n",
       "      <td>16.0</td>\n",
       "      <td>449.058929</td>\n",
       "      <td>19.507488</td>\n",
       "      <td>445.419037</td>\n",
       "      <td>465.491638</td>\n",
       "      <td>19.622105</td>\n",
       "      <td>465.491638</td>\n",
       "      <td>449.058929</td>\n",
       "      <td>445.419037</td>\n",
       "      <td>19.950357</td>\n",
       "    </tr>\n",
       "    <tr>\n",
       "      <th>4</th>\n",
       "      <td>metadata-tracking-experiment</td>\n",
       "      <td>run-0</td>\n",
       "      <td>3.0</td>\n",
       "      <td>0.1</td>\n",
       "      <td>16.0</td>\n",
       "      <td>573.128052</td>\n",
       "      <td>23.001535</td>\n",
       "      <td>592.654114</td>\n",
       "      <td>608.440430</td>\n",
       "      <td>22.627436</td>\n",
       "      <td>608.440430</td>\n",
       "      <td>573.128052</td>\n",
       "      <td>592.654114</td>\n",
       "      <td>23.255013</td>\n",
       "    </tr>\n",
       "  </tbody>\n",
       "</table>\n",
       "</div>"
      ],
      "text/plain": [
       "                experiment_name run_name  param.epochs  param.dropout_rate  \\\n",
       "0  metadata-tracking-experiment    run-4          10.0                 0.2   \n",
       "1  metadata-tracking-experiment    run-3          10.0                 0.1   \n",
       "2  metadata-tracking-experiment    run-2          10.0                 0.2   \n",
       "3  metadata-tracking-experiment    run-1          10.0                 0.1   \n",
       "4  metadata-tracking-experiment    run-0           3.0                 0.1   \n",
       "\n",
       "   param.num_units  metric.mse  metric.val_mae  metric.val_mse  \\\n",
       "0             32.0  352.720612       16.743032      336.388397   \n",
       "1             32.0  358.596191       16.499369      343.247681   \n",
       "2             16.0  525.632446       21.534233      540.731506   \n",
       "3             16.0  449.058929       19.507488      445.419037   \n",
       "4             16.0  573.128052       23.001535      592.654114   \n",
       "\n",
       "   metric.eval_loss  metric.mae  metric.eval_mse  metric.loss  \\\n",
       "0        349.349823   17.282282       349.349823   352.720612   \n",
       "1        354.912109   17.038406       354.912109   358.596191   \n",
       "2        559.951416   21.311123       559.951416   525.632446   \n",
       "3        465.491638   19.622105       465.491638   449.058929   \n",
       "4        608.440430   22.627436       608.440430   573.128052   \n",
       "\n",
       "   metric.val_loss  metric.eval_mae  \n",
       "0       336.388397        17.133062  \n",
       "1       343.247681        16.895674  \n",
       "2       540.731506        21.906973  \n",
       "3       445.419037        19.950357  \n",
       "4       592.654114        23.255013  "
      ]
     },
     "execution_count": 13,
     "metadata": {},
     "output_type": "execute_result"
    }
   ],
   "source": [
    "experiment_df = aiplatform.get_experiment_df()\n",
    "experiment_df"
   ]
  },
  {
   "cell_type": "markdown",
   "metadata": {
    "id": "EYuYgqVCMKU1"
   },
   "source": [
    "## Parallel Coordinates Example"
   ]
  },
  {
   "cell_type": "code",
   "execution_count": 14,
   "metadata": {
    "colab": {
     "base_uri": "https://localhost:8080/",
     "height": 338
    },
    "id": "r8orCj8iJuO1",
    "outputId": "7ad25afa-5976-4432-f9e1-855b60a608df"
   },
   "outputs": [
    {
     "data": {
      "text/plain": [
       "<matplotlib.legend.Legend at 0x7f995ef16d10>"
      ]
     },
     "execution_count": 14,
     "metadata": {},
     "output_type": "execute_result"
    },
    {
     "data": {
      "image/png": "[encoded data removed]",
      "text/plain": [
       "<Figure size 1080x360 with 1 Axes>"
      ]
     },
     "metadata": {
      "needs_background": "light"
     },
     "output_type": "display_data"
    }
   ],
   "source": [
    "import matplotlib.pyplot as plt\n",
    "plt.rcParams[\"figure.figsize\"] = [15, 5]\n",
    "\n",
    "ax = pd.plotting.parallel_coordinates(\n",
    "    experiment_df.reset_index(level=0),\n",
    "    'run_name', cols=['param.num_units', 'param.dropout_rate',\n",
    "                             'param.epochs', 'metric.loss',\n",
    "                             'metric.val_loss', 'metric.eval_loss'],\n",
    "    color=['blue', 'green', 'pink', 'red'],\n",
    "    )\n",
    "ax.set_yscale('symlog')\n",
    "ax.legend(bbox_to_anchor=(1.0, 0.5))"
   ]
  },
  {
   "cell_type": "markdown",
   "metadata": {
    "id": "WTHvPMweMlP1"
   },
   "source": [
    "## View data in pantheon UI"
   ]
  },
  {
   "cell_type": "markdown",
   "metadata": {
    "id": "F19_5lw0MqXv"
   },
   "source": [
    "Parameters and metrics can also be viewed in pantheon UI. "
   ]
  },
  {
   "cell_type": "code",
   "execution_count": 15,
   "metadata": {
    "colab": {
     "base_uri": "https://localhost:8080/"
    },
    "id": "Rc423FahXaZ_",
    "outputId": "fb0a1075-ca7e-4a9d-b90b-ae281c639cbf"
   },
   "outputs": [
    {
     "name": "stdout",
     "output_type": "stream",
     "text": [
      "Autopush UI:\n",
      "https://pantheon-hourly-sso.corp.google.com/ai/platform/locations/us-central1/experiments/experiment1/parameters?e=UcaipUiExperimentsLaunch::UcaipUiExperimentsEnabled,UcaipStudiesListDetailsLaunch::UcaipStudiesListDetailsEnabled&mods=-ai_platform_fake_service,-ai_platform_staging_service&p2env=features%2F1566058016537%2Fbuild_units%2Fmain%2Fenvironments%2Fautopush&project=rthallam-demo-project\n",
      "Staging UI:\n",
      "https://pantheon.corp.google.com/ai/platform/experiments/experiments?e=UcaipCustomBatchPredictionLaunch::UcaipCustomBatchPredictionEnabled,UcaipGaLaunch::UcaipGaEnabled,UcaipUiExperimentsLaunch::UcaipUiExperimentsEnabled,UcaipStudiesListDetailsLaunch::UcaipStudiesListDetailsEnabled&mods=-ai_platform_fake_service,ai_platform_staging_service&p2env=features%2F1566058016537%2Fbuild_units%2Fmain%2Fenvironments%2Fstaging&project=rthallam-demo-project\n",
      "Prod UI:\n",
      "https://pantheon.corp.google.com/ai/platform/experiments/experiments?folder=&organizationId=&project=rthallam-demo-project\n"
     ]
    }
   ],
   "source": [
    "print(\"Autopush UI:\")\n",
    "print(f'https://pantheon-hourly-sso.corp.google.com/ai/platform/locations/us-central1/experiments/experiment1/parameters?e=UcaipUiExperimentsLaunch::UcaipUiExperimentsEnabled,UcaipStudiesListDetailsLaunch::UcaipStudiesListDetailsEnabled&mods=-ai_platform_fake_service,-ai_platform_staging_service&p2env=features%2F1566058016537%2Fbuild_units%2Fmain%2Fenvironments%2Fautopush&project={MY_PROJECT}')\n",
    "print(\"Staging UI:\")\n",
    "print(f'https://pantheon.corp.google.com/ai/platform/experiments/experiments?e=UcaipCustomBatchPredictionLaunch::UcaipCustomBatchPredictionEnabled,UcaipGaLaunch::UcaipGaEnabled,UcaipUiExperimentsLaunch::UcaipUiExperimentsEnabled,UcaipStudiesListDetailsLaunch::UcaipStudiesListDetailsEnabled&mods=-ai_platform_fake_service,ai_platform_staging_service&p2env=features%2F1566058016537%2Fbuild_units%2Fmain%2Fenvironments%2Fstaging&project={MY_PROJECT}')\n",
    "print(\"Prod UI:\")\n",
    "print(f'https://pantheon.corp.google.com/ai/platform/experiments/experiments?folder=&organizationId=&project={MY_PROJECT}')"
   ]
  },
  {
   "cell_type": "markdown",
   "metadata": {
    "id": "6PlilQPFeS_h"
   },
   "source": [
    "# Tracking parameter and metrics for models trained with AI platform toolsets"
   ]
  },
  {
   "cell_type": "markdown",
   "metadata": {
    "id": "wc42GVvJfAuk"
   },
   "source": [
    "And of cause the SDK also support tracking parameters and metrics for models trained with AI plaftform toolsets."
   ]
  },
  {
   "cell_type": "markdown",
   "metadata": {
    "id": "rQMGw0XlPh-o"
   },
   "source": [
    "## Create Training Script that saves Explainable model"
   ]
  },
  {
   "cell_type": "code",
   "execution_count": 18,
   "metadata": {
    "colab": {
     "base_uri": "https://localhost:8080/"
    },
    "id": "jNBmoLbhJ7-X",
    "outputId": "c6bdfc15-413f-43fb-f1ec-0bfaa613fb3b"
   },
   "outputs": [
    {
     "name": "stdout",
     "output_type": "stream",
     "text": [
      "Writing training_script.py\n"
     ]
    }
   ],
   "source": [
    "%%writefile training_script.py\n",
    "# Single, Mirror and Multi-Machine Distributed Training for CIFAR-10\n",
    "\n",
    "from explainable_ai_sdk.metadata.tf.v2 import SavedModelMetadataBuilder\n",
    "\n",
    "from tensorflow.python.client import device_lib\n",
    "import tensorflow_datasets as tfds\n",
    "import tensorflow as tf\n",
    "\n",
    "import numpy as np\n",
    "import tempfile\n",
    "import argparse\n",
    "import sys\n",
    "import os\n",
    "\n",
    "tfds.disable_progress_bar()\n",
    "\n",
    "parser = argparse.ArgumentParser()\n",
    "parser.add_argument('--model-dir', dest='model_dir',\n",
    "                    default=os.getenv('AIP_MODEL_DIR'), type=str, help='Model dir.')\n",
    "parser.add_argument('--lr', dest='lr',\n",
    "                    default=0.001, type=float,\n",
    "                    help='Learning rate.')\n",
    "parser.add_argument('--epochs', dest='epochs',\n",
    "                    default=20, type=int,\n",
    "                    help='Number of epochs.')\n",
    "parser.add_argument('--steps', dest='steps',\n",
    "                    default=100, type=int,\n",
    "                    help='Number of steps per epoch.')\n",
    "parser.add_argument('--distribute', dest='distribute', type=str, default='single',\n",
    "                    help='distributed training strategy')\n",
    "args = parser.parse_args()\n",
    "\n",
    "print('Python Version = {}'.format(sys.version))\n",
    "print('TensorFlow Version = {}'.format(tf.__version__))\n",
    "print('TF_CONFIG = {}'.format(os.environ.get('TF_CONFIG', 'Not found')))\n",
    "\n",
    "# Single Machine, single compute device\n",
    "if args.distribute == 'single':\n",
    "    if tf.test.is_gpu_available():\n",
    "        strategy = tf.distribute.OneDeviceStrategy(device=\"/gpu:0\")\n",
    "    else:\n",
    "        strategy = tf.distribute.OneDeviceStrategy(device=\"/cpu:0\")\n",
    "# Single Machine, multiple compute device\n",
    "elif args.distribute == 'mirror':\n",
    "    strategy = tf.distribute.MirroredStrategy()\n",
    "# Multiple Machine, multiple compute device\n",
    "elif args.distribute == 'multi':\n",
    "    strategy = tf.distribute.experimental.MultiWorkerMirroredStrategy()\n",
    "\n",
    "# Multi-worker configuration\n",
    "print('num_replicas_in_sync = {}'.format(strategy.num_replicas_in_sync))\n",
    "\n",
    "def make_dataset():\n",
    "  # Scaling Boston Housing data features\n",
    "  def scale(feature):\n",
    "    max = np.max(feature)\n",
    "    feature = (feature / max).astype(np.float)\n",
    "    return feature\n",
    "\n",
    "  (x_train, y_train), (x_test, y_test) = tf.keras.datasets.boston_housing.load_data(\n",
    "    path=\"boston_housing.npz\", test_split=0.2, seed=113\n",
    "  )\n",
    "  for _ in range(13):\n",
    "    x_train[_] = scale(x_train[_])\n",
    "    x_test[_] = scale(x_test[_])\n",
    "  return (x_train, y_train), (x_test, y_test)\n",
    "\n",
    "# Build the Keras model\n",
    "def build_and_compile_dnn_model():\n",
    "  model = tf.keras.Sequential([\n",
    "      tf.keras.layers.Dense(128, activation='relu', input_shape=(13,)),\n",
    "      tf.keras.layers.Dense(128, activation='relu'),\n",
    "      tf.keras.layers.Dense(1, activation='linear')\n",
    "  ])\n",
    "  model.compile(\n",
    "      loss='mse',\n",
    "      optimizer=tf.keras.optimizers.RMSprop(learning_rate=args.lr))\n",
    "  return model\n",
    "\n",
    "# Train the model\n",
    "NUM_WORKERS = strategy.num_replicas_in_sync\n",
    "# Here the batch size scales up by number of workers since\n",
    "# `tf.data.Dataset.batch` expects the global batch size.\n",
    "BATCH_SIZE = 16\n",
    "GLOBAL_BATCH_SIZE = BATCH_SIZE * NUM_WORKERS\n",
    "\n",
    "with strategy.scope():\n",
    "  # Creation of dataset, and model building/compiling need to be within\n",
    "  # `strategy.scope()`.\n",
    "  model = build_and_compile_dnn_model()\n",
    "\n",
    "# Train the model\n",
    "(x_train, y_train), (x_test, y_test) = make_dataset()\n",
    "model.fit(x_train, y_train, epochs=args.epochs, batch_size=GLOBAL_BATCH_SIZE)\n",
    "\n",
    "tmpdir = tempfile.mkdtemp()\n",
    "\n",
    "model.save(tmpdir)\n",
    "\n",
    "# Save TF Model with Explainable metadata to GCS\n",
    "builder = SavedModelMetadataBuilder(tmpdir)\n",
    "builder.save_model_with_metadata(args.model_dir)\n"
   ]
  },
  {
   "cell_type": "markdown",
   "metadata": {
    "id": "Yp2clkOJSDhR"
   },
   "source": [
    "## Launch a Training Job and Create a Model on AI Platform (Unified)"
   ]
  },
  {
   "cell_type": "code",
   "execution_count": 23,
   "metadata": {
    "id": "OwmqEIKYJ7-Y"
   },
   "outputs": [],
   "source": [
    "job = aiplatform.CustomTrainingJob(\n",
    "    display_name=f\"temp-mbsdk-explainable-ai-custom-tabular-nb-{uuid.uuid4()}\",\n",
    "    script_path=\"training_script.py\",\n",
    "    container_uri=\"gcr.io/cloud-aiplatform/training/tf-gpu.2-1:latest\",\n",
    "    requirements=[\n",
    "        \"tensorflow_datasets\",\n",
    "        \"explainable-ai-sdk\",\n",
    "    ],\n",
    "    model_serving_container_image_uri=\"gcr.io/cloud-aiplatform/prediction/tf2-gpu.2-1:latest\",\n",
    ")"
   ]
  },
  {
   "cell_type": "code",
   "execution_count": 24,
   "metadata": {
    "colab": {
     "base_uri": "https://localhost:8080/"
    },
    "id": "oVTORjQpJ7-Y",
    "outputId": "0bc415d5-6d93-409a-fcf5-29305661906b"
   },
   "outputs": [
    {
     "name": "stdout",
     "output_type": "stream",
     "text": [
      "INFO:google.cloud.aiplatform.training_jobs:Training script copied to:\n",
      "gs://cloud-ai-platform-2f444b6a-a742-444b-b91a-c7519f51bd77/aiplatform-2021-04-28-03:31:47.309-aiplatform_custom_trainer_script-0.1.tar.gz.\n",
      "INFO:google.cloud.aiplatform.training_jobs:Training Output directory:\n",
      "gs://cloud-ai-platform-2f444b6a-a742-444b-b91a-c7519f51bd77/aiplatform-custom-training-2021-04-28-03:31:47.420 \n",
      "INFO:google.cloud.aiplatform.training_jobs:View Training:\n",
      "https://console.cloud.google.com/ai/platform/locations/us-central1/training/4277742346839261184?project=560224572293\n",
      "INFO:google.cloud.aiplatform.training_jobs:CustomTrainingJob projects/560224572293/locations/us-central1/trainingPipelines/4277742346839261184 current state:\n",
      "PipelineState.PIPELINE_STATE_RUNNING\n",
      "INFO:google.cloud.aiplatform.training_jobs:CustomTrainingJob projects/560224572293/locations/us-central1/trainingPipelines/4277742346839261184 current state:\n",
      "PipelineState.PIPELINE_STATE_RUNNING\n",
      "INFO:google.cloud.aiplatform.training_jobs:CustomTrainingJob projects/560224572293/locations/us-central1/trainingPipelines/4277742346839261184 current state:\n",
      "PipelineState.PIPELINE_STATE_RUNNING\n",
      "INFO:google.cloud.aiplatform.training_jobs:CustomTrainingJob projects/560224572293/locations/us-central1/trainingPipelines/4277742346839261184 current state:\n",
      "PipelineState.PIPELINE_STATE_RUNNING\n",
      "INFO:google.cloud.aiplatform.training_jobs:CustomTrainingJob projects/560224572293/locations/us-central1/trainingPipelines/4277742346839261184 current state:\n",
      "PipelineState.PIPELINE_STATE_RUNNING\n",
      "INFO:google.cloud.aiplatform.training_jobs:CustomTrainingJob projects/560224572293/locations/us-central1/trainingPipelines/4277742346839261184 current state:\n",
      "PipelineState.PIPELINE_STATE_RUNNING\n",
      "INFO:google.cloud.aiplatform.training_jobs:CustomTrainingJob projects/560224572293/locations/us-central1/trainingPipelines/4277742346839261184 current state:\n",
      "PipelineState.PIPELINE_STATE_RUNNING\n",
      "INFO:google.cloud.aiplatform.training_jobs:CustomTrainingJob projects/560224572293/locations/us-central1/trainingPipelines/4277742346839261184 current state:\n",
      "PipelineState.PIPELINE_STATE_RUNNING\n",
      "INFO:google.cloud.aiplatform.training_jobs:CustomTrainingJob run completed. Resource name: projects/560224572293/locations/us-central1/trainingPipelines/4277742346839261184\n",
      "INFO:google.cloud.aiplatform.training_jobs:Model available at projects/560224572293/locations/us-central1/models/3438128879590440960\n"
     ]
    }
   ],
   "source": [
    "aiplatform.start_run(\"custom-training-run-1\")\n",
    "parameters = {'epochs': 10, 'learning_rate': 0.01, 'steps': 50}\n",
    "aiplatform.log_params(parameters)\n",
    "\n",
    "model = job.run(\n",
    "    model_display_name=\"temp-boston-housing-mbsdk-explainable-tabular-model\",\n",
    "    replica_count=1,\n",
    "    machine_type=\"n1-standard-4\",\n",
    "    accelerator_type=\"NVIDIA_TESLA_K80\",\n",
    "    accelerator_count=1,\n",
    "    args=[ f\"--epochs={parameters['epochs']}\",f\"--lr={parameters['learning_rate']}\",\n",
    "          f\"--steps={parameters['steps']}\", \"--distribute=single\" ],\n",
    ")"
   ]
  },
  {
   "cell_type": "markdown",
   "metadata": {
    "id": "BrK1PppWwTEF"
   },
   "source": [
    "# Extract parameters and metrics from a managed pipeline job"
   ]
  },
  {
   "cell_type": "markdown",
   "metadata": {
    "id": "XVNMJisbwkpM"
   },
   "source": [
    "MB SDk can also generate a dataframe for parameters and metrics created during a managed pipeline job"
   ]
  },
  {
   "cell_type": "code",
   "execution_count": 25,
   "metadata": {
    "id": "wIf0sgtaxbdC"
   },
   "outputs": [],
   "source": [
    "aiplatform.init(project='rthallam-demo-project')"
   ]
  },
  {
   "cell_type": "markdown",
   "metadata": {
    "id": "lYRw-miyY801"
   },
   "source": [
    "## Run comparison on basic metrics"
   ]
  },
  {
   "cell_type": "markdown",
   "metadata": {
    "id": "mwEA7sIfZEkL"
   },
   "source": [
    "The pipeline example below was created using thi [notebook](https://colab.sandbox.google.com/drive/1ilra4_nlQjC1MxINpIV6JZhv4l4zoWpA#scrollTo=y7r1SQ9aypFb)."
   ]
  },
  {
   "cell_type": "code",
   "execution_count": 26,
   "metadata": {
    "colab": {
     "base_uri": "https://localhost:8080/",
     "height": 195
    },
    "id": "gAHpkxMGOlcV",
    "outputId": "a441f3aa-36ab-43b3-a091-e43a6b6ff60d"
   },
   "outputs": [
    {
     "ename": "ValueError",
     "evalue": "Please provide a valid pipeline name. container-based-pipeline-rthallam is not a pipeline.",
     "output_type": "error",
     "traceback": [
      "\u001b[0;31m---------------------------------------------------------------------------\u001b[0m",
      "\u001b[0;31mValueError\u001b[0m                                Traceback (most recent call last)",
      "\u001b[0;32m<ipython-input-26-e8df3ba1b9f9>\u001b[0m in \u001b[0;36m<module>\u001b[0;34m\u001b[0m\n\u001b[0;32m----> 1\u001b[0;31m \u001b[0mpipeline_df\u001b[0m \u001b[0;34m=\u001b[0m \u001b[0maiplatform\u001b[0m\u001b[0;34m.\u001b[0m\u001b[0mget_pipeline_df\u001b[0m\u001b[0;34m(\u001b[0m\u001b[0mpipeline\u001b[0m\u001b[0;34m=\u001b[0m\u001b[0;34m\"container-based-pipeline-rthallam\"\u001b[0m\u001b[0;34m)\u001b[0m\u001b[0;34m\u001b[0m\u001b[0;34m\u001b[0m\u001b[0m\n\u001b[0m\u001b[1;32m      2\u001b[0m \u001b[0mpipeline_df\u001b[0m\u001b[0;34m\u001b[0m\u001b[0;34m\u001b[0m\u001b[0m\n",
      "\u001b[0;32m~/.local/lib/python3.7/site-packages/google/cloud/aiplatform/metadata/metadata.py\u001b[0m in \u001b[0;36mget_pipeline_df\u001b[0;34m(self, pipeline)\u001b[0m\n\u001b[1;32m    182\u001b[0m         \u001b[0msource\u001b[0m \u001b[0;34m=\u001b[0m \u001b[0;34m\"pipeline\"\u001b[0m\u001b[0;34m\u001b[0m\u001b[0;34m\u001b[0m\u001b[0m\n\u001b[1;32m    183\u001b[0m         pipeline_resource_name = self._get_experiment_or_pipeline_resource_name(\n\u001b[0;32m--> 184\u001b[0;31m             \u001b[0mname\u001b[0m\u001b[0;34m=\u001b[0m\u001b[0mpipeline\u001b[0m\u001b[0;34m,\u001b[0m \u001b[0msource\u001b[0m\u001b[0;34m=\u001b[0m\u001b[0msource\u001b[0m\u001b[0;34m,\u001b[0m \u001b[0mexpected_schema\u001b[0m\u001b[0;34m=\u001b[0m\u001b[0mconstants\u001b[0m\u001b[0;34m.\u001b[0m\u001b[0mSYSTEM_PIPELINE\u001b[0m\u001b[0;34m\u001b[0m\u001b[0;34m\u001b[0m\u001b[0m\n\u001b[0m\u001b[1;32m    185\u001b[0m         )\n\u001b[1;32m    186\u001b[0m \u001b[0;34m\u001b[0m\u001b[0m\n",
      "\u001b[0;32m~/.local/lib/python3.7/site-packages/google/cloud/aiplatform/metadata/metadata.py\u001b[0m in \u001b[0;36m_get_experiment_or_pipeline_resource_name\u001b[0;34m(name, source, expected_schema)\u001b[0m\n\u001b[1;32m    227\u001b[0m         \u001b[0;32mif\u001b[0m \u001b[0mcontext\u001b[0m\u001b[0;34m.\u001b[0m\u001b[0mschema_title\u001b[0m \u001b[0;34m!=\u001b[0m \u001b[0mexpected_schema\u001b[0m\u001b[0;34m:\u001b[0m\u001b[0;34m\u001b[0m\u001b[0;34m\u001b[0m\u001b[0m\n\u001b[1;32m    228\u001b[0m             raise ValueError(\n\u001b[0;32m--> 229\u001b[0;31m                 \u001b[0;34mf\"Please provide a valid {source} name. {name} is not a {source}.\"\u001b[0m\u001b[0;34m\u001b[0m\u001b[0;34m\u001b[0m\u001b[0m\n\u001b[0m\u001b[1;32m    230\u001b[0m             )\n\u001b[1;32m    231\u001b[0m         \u001b[0;32mreturn\u001b[0m \u001b[0mcontext\u001b[0m\u001b[0;34m.\u001b[0m\u001b[0mresource_name\u001b[0m\u001b[0;34m\u001b[0m\u001b[0;34m\u001b[0m\u001b[0m\n",
      "\u001b[0;31mValueError\u001b[0m: Please provide a valid pipeline name. container-based-pipeline-rthallam is not a pipeline."
     ]
    }
   ],
   "source": [
    "pipeline_df = aiplatform.get_pipeline_df(pipeline=\"container-based-pipeline-rthallam\")\n",
    "pipeline_df"
   ]
  },
  {
   "cell_type": "code",
   "execution_count": null,
   "metadata": {
    "colab": {
     "base_uri": "https://localhost:8080/",
     "height": 339
    },
    "id": "gUDplEQ5Q3yQ",
    "outputId": "38c31fb1-8e8b-4a8c-eba3-5b3bc7c132b2"
   },
   "outputs": [
    {
     "data": {
      "text/plain": [
       "<matplotlib.legend.Legend at 0x7f59128fd410>"
      ]
     },
     "execution_count": 100,
     "metadata": {
      "tags": []
     },
     "output_type": "execute_result"
    },
    {
     "data": {
      "image/png": "[encoded data removed]",
      "text/plain": [
       "<Figure size 1080x360 with 1 Axes>"
      ]
     },
     "metadata": {
      "needs_background": "light",
      "tags": []
     },
     "output_type": "display_data"
    }
   ],
   "source": [
    "plt.rcParams[\"figure.figsize\"] = [15, 5]\n",
    "\n",
    "pipeline_df['param.input:seed'] = pipeline_df['param.input:seed'].astype(np.float16)\n",
    "pipeline_df['param.input:splits'] = pipeline_df['param.input:splits'].astype(np.float16) \n",
    "\n",
    "ax = pd.plotting.parallel_coordinates(\n",
    "    pipeline_df.reset_index(level=0),\n",
    "    'run_name', cols=['param.input:seed','param.input:splits', 'metric.accuracy'],\n",
    "    # color=['blue', 'green', 'pink', 'red'],\n",
    "    )\n",
    "ax.set_yscale('symlog')\n",
    "ax.legend(bbox_to_anchor=(1.0, 0.5))"
   ]
  },
  {
   "cell_type": "markdown",
   "metadata": {
    "id": "YFWIJUsSOSRe"
   },
   "source": [
    "## Plot ROC curve and calculate AUC number"
   ]
  },
  {
   "cell_type": "markdown",
   "metadata": {
    "id": "CcmCKVOKQLT-"
   },
   "source": [
    "In addition to basic metrics, we can also extract complex metrics from managed pipeline and perform further analysis in the notebook. The following pipeline job was created by this [notebook](https://colab.sandbox.google.com/drive/1Sas6rk0w2puxnaJJMPVBuIk1womgKrzf#scrollTo=5ExuvJuNUEUE)."
   ]
  },
  {
   "cell_type": "code",
   "execution_count": null,
   "metadata": {
    "colab": {
     "base_uri": "https://localhost:8080/",
     "height": 77
    },
    "id": "rswujUa4wpB3",
    "outputId": "746b23be-b8a3-41e5-efbc-8bd75bf38bd5"
   },
   "outputs": [
    {
     "data": {
      "text/html": [
       "<div>\n",
       "<style scoped>\n",
       "    .dataframe tbody tr th:only-of-type {\n",
       "        vertical-align: middle;\n",
       "    }\n",
       "\n",
       "    .dataframe tbody tr th {\n",
       "        vertical-align: top;\n",
       "    }\n",
       "\n",
       "    .dataframe thead th {\n",
       "        text-align: right;\n",
       "    }\n",
       "</style>\n",
       "<table border=\"1\" class=\"dataframe\">\n",
       "  <thead>\n",
       "    <tr style=\"text-align: right;\">\n",
       "      <th></th>\n",
       "      <th>pipeline_name</th>\n",
       "      <th>run_name</th>\n",
       "      <th>metric.confidenceMetrics</th>\n",
       "    </tr>\n",
       "  </thead>\n",
       "  <tbody>\n",
       "    <tr>\n",
       "      <th>0</th>\n",
       "      <td>jialu-roc-metrics-demo</td>\n",
       "      <td>jialu-roc-metrics-demo-20210423004938</td>\n",
       "      <td>[{'falsePositiveRate': 0.0, 'recall': 0.0, 'co...</td>\n",
       "    </tr>\n",
       "  </tbody>\n",
       "</table>\n",
       "</div>"
      ],
      "text/plain": [
       "            pipeline_name  ...                           metric.confidenceMetrics\n",
       "0  jialu-roc-metrics-demo  ...  [{'falsePositiveRate': 0.0, 'recall': 0.0, 'co...\n",
       "\n",
       "[1 rows x 3 columns]"
      ]
     },
     "execution_count": 68,
     "metadata": {
      "tags": []
     },
     "output_type": "execute_result"
    }
   ],
   "source": [
    "pipeline_df = aiplatform.get_pipeline_df(pipeline=\"jialu-roc-metrics-demo\")\n",
    "pipeline_df"
   ]
  },
  {
   "cell_type": "code",
   "execution_count": null,
   "metadata": {
    "colab": {
     "base_uri": "https://localhost:8080/",
     "height": 320
    },
    "id": "zqo-GgBuwyrn",
    "outputId": "f720d1ab-24a7-471e-d00b-a3bb9f09f918"
   },
   "outputs": [
    {
     "data": {
      "image/png": "[encoded data removed]",
      "text/plain": [
       "<Figure size 1080x360 with 1 Axes>"
      ]
     },
     "metadata": {
      "needs_background": "light",
      "tags": []
     },
     "output_type": "display_data"
    }
   ],
   "source": [
    "df = pd.DataFrame(pipeline_df['metric.confidenceMetrics'][0])\n",
    "auc = np.trapz(df['recall'],df['falsePositiveRate'])\n",
    "plt.plot(df['falsePositiveRate'],df['recall'], label=\"auc=\"+str(auc))\n",
    "plt.legend(loc=4)\n",
    "plt.show() "
   ]
  }
 ],
 "metadata": {
  "colab": {
   "collapsed_sections": [],
   "name": "AI_Platform_(Unified)_MB_SDK_Metric/Parameter_tracking.ipynb",
   "provenance": [],
   "toc_visible": true
  },
  "environment": {
   "name": "tf2-gpu.2-4.m65",
   "type": "gcloud",
   "uri": "gcr.io/deeplearning-platform-release/tf2-gpu.2-4:m65"
  },
  "kernelspec": {
   "display_name": "Python 3",
   "language": "python",
   "name": "python3"
  },
  "language_info": {
   "codemirror_mode": {
    "name": "ipython",
    "version": 3
   },
   "file_extension": ".py",
   "mimetype": "text/x-python",
   "name": "python",
   "nbconvert_exporter": "python",
   "pygments_lexer": "ipython3",
   "version": "3.7.10"
  }
 },
 "nbformat": 4,
 "nbformat_minor": 4
}
