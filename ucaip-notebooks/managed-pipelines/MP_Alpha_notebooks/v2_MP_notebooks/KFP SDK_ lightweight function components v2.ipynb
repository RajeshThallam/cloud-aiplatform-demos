{
 "cells": [
  {
   "cell_type": "markdown",
   "metadata": {
    "id": "5ExuvJuNUEUE"
   },
   "source": [
    "# KFP lightweight function components v2\n",
    "\n",
    "\n",
    "\n",
    "\n",
    "\n"
   ]
  },
  {
   "cell_type": "markdown",
   "metadata": {
    "id": "Jq63DFPPxAXJ"
   },
   "source": [
    "A Kubeflow Pipelines component is a self-contained set of code that performs one step in your ML workflow. A pipeline component is composed of:\n",
    "\n",
    "* The component code, which implements the logic needed to perform a step in your ML workflow.\n",
    "* A component specification, which defines the following:\n",
    "* The component’s metadata, its name and description.\n",
    "* The component’s interface, the component’s inputs and outputs.\n",
    "* The component’s implementation, the Docker container image to run, how to pass inputs to your component code, and how to get the component’s outputs.\n",
    "\n",
    "“Lightweight” Python function-based components make it easier to iterate quickly by letting you build your component code as a Python function and generating the component specification for you. This notebook shows how to create Python function-based components for use in Managed Pipelines.\n",
    "\n",
    "> **Note**: *Currently, these examples only work on Managed Pipelines. Support for OSS KFP will be added soon through the v2-compatible execution mode.*\n",
    "\n",
    "## Understanding how data is passed between components\n",
    "\n",
    "When Kubeflow Pipelines runs your component, a container image is started in a Kubernetes Pod and your component’s inputs are passed in as command-line arguments. When your component has finished, the component’s outputs are returned as files.\n",
    "\n",
    "Python function-based components use the Kubeflow Pipelines SDK to handle the complexity of passing inputs into your component and passing your function’s outputs back to your pipeline.\n",
    "\n",
    "There are two categories of inputs/outputs supported in Python function-based components: *artifacts* and *parameters*.\n",
    "\n",
    "* Parameters are passed to your component by value and typically contain `int`, `float`, `bool`, or small `string` values.\n",
    "* Artifacts are passed to your component as a *reference* to a file. In addition to the artifact’s data, you can also read and write the artifact’s metadata. This lets you record arbitrary key-value pairs for an artifact such as the accuracy of a trained model, and use metadata in downstream components – for example, you could use metadata to decide if a model is accurate enough to deploy for predictions."
   ]
  },
  {
   "cell_type": "markdown",
   "metadata": {
    "id": "RWACue6PW7bk"
   },
   "source": [
    "## Setup\n",
    "\n",
    "Before you run this notebook, ensure that your Google Cloud user account and project are granted access to the Managed Pipelines Experimental. To be granted access to the Managed Pipelines Experimental, fill out this [form](http://go/cloud-mlpipelines-signup) and let your account representative know you have requested access. \n",
    "\n",
    "This notebook is intended to be run on either one of:\n",
    "* [AI Platform Notebooks](https://cloud.google.com/ai-platform-notebooks). See the \"AI Platform Notebooks\" section in the Experimental [User Guide](https://docs.google.com/document/d/1JXtowHwppgyghnj1N1CT73hwD1caKtWkLcm2_0qGBoI/edit?usp=sharing) for more detail on creating a notebook server instance.\n",
    "* [Google Colab](https://colab.research.google.com/notebooks/intro.ipynb)\n",
    "\n",
    "\n",
    "**To run this notebook on AI Platform Notebooks**, click on the **File** menu, then select \"Download .ipynb\".  Then, upload that notebook from your local machine to AI Platform Notebooks. (In the AI Platform Notebooks left panel, look for an icon of an arrow pointing up, to upload).\n",
    "\n",
    "We'll first install some libraries and set up some variables.\n"
   ]
  },
  {
   "cell_type": "markdown",
   "metadata": {
    "id": "GAaCPLjgiJrO"
   },
   "source": [
    "Set `gcloud` to use your project.  **Edit the following cell before running it**."
   ]
  },
  {
   "cell_type": "code",
   "execution_count": null,
   "metadata": {
    "id": "pD5jOcSURdcU"
   },
   "outputs": [],
   "source": [
    "PROJECT_ID = 'your-project-id'  # <---CHANGE THIS"
   ]
  },
  {
   "cell_type": "code",
   "execution_count": null,
   "metadata": {
    "id": "VkWdxe4TXRHk"
   },
   "outputs": [],
   "source": [
    "!gcloud config set project {PROJECT_ID}"
   ]
  },
  {
   "cell_type": "markdown",
   "metadata": {
    "id": "gckGHdW9iPrq"
   },
   "source": [
    "If you're running this notebook on colab, authenticate with your user account:"
   ]
  },
  {
   "cell_type": "code",
   "execution_count": null,
   "metadata": {
    "id": "kZQA0KrfXCvU"
   },
   "outputs": [],
   "source": [
    "import sys\n",
    "if 'google.colab' in sys.modules:\n",
    "  from google.colab import auth\n",
    "  auth.authenticate_user()"
   ]
  },
  {
   "cell_type": "markdown",
   "metadata": {
    "id": "aaqJjbmk6o0o"
   },
   "source": [
    "-----------------\n",
    "\n",
    "**If you're on AI Platform Notebooks**, authenticate with Google Cloud before running the next section, by running\n",
    "```sh\n",
    "gcloud auth login\n",
    "```\n",
    "**in the Terminal window** (which you can open via **File** > **New** in the menu). You only need to do this once per notebook instance."
   ]
  },
  {
   "cell_type": "markdown",
   "metadata": {
    "id": "fOpZ41iBW7bl"
   },
   "source": [
    "### Install the KFP SDK and AI Platform Pipelines client library\n",
    "\n",
    "For Managed Pipelines Experimental, you'll need to download special versions of the KFP SDK and the AI Platform client library."
   ]
  },
  {
   "cell_type": "code",
   "execution_count": null,
   "metadata": {
    "id": "wJGkLRUpRmso"
   },
   "outputs": [],
   "source": [
    "!gsutil cp gs://cloud-aiplatform-pipelines/releases/latest/kfp-1.5.0rc5.tar.gz .\n",
    "!gsutil cp gs://cloud-aiplatform-pipelines/releases/latest/aiplatform_pipelines_client-0.1.0.caip20210415-py3-none-any.whl .\n"
   ]
  },
  {
   "cell_type": "markdown",
   "metadata": {
    "id": "lpdfRA4vW7bq"
   },
   "source": [
    "Then, install the libraries and restart the kernel as necessary."
   ]
  },
  {
   "cell_type": "code",
   "execution_count": null,
   "metadata": {
    "id": "TmUZzSv6YA9-"
   },
   "outputs": [],
   "source": [
    "if 'google.colab' in sys.modules:\n",
    "  USER_FLAG = ''\n",
    "else:\n",
    "  USER_FLAG = '--user'"
   ]
  },
  {
   "cell_type": "code",
   "execution_count": null,
   "metadata": {
    "id": "JGdU0lEfVwM-"
   },
   "outputs": [],
   "source": [
    "!python3 -m pip install {USER_FLAG} kfp-1.5.0rc5.tar.gz --upgrade\n",
    "!python3 -m pip install {USER_FLAG} aiplatform_pipelines_client-0.1.0.caip20210415-py3-none-any.whl  --upgrade"
   ]
  },
  {
   "cell_type": "code",
   "execution_count": null,
   "metadata": {
    "id": "3IKZcgZnX3j6"
   },
   "outputs": [],
   "source": [
    "if not 'google.colab' in sys.modules:\n",
    "  # Automatically restart kernel after installs\n",
    "  import IPython\n",
    "  app = IPython.Application.instance()\n",
    "  app.kernel.do_shutdown(True)"
   ]
  },
  {
   "cell_type": "markdown",
   "metadata": {
    "id": "0mqs-ZFuW7bx"
   },
   "source": [
    "The KFP version should be >= 1.5.\n",
    "\n"
   ]
  },
  {
   "cell_type": "code",
   "execution_count": null,
   "metadata": {
    "id": "a4uvTyimMYOr"
   },
   "outputs": [],
   "source": [
    "# Check the KFP version\n",
    "!python3 -c \"import kfp; print('KFP version: {}'.format(kfp.__version__))\""
   ]
  },
  {
   "cell_type": "markdown",
   "metadata": {
    "id": "tskC13YxW7b3"
   },
   "source": [
    "### Set some variables and do some imports\n",
    "\n",
    "**Before you run the next cell**, **edit it** to set variables for your project.  See the \"Before you begin\" section of the User Guide for information on creating your API key.  For `BUCKET_NAME`, enter the name of a Cloud Storage (GCS) bucket in your project.  Don't include the `gs://` prefix."
   ]
  },
  {
   "cell_type": "code",
   "execution_count": null,
   "metadata": {
    "id": "zHsVifdTW7b4"
   },
   "outputs": [],
   "source": [
    "PATH=%env PATH\n",
    "%env PATH={PATH}:/home/jupyter/.local/bin\n",
    "\n",
    "# Required Parameters\n",
    "USER = 'YOUR_USER_NAME' # <---CHANGE THIS\n",
    "BUCKET_NAME = 'YOUR_BUCKET_NAME'  # <---CHANGE THIS\n",
    "PIPELINE_ROOT = 'gs://{}/pipeline_root/{}'.format(BUCKET_NAME, USER)\n",
    "\n",
    "PROJECT_ID = 'YOUR_PROJECT_ID'  # <---CHANGE THIS\n",
    "REGION = 'us-central1'\n",
    "API_KEY = 'YOUR_API_KEY'  # <---CHANGE THIS\n",
    "\n",
    "print('PIPELINE_ROOT: {}'.format(PIPELINE_ROOT))"
   ]
  },
  {
   "cell_type": "markdown",
   "metadata": {
    "id": "37bfm2cwYAjb"
   },
   "source": [
    "Import what's needed for building lightweight components."
   ]
  },
  {
   "cell_type": "code",
   "execution_count": null,
   "metadata": {
    "id": "TmMeVQ-fUEUM"
   },
   "outputs": [],
   "source": [
    "from typing import NamedTuple\n",
    "from kfp.v2 import dsl\n",
    "from kfp.v2.dsl import (\n",
    "    component,\n",
    "    InputPath,\n",
    "    OutputPath,\n",
    "    InputArtifact,\n",
    "    OutputArtifact,\n",
    "    Artifact,\n",
    "    Dataset,\n",
    "    Model,\n",
    "    ClassificationMetrics,\n",
    "    Metrics,\n",
    ")"
   ]
  },
  {
   "cell_type": "markdown",
   "metadata": {
    "id": "QW9EmIXmYLa6"
   },
   "source": [
    "## Define some components\n",
    "\n",
    "We'll first define some dummy function-based components that consume parameters and produce (typed) Artifacts and parameters. Functions can produce Artifacts in three ways:\n",
    "* accept an output local path using `OutputPath` \n",
    "* accept an `OutputArtifact` which will give the function a handle to the output artifact's metadata\n",
    "* return an `Artifact` (or `Dataset`, `Model`, `Metrics`, etc) in a `NamedTuple` \n",
    "\n",
    "We'll show examples of these below."
   ]
  },
  {
   "cell_type": "markdown",
   "metadata": {
    "id": "RF9bpqJ_iWyr"
   },
   "source": [
    "The first component definition, a dummy `preprocess`, shows a component that outputs two `Dataset` Artifacts, as well as an output parameter.  (For this example, the datasets don't reflect real data).\n",
    "\n",
    "For the parameter output, one would typically use the approach shown here, using the `OutputPath` type, for \"larger\" data.    \n",
    "For \"small data\", like a short string, it may be more convenient to use the `NamedTuple` function output as shown in the second component instead.\n"
   ]
  },
  {
   "cell_type": "code",
   "execution_count": null,
   "metadata": {
    "id": "GZ_kXbhCUEUN"
   },
   "outputs": [],
   "source": [
    "@component\n",
    "def preprocess(\n",
    "    # An input parameter of type string.\n",
    "    message: str,\n",
    "    # Use OutputArtifact to get a metadata-rich handle to the output artifact\n",
    "    # of type `Dataset`.\n",
    "    output_dataset_one: OutputArtifact(Dataset),\n",
    "    # A locally accessible filepath for another output artifact of type\n",
    "    # `Dataset`.\n",
    "    output_dataset_two_path: OutputPath('Dataset'),\n",
    "    # A locally accessible filepath for an output parameter of type string.\n",
    "    output_parameter_path: OutputPath(str)):\n",
    "  '''Dummy preprocessing step.\n",
    "\n",
    "  Writes out the passed in message to the output \"Dataset\"s and the output message.\n",
    "  '''\n",
    "  output_dataset_one.get().metadata['hello'] = 'there'\n",
    "  # Use OutputArtifact.path to access a local file path for writing.\n",
    "  # One can also use OutputArtifact.uri to access the actual URI file path.\n",
    "  with open(output_dataset_one.path, 'w') as f:\n",
    "    f.write(message)\n",
    "\n",
    "  # OutputPath is used to just pass the local file path of the output artifact\n",
    "  # to the function.\n",
    "  with open(output_dataset_two_path, 'w') as f:\n",
    "    f.write(message)\n",
    "\n",
    "  with open(output_parameter_path, 'w') as f:\n",
    "    f.write(message)\n"
   ]
  },
  {
   "cell_type": "markdown",
   "metadata": {
    "id": "CskpfNV-RGNO"
   },
   "source": [
    "The second component definition, a dummy `train`, defines as input both an `InputPath` of type `Dataset`, and an `InputArtifact` of type `Dataset` (as well as other parameter inputs). \n",
    "\n",
    "Note that this component also writes some metrics metadata to the `model` output Artifact.  This information will be displayed in the Console UI when the pipeline runs.\n"
   ]
  },
  {
   "cell_type": "code",
   "execution_count": null,
   "metadata": {
    "id": "7ZCLrE7IUEUN"
   },
   "outputs": [],
   "source": [
    "@component(\n",
    "    base_image='python:3.9', # Use a different base image.\n",
    ")\n",
    "def train(\n",
    "    # An input parameter of type string.\n",
    "    message: str,\n",
    "    # Use InputPath to get a locally accessible path for the input artifact\n",
    "    # of type `Dataset`.\n",
    "    dataset_one_path: InputPath('Dataset'),\n",
    "    # Use InputArtifact to get a metadata-rich handle to the input artifact\n",
    "    # of type `Dataset`.\n",
    "    dataset_two: InputArtifact(Dataset),\n",
    "    # Output artifact of type Model.\n",
    "    model: OutputArtifact(Model),\n",
    "    # An input parameter of type int with a default value.\n",
    "    num_steps: int = 3,\n",
    "    # Use NamedTuple to return either artifacts or parameters.\n",
    "    # When returning artifacts like this, return the contents of\n",
    "    # the artifact. The assumption here is that this return value\n",
    "    # fits in memory.\n",
    "    ) -> NamedTuple('Outputs', [\n",
    "        ('output_message', str),  # Return parameter.\n",
    "        ('generic_artifact', Artifact),  # Return generic Artifact.\n",
    "    ]):        \n",
    "  '''Dummy Training step.\n",
    "\n",
    "  Combines the contents of dataset_one and dataset_two into the\n",
    "  output Model.\n",
    "  Constructs a new output_message consisting of message repeated num_steps times.\n",
    "  '''\n",
    "\n",
    "  # Directly access the passed in GCS URI as a local file (uses GCSFuse).\n",
    "  with open(dataset_one_path, 'r') as input_file:\n",
    "    dataset_one_contents = input_file.read()\n",
    "\n",
    "  # dataset_two is an Artifact handle. Use dataset_two.path to get a\n",
    "  # local file path (uses GCSFuse).\n",
    "  # Alternately, use dataset_two.uri to access the GCS URI directly.\n",
    "  with open(dataset_two.path, 'r') as input_file:\n",
    "    dataset_two_contents = input_file.read()\n",
    "\n",
    "  with open(model.path, 'w') as f:\n",
    "    f.write('My Model')\n",
    "\n",
    "  # Use model.get() to get a Model artifact, which has a .metadata dictionary\n",
    "  # to store arbitrary metadata for the output artifact. This metadata will be\n",
    "  # recorded in Managed Metadata and can be queried later. It will also show up\n",
    "  # in the UI (might be currently broken).\n",
    "  model.get().metadata['accuracy'] = 0.9\n",
    "  model.get().metadata['framework'] = 'Tensorflow'\n",
    "  model.get().metadata['time_to_train_in_seconds'] = 257\n",
    "\n",
    "  artifact_contents = \"{}\\n{}\".format(dataset_one_contents, dataset_two_contents)\n",
    "  output_message = ' '.join([message for _ in range(num_steps)])\n",
    "  return (output_message, artifact_contents)\n",
    "\n",
    "  "
   ]
  },
  {
   "cell_type": "markdown",
   "metadata": {
    "id": "fmKIkUCoZeAu"
   },
   "source": [
    "## Define a pipeline that uses your components\n",
    "\n",
    "Next, we'll define a pipeline that uses the two components we just built.\n",
    "\n",
    "Note that the dummy \"train\" step takes as inputs three of the outputs of the \"preprocess\" step. In the \"train\" inputs we refer to `output_parameter`, which gives us the output string directly.\n"
   ]
  },
  {
   "cell_type": "code",
   "execution_count": null,
   "metadata": {
    "id": "289jqF_XUEUO"
   },
   "outputs": [],
   "source": [
    "@dsl.pipeline(\n",
    "    # Default pipeline root. You can override it when submitting the pipeline.\n",
    "    pipeline_root='gs://ml-pipeline-artifacts/v2-artifacts',\n",
    "    # A name for the pipeline. Use to determine the pipeline Context.\n",
    "    name='metadata-pipeline-v2')\n",
    "def pipeline(message: str):\n",
    "  preprocess_task = preprocess(message=message)\n",
    "  train_task = train(\n",
    "    dataset_one=preprocess_task.outputs['output_dataset_one'],\n",
    "    dataset_two=preprocess_task.outputs['output_dataset_two'],\n",
    "    message=preprocess_task.outputs['output_parameter'],\n",
    "    num_steps=5)\n",
    "    "
   ]
  },
  {
   "cell_type": "markdown",
   "metadata": {
    "id": "Zn1N_vZGQhDU"
   },
   "source": [
    "## Compile and run the pipeline\n",
    "\n",
    "Now we're ready to compile:"
   ]
  },
  {
   "cell_type": "code",
   "execution_count": null,
   "metadata": {
    "id": "22XjUudoQhfr"
   },
   "outputs": [],
   "source": [
    "from kfp.v2 import compiler\n",
    "from aiplatform.pipelines import client  \n",
    "\n",
    "compiler.Compiler().compile(pipeline_func=pipeline,                                                     \n",
    "                            package_path='metadata_pipeline.json')"
   ]
  },
  {
   "cell_type": "markdown",
   "metadata": {
    "id": "DannegADQs69"
   },
   "source": [
    "...and then run the pipeline:"
   ]
  },
  {
   "cell_type": "code",
   "execution_count": null,
   "metadata": {
    "id": "l-59ZNlKQhwX"
   },
   "outputs": [],
   "source": [
    "api_client = client.Client(\n",
    "  project_id=PROJECT_ID,\n",
    "  region='us-central1',\n",
    "  api_key=API_KEY)\n",
    "\n",
    "response = api_client.create_run_from_job_spec(\n",
    "  job_spec_path='metadata_pipeline.json',\n",
    "  pipeline_root=PIPELINE_ROOT,  # Override if needed.\n",
    "  parameter_values={'message': \"Hello, World\"})"
   ]
  },
  {
   "cell_type": "markdown",
   "metadata": {
    "id": "q25T3ESr56Pp"
   },
   "source": [
    "You can click on the generated link above to go to the pipeline run in the Cloud Console.\n",
    "\n",
    "If you click on the Model artifact generated by the second step, you can see that the metrics info written by the second component is displayed in the sidebar.\n",
    "\n",
    "<a href=\"https://storage.googleapis.com/amy-jo/images/mp/md_metrics.png\" target=\"_blank\"><img src=\"https://storage.googleapis.com/amy-jo/images/mp/md_metrics.png\" /></a>\n"
   ]
  },
  {
   "cell_type": "markdown",
   "metadata": {
    "id": "89fYarRLW7cN"
   },
   "source": [
    "-----------------------------\n",
    "Copyright 2021 Google LLC\n",
    "\n",
    "Licensed under the Apache License, Version 2.0 (the \"License\");\n",
    "you may not use this file except in compliance with the License.\n",
    "You may obtain a copy of the License at\n",
    "\n",
    "     http://www.apache.org/licenses/LICENSE-2.0\n",
    "\n",
    "Unless required by applicable law or agreed to in writing, software\n",
    "distributed under the License is distributed on an \"AS IS\" BASIS,\n",
    "WITHOUT WARRANTIES OR CONDITIONS OF ANY KIND, either express or implied.\n",
    "See the License for the specific language governing permissions and\n",
    "limitations under the License."
   ]
  }
 ],
 "metadata": {
  "colab": {
   "collapsed_sections": [],
   "name": "KFP SDK: lightweight function components v2.ipynb",
   "provenance": [
    {
     "file_id": "1l5YhFRekgxkIJunM4ijS1oA67QGMH30d",
     "timestamp": 1618954964949
    },
    {
     "file_id": "1C9orZkxeVafv6hdDZok5vsO4HlpDcWy2",
     "timestamp": 1618545303549
    }
   ],
   "toc_visible": true
  },
  "environment": {
   "name": "tf2-gpu.2-4.m65",
   "type": "gcloud",
   "uri": "gcr.io/deeplearning-platform-release/tf2-gpu.2-4:m65"
  },
  "kernelspec": {
   "display_name": "Python 3",
   "language": "python",
   "name": "python3"
  },
  "language_info": {
   "codemirror_mode": {
    "name": "ipython",
    "version": 3
   },
   "file_extension": ".py",
   "mimetype": "text/x-python",
   "name": "python",
   "nbconvert_exporter": "python",
   "pygments_lexer": "ipython3",
   "version": "3.7.10"
  }
 },
 "nbformat": 4,
 "nbformat_minor": 4
}
