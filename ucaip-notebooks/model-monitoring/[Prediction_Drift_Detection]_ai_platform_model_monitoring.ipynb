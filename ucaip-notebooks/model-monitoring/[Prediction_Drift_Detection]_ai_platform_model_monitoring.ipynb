{
 "cells": [
  {
   "cell_type": "markdown",
   "metadata": {
    "id": "TDPrcG3Fl5bK"
   },
   "source": [
    "This is an Experimental release. Experiments are focused on validating a prototype. They are not guaranteed to be released and might be subject to backward-incompatible changes. They are not intended for production use or covered by any SLA,  support obligation, or deprecation policy. They are covered by the [Pre-GA Offerings Terms](https://cloud.google.com/terms/service-terms#1) of the Google Cloud Platform Terms of Services.\n",
    "\n"
   ]
  },
  {
   "cell_type": "markdown",
   "metadata": {
    "id": "tYDWTRa_fwHX"
   },
   "source": [
    "Note that this only feature is **only available in [Unified Cloud AI Platform](https://cloud.google.com/ai-platform-unified/docs/start/introduction-unified-platform)**, it is not supported in legacy AI Platform.\n",
    "\n",
    "Please fill out this [form](https://docs.google.com/forms/d/1tniFkxb2BDtpPEatV3hXczPLPqofgpCJCvGZDpQlPFg/edit) to get allowlisted.\n",
    "\n",
    "Google internal users please subscribe  [ai-platform-unified-model-monitoring-trusted-tester@googlegroups.com](https://groups.google.com/g/ai-platform-unified-model-monitoring-trusted-tester) for updates (All external customers will be added to this group after filling out above form).\n",
    "\n",
    "If you have any questions or feedback, please send it to gcp-model-monitor-feedback@google.com"
   ]
  },
  {
   "cell_type": "markdown",
   "metadata": {
    "id": "QWP8-sdUx5yn"
   },
   "source": [
    "# Tutorial: Model Monitoring in Unified AI Platform (Preview)\n",
    "This tutorial describes the steps to create a model deployment monitoring job for your Endpoint on the next generation of Google’s Cloud AI Platform.\n",
    "\n",
    "The code in this tutorial is tested in Notebook."
   ]
  },
  {
   "cell_type": "markdown",
   "metadata": {
    "id": "HrbMa4ZrQO0e"
   },
   "source": [
    "## Before you begin"
   ]
  },
  {
   "cell_type": "markdown",
   "metadata": {
    "id": "pHKA82Vbc5x6"
   },
   "source": [
    "### Download and install libraries"
   ]
  },
  {
   "cell_type": "code",
   "execution_count": 1,
   "metadata": {
    "id": "UM_PR0z4dGqm"
   },
   "outputs": [
    {
     "name": "stdout",
     "output_type": "stream",
     "text": [
      "Requirement already satisfied: tensorflow==2.4.1 in /opt/conda/lib/python3.7/site-packages (2.4.1)\n",
      "Requirement already satisfied: flatbuffers~=1.12.0 in /opt/conda/lib/python3.7/site-packages (from tensorflow==2.4.1) (1.12)\n",
      "Requirement already satisfied: typing-extensions~=3.7.4 in /opt/conda/lib/python3.7/site-packages (from tensorflow==2.4.1) (3.7.4.3)\n",
      "Requirement already satisfied: absl-py~=0.10 in /opt/conda/lib/python3.7/site-packages (from tensorflow==2.4.1) (0.10.0)\n",
      "Requirement already satisfied: numpy~=1.19.2 in /opt/conda/lib/python3.7/site-packages (from tensorflow==2.4.1) (1.19.5)\n",
      "Requirement already satisfied: termcolor~=1.1.0 in /opt/conda/lib/python3.7/site-packages (from tensorflow==2.4.1) (1.1.0)\n",
      "Requirement already satisfied: wheel~=0.35 in /opt/conda/lib/python3.7/site-packages (from tensorflow==2.4.1) (0.36.2)\n",
      "Requirement already satisfied: tensorflow-estimator<2.5.0,>=2.4.0 in /opt/conda/lib/python3.7/site-packages (from tensorflow==2.4.1) (2.4.0)\n",
      "Collecting grpcio~=1.32.0\n",
      "  Downloading grpcio-1.32.0-cp37-cp37m-manylinux2014_x86_64.whl (3.8 MB)\n",
      "\u001b[K     |████████████████████████████████| 3.8 MB 4.8 MB/s eta 0:00:01\n",
      "\u001b[?25hRequirement already satisfied: six~=1.15.0 in /opt/conda/lib/python3.7/site-packages (from tensorflow==2.4.1) (1.15.0)\n",
      "Requirement already satisfied: google-pasta~=0.2 in /opt/conda/lib/python3.7/site-packages (from tensorflow==2.4.1) (0.2.0)\n",
      "Requirement already satisfied: astunparse~=1.6.3 in /opt/conda/lib/python3.7/site-packages (from tensorflow==2.4.1) (1.6.3)\n",
      "Requirement already satisfied: tensorboard~=2.4 in /opt/conda/lib/python3.7/site-packages (from tensorflow==2.4.1) (2.4.0)\n",
      "Requirement already satisfied: keras-preprocessing~=1.1.2 in /opt/conda/lib/python3.7/site-packages (from tensorflow==2.4.1) (1.1.2)\n",
      "Requirement already satisfied: protobuf>=3.9.2 in /opt/conda/lib/python3.7/site-packages (from tensorflow==2.4.1) (3.15.8)\n",
      "Requirement already satisfied: wrapt~=1.12.1 in /opt/conda/lib/python3.7/site-packages (from tensorflow==2.4.1) (1.12.1)\n",
      "Requirement already satisfied: gast==0.3.3 in /opt/conda/lib/python3.7/site-packages (from tensorflow==2.4.1) (0.3.3)\n",
      "Requirement already satisfied: h5py~=2.10.0 in /opt/conda/lib/python3.7/site-packages (from tensorflow==2.4.1) (2.10.0)\n",
      "Requirement already satisfied: opt-einsum~=3.3.0 in /opt/conda/lib/python3.7/site-packages (from tensorflow==2.4.1) (3.3.0)\n",
      "Requirement already satisfied: markdown>=2.6.8 in /opt/conda/lib/python3.7/site-packages (from tensorboard~=2.4->tensorflow==2.4.1) (3.3.4)\n",
      "Requirement already satisfied: werkzeug>=0.11.15 in /opt/conda/lib/python3.7/site-packages (from tensorboard~=2.4->tensorflow==2.4.1) (1.0.1)\n",
      "Requirement already satisfied: google-auth-oauthlib<0.5,>=0.4.1 in /opt/conda/lib/python3.7/site-packages (from tensorboard~=2.4->tensorflow==2.4.1) (0.4.3)\n",
      "Requirement already satisfied: requests<3,>=2.21.0 in /opt/conda/lib/python3.7/site-packages (from tensorboard~=2.4->tensorflow==2.4.1) (2.25.1)\n",
      "Requirement already satisfied: setuptools>=41.0.0 in /opt/conda/lib/python3.7/site-packages (from tensorboard~=2.4->tensorflow==2.4.1) (49.6.0.post20210108)\n",
      "Requirement already satisfied: tensorboard-plugin-wit>=1.6.0 in /opt/conda/lib/python3.7/site-packages (from tensorboard~=2.4->tensorflow==2.4.1) (1.8.0)\n",
      "Requirement already satisfied: google-auth<2,>=1.6.3 in /opt/conda/lib/python3.7/site-packages (from tensorboard~=2.4->tensorflow==2.4.1) (1.28.0)\n",
      "Requirement already satisfied: cachetools<5.0,>=2.0.0 in /opt/conda/lib/python3.7/site-packages (from google-auth<2,>=1.6.3->tensorboard~=2.4->tensorflow==2.4.1) (4.2.1)\n",
      "Requirement already satisfied: rsa<5,>=3.1.4 in /opt/conda/lib/python3.7/site-packages (from google-auth<2,>=1.6.3->tensorboard~=2.4->tensorflow==2.4.1) (4.7.2)\n",
      "Requirement already satisfied: pyasn1-modules>=0.2.1 in /opt/conda/lib/python3.7/site-packages (from google-auth<2,>=1.6.3->tensorboard~=2.4->tensorflow==2.4.1) (0.2.7)\n",
      "Requirement already satisfied: requests-oauthlib>=0.7.0 in /opt/conda/lib/python3.7/site-packages (from google-auth-oauthlib<0.5,>=0.4.1->tensorboard~=2.4->tensorflow==2.4.1) (1.3.0)\n",
      "Requirement already satisfied: importlib-metadata in /opt/conda/lib/python3.7/site-packages (from markdown>=2.6.8->tensorboard~=2.4->tensorflow==2.4.1) (3.10.1)\n",
      "Requirement already satisfied: pyasn1<0.5.0,>=0.4.6 in /opt/conda/lib/python3.7/site-packages (from pyasn1-modules>=0.2.1->google-auth<2,>=1.6.3->tensorboard~=2.4->tensorflow==2.4.1) (0.4.8)\n",
      "Requirement already satisfied: certifi>=2017.4.17 in /opt/conda/lib/python3.7/site-packages (from requests<3,>=2.21.0->tensorboard~=2.4->tensorflow==2.4.1) (2020.12.5)\n",
      "Requirement already satisfied: idna<3,>=2.5 in /opt/conda/lib/python3.7/site-packages (from requests<3,>=2.21.0->tensorboard~=2.4->tensorflow==2.4.1) (2.10)\n",
      "Requirement already satisfied: chardet<5,>=3.0.2 in /opt/conda/lib/python3.7/site-packages (from requests<3,>=2.21.0->tensorboard~=2.4->tensorflow==2.4.1) (4.0.0)\n",
      "Requirement already satisfied: urllib3<1.27,>=1.21.1 in /opt/conda/lib/python3.7/site-packages (from requests<3,>=2.21.0->tensorboard~=2.4->tensorflow==2.4.1) (1.26.4)\n",
      "Requirement already satisfied: oauthlib>=3.0.0 in /opt/conda/lib/python3.7/site-packages (from requests-oauthlib>=0.7.0->google-auth-oauthlib<0.5,>=0.4.1->tensorboard~=2.4->tensorflow==2.4.1) (3.0.1)\n",
      "Requirement already satisfied: zipp>=0.5 in /opt/conda/lib/python3.7/site-packages (from importlib-metadata->markdown>=2.6.8->tensorboard~=2.4->tensorflow==2.4.1) (3.4.1)\n",
      "Installing collected packages: grpcio\n",
      "  Attempting uninstall: grpcio\n",
      "    Found existing installation: grpcio 1.37.0\n",
      "    Uninstalling grpcio-1.37.0:\n",
      "      Successfully uninstalled grpcio-1.37.0\n",
      "\u001b[31mERROR: pip's dependency resolver does not currently take into account all the packages that are installed. This behaviour is the source of the following dependency conflicts.\n",
      "tfx 0.28.0 requires docker<5,>=4.1, but you have docker 5.0.0 which is incompatible.\n",
      "tfx 0.28.0 requires kubernetes<12,>=10.0.1, but you have kubernetes 12.0.1 which is incompatible.\n",
      "tfx 0.28.0 requires pyarrow<3,>=1, but you have pyarrow 3.0.0 which is incompatible.\n",
      "tensorflow-transform 0.28.0 requires pyarrow<3,>=1, but you have pyarrow 3.0.0 which is incompatible.\n",
      "tensorflow-model-analysis 0.28.0 requires pyarrow<3,>=1, but you have pyarrow 3.0.0 which is incompatible.\n",
      "tensorflow-data-validation 0.28.0 requires joblib<0.15,>=0.12, but you have joblib 1.0.1 which is incompatible.\n",
      "tensorflow-data-validation 0.28.0 requires pyarrow<3,>=1, but you have pyarrow 3.0.0 which is incompatible.\n",
      "explainable-ai-sdk 1.2.1 requires numpy<1.19.0, but you have numpy 1.19.5 which is incompatible.\n",
      "apache-beam 2.28.0 requires httplib2<0.18.0,>=0.8, but you have httplib2 0.19.1 which is incompatible.\n",
      "apache-beam 2.28.0 requires pyarrow<3.0.0,>=0.15.1, but you have pyarrow 3.0.0 which is incompatible.\u001b[0m\n",
      "Successfully installed grpcio-1.32.0\n",
      "Installing TensorFlow Data Validation\n",
      "\u001b[31mERROR: pip's dependency resolver does not currently take into account all the packages that are installed. This behaviour is the source of the following dependency conflicts.\n",
      "tfx 0.28.0 requires docker<5,>=4.1, but you have docker 5.0.0 which is incompatible.\n",
      "tfx 0.28.0 requires kubernetes<12,>=10.0.1, but you have kubernetes 12.0.1 which is incompatible.\n",
      "cloud-tpu-client 0.10 requires google-api-python-client==1.8.0, but you have google-api-python-client 1.12.8 which is incompatible.\u001b[0m\n",
      "Requirement already satisfied: google-cloud-storage in /opt/conda/lib/python3.7/site-packages (1.37.1)\n",
      "Collecting google-cloud-storage\n",
      "  Downloading google_cloud_storage-1.38.0-py2.py3-none-any.whl (103 kB)\n",
      "\u001b[K     |████████████████████████████████| 103 kB 5.2 MB/s eta 0:00:01\n",
      "\u001b[?25hRequirement already satisfied: google-api-python-client in /home/jupyter/.local/lib/python3.7/site-packages (1.12.8)\n",
      "Collecting google-api-python-client\n",
      "  Downloading google_api_python_client-2.3.0-py2.py3-none-any.whl (7.1 MB)\n",
      "\u001b[K     |████████████████████████████████| 7.1 MB 8.7 MB/s eta 0:00:01\n",
      "\u001b[?25hRequirement already satisfied: google-auth-oauthlib in /opt/conda/lib/python3.7/site-packages (0.4.3)\n",
      "Collecting google-auth-oauthlib\n",
      "  Using cached google_auth_oauthlib-0.4.4-py2.py3-none-any.whl (18 kB)\n",
      "Requirement already satisfied: google-auth-httplib2 in /opt/conda/lib/python3.7/site-packages (0.1.0)\n",
      "Requirement already satisfied: oauth2client in /opt/conda/lib/python3.7/site-packages (4.1.3)\n",
      "Requirement already satisfied: requests in /opt/conda/lib/python3.7/site-packages (2.25.1)\n",
      "Requirement already satisfied: six<2dev,>=1.13.0 in /opt/conda/lib/python3.7/site-packages (from google-api-python-client) (1.15.0)\n",
      "Requirement already satisfied: httplib2<1dev,>=0.15.0 in /opt/conda/lib/python3.7/site-packages (from google-api-python-client) (0.17.4)\n",
      "Requirement already satisfied: google-auth<2dev,>=1.16.0 in /opt/conda/lib/python3.7/site-packages (from google-api-python-client) (1.28.0)\n",
      "Requirement already satisfied: uritemplate<4dev,>=3.0.0 in /opt/conda/lib/python3.7/site-packages (from google-api-python-client) (3.0.1)\n",
      "Requirement already satisfied: google-api-core<2dev,>=1.21.0 in /opt/conda/lib/python3.7/site-packages (from google-api-python-client) (1.26.2)\n",
      "Requirement already satisfied: setuptools>=40.3.0 in /opt/conda/lib/python3.7/site-packages (from google-api-core<2dev,>=1.21.0->google-api-python-client) (49.6.0.post20210108)\n",
      "Requirement already satisfied: packaging>=14.3 in /opt/conda/lib/python3.7/site-packages (from google-api-core<2dev,>=1.21.0->google-api-python-client) (20.9)\n",
      "Requirement already satisfied: googleapis-common-protos<2.0dev,>=1.6.0 in /opt/conda/lib/python3.7/site-packages (from google-api-core<2dev,>=1.21.0->google-api-python-client) (1.53.0)\n",
      "Requirement already satisfied: protobuf>=3.12.0 in /opt/conda/lib/python3.7/site-packages (from google-api-core<2dev,>=1.21.0->google-api-python-client) (3.15.8)\n",
      "Requirement already satisfied: pytz in /opt/conda/lib/python3.7/site-packages (from google-api-core<2dev,>=1.21.0->google-api-python-client) (2021.1)\n",
      "Requirement already satisfied: chardet<5,>=3.0.2 in /opt/conda/lib/python3.7/site-packages (from requests) (4.0.0)\n",
      "Requirement already satisfied: certifi>=2017.4.17 in /opt/conda/lib/python3.7/site-packages (from requests) (2020.12.5)\n",
      "Requirement already satisfied: idna<3,>=2.5 in /opt/conda/lib/python3.7/site-packages (from requests) (2.10)\n",
      "Requirement already satisfied: urllib3<1.27,>=1.21.1 in /opt/conda/lib/python3.7/site-packages (from requests) (1.26.4)\n",
      "Requirement already satisfied: cachetools<5.0,>=2.0.0 in /opt/conda/lib/python3.7/site-packages (from google-auth<2dev,>=1.16.0->google-api-python-client) (4.2.1)\n",
      "Requirement already satisfied: pyasn1-modules>=0.2.1 in /opt/conda/lib/python3.7/site-packages (from google-auth<2dev,>=1.16.0->google-api-python-client) (0.2.7)\n",
      "Requirement already satisfied: rsa<5,>=3.1.4 in /opt/conda/lib/python3.7/site-packages (from google-auth<2dev,>=1.16.0->google-api-python-client) (4.7.2)\n",
      "Requirement already satisfied: pyparsing>=2.0.2 in /opt/conda/lib/python3.7/site-packages (from packaging>=14.3->google-api-core<2dev,>=1.21.0->google-api-python-client) (2.4.7)\n",
      "Requirement already satisfied: pyasn1<0.5.0,>=0.4.6 in /opt/conda/lib/python3.7/site-packages (from pyasn1-modules>=0.2.1->google-auth<2dev,>=1.16.0->google-api-python-client) (0.4.8)\n",
      "Requirement already satisfied: requests-oauthlib>=0.7.0 in /opt/conda/lib/python3.7/site-packages (from google-auth-oauthlib) (1.3.0)\n",
      "Requirement already satisfied: oauthlib>=3.0.0 in /opt/conda/lib/python3.7/site-packages (from requests-oauthlib>=0.7.0->google-auth-oauthlib) (3.0.1)\n",
      "Requirement already satisfied: google-resumable-media<2.0dev,>=1.2.0 in /opt/conda/lib/python3.7/site-packages (from google-cloud-storage) (1.2.0)\n",
      "Requirement already satisfied: google-cloud-core<2.0dev,>=1.4.1 in /opt/conda/lib/python3.7/site-packages (from google-cloud-storage) (1.6.0)\n",
      "Requirement already satisfied: google-crc32c<2.0dev,>=1.0 in /opt/conda/lib/python3.7/site-packages (from google-resumable-media<2.0dev,>=1.2.0->google-cloud-storage) (1.1.2)\n",
      "Requirement already satisfied: cffi>=1.0.0 in /opt/conda/lib/python3.7/site-packages (from google-crc32c<2.0dev,>=1.0->google-resumable-media<2.0dev,>=1.2.0->google-cloud-storage) (1.14.5)\n",
      "Requirement already satisfied: pycparser in /opt/conda/lib/python3.7/site-packages (from cffi>=1.0.0->google-crc32c<2.0dev,>=1.0->google-resumable-media<2.0dev,>=1.2.0->google-cloud-storage) (2.20)\n",
      "Installing collected packages: google-cloud-storage, google-auth-oauthlib, google-api-python-client\n",
      "  Attempting uninstall: google-cloud-storage\n",
      "    Found existing installation: google-cloud-storage 1.37.1\n",
      "    Uninstalling google-cloud-storage-1.37.1:\n",
      "      Successfully uninstalled google-cloud-storage-1.37.1\n",
      "  Attempting uninstall: google-auth-oauthlib\n",
      "    Found existing installation: google-auth-oauthlib 0.4.3\n",
      "    Uninstalling google-auth-oauthlib-0.4.3:\n",
      "      Successfully uninstalled google-auth-oauthlib-0.4.3\n",
      "  Attempting uninstall: google-api-python-client\n",
      "    Found existing installation: google-api-python-client 1.12.8\n",
      "    Uninstalling google-api-python-client-1.12.8:\n",
      "      Successfully uninstalled google-api-python-client-1.12.8\n",
      "\u001b[31mERROR: pip's dependency resolver does not currently take into account all the packages that are installed. This behaviour is the source of the following dependency conflicts.\n",
      "aiplatform-pipelines-client 0.1.0.caip20210428 requires google-api-python-client<2,>=1.7.8, but you have google-api-python-client 2.3.0 which is incompatible.\n",
      "tfx 0.28.0 requires docker<5,>=4.1, but you have docker 5.0.0 which is incompatible.\n",
      "tfx 0.28.0 requires google-api-python-client<2,>=1.7.8, but you have google-api-python-client 2.3.0 which is incompatible.\n",
      "tfx 0.28.0 requires kubernetes<12,>=10.0.1, but you have kubernetes 12.0.1 which is incompatible.\n",
      "tfx-bsl 0.28.1 requires google-api-python-client<2,>=1.7.11, but you have google-api-python-client 2.3.0 which is incompatible.\n",
      "cloud-tpu-client 0.10 requires google-api-python-client==1.8.0, but you have google-api-python-client 2.3.0 which is incompatible.\u001b[0m\n",
      "Successfully installed google-api-python-client-2.3.0 google-auth-oauthlib-0.4.4 google-cloud-storage-1.38.0\n"
     ]
    }
   ],
   "source": [
    "try:\n",
    "  import colab\n",
    "  !pip install --upgrade pip\n",
    "except:\n",
    "  pass\n",
    "\n",
    "!pip install tensorflow==2.4.1\n",
    "\n",
    "import sys\n",
    "\n",
    "# Confirm that we're using Python 3\n",
    "assert sys.version_info.major is 3, 'Oops, not running Python 3. Use Runtime > Change runtime type'\n",
    "\n",
    "import tensorflow as tf\n",
    "\n",
    "print('Installing TensorFlow Data Validation')\n",
    "!pip install -q tensorflow_data_validation[visualization]\n",
    "\n",
    "!pip install --upgrade google-cloud-storage google-api-python-client google-auth-oauthlib google-auth-httplib2 oauth2client requests"
   ]
  },
  {
   "cell_type": "markdown",
   "metadata": {
    "id": "c5sUdL3DeDlW"
   },
   "source": [
    "### [Colab user only] Restart your colab runtime and authenticate\n",
    "If you are using Google Colab, the first time that you run the cell above, you must restart the runtime (Runtime > Restart runtime ...). This is because of the way that Colab loads packages."
   ]
  },
  {
   "cell_type": "code",
   "execution_count": null,
   "metadata": {
    "id": "vRdQFc-TRyD3"
   },
   "outputs": [],
   "source": [
    "! gcloud auth login"
   ]
  },
  {
   "cell_type": "markdown",
   "metadata": {
    "id": "m94rDz3SLmSW"
   },
   "source": [
    "### API client lib preparation"
   ]
  },
  {
   "cell_type": "code",
   "execution_count": null,
   "metadata": {
    "id": "E9PPMNr1kejV"
   },
   "outputs": [],
   "source": [
    "PYTHON_CLIENT_LIBRARY = 'gs://model_monitoring_python_client_library/aiplatform-v1alpha1-py-02-28.tar.gz'\n",
    "LOCAL_PYTHON_CLIENT_LIBRARY = './content/python_client_library/aiplatform-v1alpha1-py.tar.gz'\n",
    "! gsutil cp $PYTHON_CLIENT_LIBRARY $LOCAL_PYTHON_CLIENT_LIBRARY\n",
    "! pip3 install $LOCAL_PYTHON_CLIENT_LIBRARY"
   ]
  },
  {
   "cell_type": "code",
   "execution_count": null,
   "metadata": {
    "id": "fWUWmZz99Pa4"
   },
   "outputs": [],
   "source": [
    "PROJECT_ID = \"\" #@param {type:\"string\"}"
   ]
  },
  {
   "cell_type": "code",
   "execution_count": null,
   "metadata": {
    "id": "FY6E2F2s9E2j"
   },
   "outputs": [],
   "source": [
    "! gcloud config set project $PROJECT_ID"
   ]
  },
  {
   "cell_type": "markdown",
   "metadata": {
    "id": "zbqeFqOy6e5N"
   },
   "source": [
    "### [Colab user only] Restart your colab runtime and authenticate\n",
    "If you are using Google Colab, the first time that you run the cell above, you must restart the runtime (Runtime > Restart runtime ...). This is because of the way that Colab loads packages. After restart runtime, please authenticate."
   ]
  },
  {
   "cell_type": "code",
   "execution_count": null,
   "metadata": {
    "colab": {
     "base_uri": "https://localhost:8080/"
    },
    "id": "OTUYG5VgUdRD",
    "outputId": "0e443af9-8199-446f-ab64-12b9d4238ff8"
   },
   "outputs": [
    {
     "name": "stdout",
     "output_type": "stream",
     "text": [
      "Go to the following link in your browser:\n",
      "\n",
      "    https://accounts.google.com/o/oauth2/auth?response_type=code&client_id=764086051850-6qr4p6gpi6hn506pt8ejuq83di341hur.apps.googleusercontent.com&redirect_uri=urn%3Aietf%3Awg%3Aoauth%3A2.0%3Aoob&scope=openid+https%3A%2F%2Fwww.googleapis.com%2Fauth%2Fuserinfo.email+https%3A%2F%2Fwww.googleapis.com%2Fauth%2Fcloud-platform+https%3A%2F%2Fwww.googleapis.com%2Fauth%2Faccounts.reauth&state=ccxDTuNV7IlSbLCdNP9MjHIsufqEZK&prompt=consent&access_type=offline&code_challenge=DKC7ZE_yYDxWEnry0s8N4Z2nO3Sk0fZx4rA3LpA1eIw&code_challenge_method=S256\n",
      "\n",
      "Enter verification code: "
     ]
    }
   ],
   "source": [
    "! gcloud auth application-default login"
   ]
  },
  {
   "cell_type": "code",
   "execution_count": null,
   "metadata": {
    "id": "XLpduSE6_GUB"
   },
   "outputs": [],
   "source": [
    "LOCATION = 'us-central1'\n",
    "API_ENDPOINT = 'us-central1-aiplatform.googleapis.com'\n",
    "PREDICT_API_ENDPOINT = 'us-central1-prediction-aiplatform.googleapis.com'"
   ]
  },
  {
   "cell_type": "markdown",
   "metadata": {
    "id": "ZNgywqP8a62P"
   },
   "source": [
    "## Set configuration and Create common libraries"
   ]
  },
  {
   "cell_type": "code",
   "execution_count": null,
   "metadata": {
    "id": "Q9Gtv7wxkENK"
   },
   "outputs": [],
   "source": [
    "USER_EMAIL = \"\" #@param {type:\"string\"}\n",
    "JOB_DISPLAY_NAME = \"test-job\" #@param {type:\"string\"}\n",
    "ENDPOINT_RESOURCE_ID = \"\" #@param {type:\"string\"}\n",
    "\n",
    "# We will log your prediction request and response to BigQuery tables.\n",
    "# Please config the logging sampling rate.\n",
    "LOG_SAMPLE_RATE =  0.8#@param {type:\"number\"}\n",
    "# The Monitoring Interval in seconds, \n",
    "# for how often we should analyze your data and report anomalies.\n",
    "MONITOR_INTERVAL_IN_SECONDS =  3600#@param {type:\"number\"}"
   ]
  },
  {
   "cell_type": "code",
   "execution_count": null,
   "metadata": {
    "id": "gc9rVZRseZbL"
   },
   "outputs": [],
   "source": [
    "# Commonly used create job function.\n",
    "from google.protobuf.struct_pb2 import Value\n",
    "from google.protobuf.duration_pb2 import Duration\n",
    "from google.cloud.aiplatform_v1alpha1.services.job_service import JobServiceClient\n",
    "from google.cloud.aiplatform_v1alpha1.types.model_monitoring import ThresholdConfig\n",
    "from google.cloud.aiplatform_v1alpha1.types.model_monitoring import SamplingStrategy\n",
    "from google.cloud.aiplatform_v1alpha1.types.model_monitoring import ModelMonitoringAlertConfig\n",
    "from google.cloud.aiplatform_v1alpha1.types.model_monitoring import ModelMonitoringObjectiveConfig\n",
    "from google.cloud.aiplatform_v1alpha1.types.model_deployment_monitoring_job import ModelDeploymentMonitoringJob\n",
    "from google.cloud.aiplatform_v1alpha1.types.model_deployment_monitoring_job import ModelDeploymentMonitoringObjectiveConfig\n",
    "from google.cloud.aiplatform_v1alpha1.types.model_deployment_monitoring_job import ModelDeploymentMonitoringScheduleConfig\n",
    "import os\n",
    "\n",
    "def create_model_deployment_monitoring_job(monitoring_objective_configs):\n",
    "  client_options = dict(\n",
    "      api_endpoint = API_ENDPOINT\n",
    "  )\n",
    "  client = JobServiceClient(client_options=client_options)\n",
    "  parent = \"projects/{project}/locations/{location}\".format(\n",
    "      project=PROJECT_ID, location=LOCATION\n",
    "  )\n",
    "\n",
    "  model_deployment_monitoring_job = ModelDeploymentMonitoringJob(\n",
    "      display_name = JOB_DISPLAY_NAME,\n",
    "      endpoint = 'projects/{}/locations/us-central1/endpoints/{}'.format(PROJECT_ID, ENDPOINT_RESOURCE_ID),\n",
    "      # ModelDeploymentMonitoringObjectiveConfig.\n",
    "      model_deployment_monitoring_objective_configs = monitoring_objective_configs,\n",
    "      # LoggingSamplingStrategy for Serving data.\n",
    "      logging_sampling_strategy = SamplingStrategy(\n",
    "          random_sample_config = SamplingStrategy.RandomSampleConfig(\n",
    "              sample_rate = LOG_SAMPLE_RATE\n",
    "          )\n",
    "      ),\n",
    "      # ModelDeploymentMonitoringScheduleConfig\n",
    "      model_deployment_monitoring_schedule_config = ModelDeploymentMonitoringScheduleConfig(\n",
    "          monitor_interval = Duration(\n",
    "              seconds = MONITOR_INTERVAL_IN_SECONDS\n",
    "          )\n",
    "      ),\n",
    "      # ModelMonitoringAlertConfig\n",
    "      model_monitoring_alert_config = ModelMonitoringAlertConfig(\n",
    "          email_alert_config = ModelMonitoringAlertConfig.EmailAlertConfig(\n",
    "              user_emails = [USER_EMAIL]\n",
    "          )\n",
    "      ),\n",
    "      predict_instance_schema_uri = '',\n",
    "      analysis_instance_schema_uri = ''\n",
    "  )\n",
    "\n",
    "  response = client.create_model_deployment_monitoring_job(\n",
    "      parent=parent, model_deployment_monitoring_job=model_deployment_monitoring_job\n",
    "  )\n",
    "  print('Created ModelDeploymentMonitoring Job:')\n",
    "  print(response)\n",
    "  return response\n",
    "\n",
    "# Define util function to parse threshold strings\n",
    "DEFAULT_THRESHOLD_VALUE = 0.001\n",
    "\n",
    "def get_thresholds(default_threshold_str, customized_threshold_str):\n",
    "  # Features require drift detection.\n",
    "  thresholds_dict = {}\n",
    "\n",
    "  default_threshold = ThresholdConfig(value = DEFAULT_THRESHOLD_VALUE)\n",
    "  # Default values.\n",
    "  for feature_name in default_threshold_str.split(','):\n",
    "    feature_name = feature_name.strip()\n",
    "    thresholds_dict[feature_name] = default_threshold\n",
    "  # Custom values.\n",
    "  for feature_threshold_pair in customized_threshold_str.split(','):\n",
    "    split_pair = feature_threshold_pair.split(':')\n",
    "    if len(split_pair) != 2:\n",
    "      print('Invalid custom skew threshold: ' + feature_threshold_pair)\n",
    "      return\n",
    "    feature_name = split_pair[0].strip()\n",
    "    threshold_value = float(split_pair[1])\n",
    "    threshold = ThresholdConfig(value = threshold_value)\n",
    "    thresholds_dict[feature_name] = threshold\n",
    "  \n",
    "  return thresholds_dict\n",
    "\n",
    "# Define util for listing all deployed models.\n",
    "from google.cloud.aiplatform_v1alpha1.services.endpoint_service import EndpointServiceClient\n",
    "\n",
    "def get_deployed_model_ids():\n",
    "  client_options = dict(\n",
    "      api_endpoint = API_ENDPOINT\n",
    "  )\n",
    "  client = EndpointServiceClient(client_options=client_options)\n",
    "\n",
    "  parent = \"projects/{project}/locations/{location}\".format(\n",
    "      project=PROJECT_ID, location=LOCATION\n",
    "  )\n",
    "  response = client.get_endpoint(\n",
    "      name=\"projects/{}/locations/us-central1/endpoints/{}\".format(PROJECT_ID, ENDPOINT_RESOURCE_ID)\n",
    "  )\n",
    "\n",
    "  deployed_model_ids = []\n",
    "  for deployed_model in response.deployed_models:\n",
    "    deployed_model_ids.append(deployed_model.id)\n",
    "  return deployed_model_ids"
   ]
  },
  {
   "cell_type": "markdown",
   "metadata": {
    "id": "RBQM3ZpWziKk"
   },
   "source": [
    "The model monitoring API is to monitor each deployed model's skew/drift. Here for simplicity, we apply the same monitoring config for all models. Below is a util function to return a list of monitoring configs given a config template."
   ]
  },
  {
   "cell_type": "code",
   "execution_count": null,
   "metadata": {
    "id": "KpPdWR_6zeZ7"
   },
   "outputs": [],
   "source": [
    "import copy\n",
    "\n",
    "deployed_model_ids = get_deployed_model_ids()\n",
    "print('Here are the deployed model ids:\\n {}'.format(deployed_model_ids))\n",
    "\n",
    "def copy_monitoring_objective_for_each_model(monitoring_objective_template):\n",
    "  # Use the same objective config for all models.\n",
    "  monitoring_objective_configs = []\n",
    "  for deployed_model_id in deployed_model_ids:\n",
    "    monitoring_objective_config = copy.deepcopy(monitoring_objective_template)\n",
    "    monitoring_objective_config.deployed_model_id = deployed_model_id\n",
    "    monitoring_objective_configs.append(monitoring_objective_config)\n",
    "  \n",
    "  return monitoring_objective_configs"
   ]
  },
  {
   "cell_type": "markdown",
   "metadata": {
    "id": "AG7m6wYbYlB_"
   },
   "source": [
    "## Creation Model Monitoring Job\n"
   ]
  },
  {
   "cell_type": "markdown",
   "metadata": {
    "id": "kRAsul3Db3f3"
   },
   "source": [
    "You need to specify the data drift threshold for the features you want to monitoring. The whole idea behind the alerting is to see if a feature's data distribution distance is above the threshold you set. If it is, we will send email alerts to the $USER_EMAIL you specified above.\n",
    "\n",
    "How do we calculate the feature distribution distance? We use [L-infinity distance](https://en.wikipedia.org/wiki/Chebyshev_distance) for categorical features and [Jensen-Shannon divergence](https://en.wikipedia.org/wiki/Jensen%E2%80%93Shannon_divergence) for numerical features. More details are [here](https://www.tensorflow.org/tfx/guide/tfdv#drift_detection).\n",
    "\n",
    "Below you just need to specify the features that you want use default threshold(0.001) and the customized threshold features. If you don't want to monitor a feature, feel free to skip filling into any of these fields.\n"
   ]
  },
  {
   "cell_type": "code",
   "execution_count": null,
   "metadata": {
    "id": "98Uv7y-maQZu"
   },
   "outputs": [],
   "source": [
    "FEATURES_ENABLE_DRIFT_DETECTION_WITH_DEFAULT_THRESHOLD = \"age,cigsPerDay\" #@param {type:\"string\"}\n",
    "# If a feature appear in both FEATURES_ENABLE_DRIFT_DETECTION_WITH_DEFAULT_THRESHOLD\n",
    "# and FEATURES_ENABLE_DRIFT_DETECTION_WITH_CUSTOM_THRESHOLD, we rely on the custom value.\n",
    "FEATURES_ENABLE_DRIFT_DETECTION_WITH_CUSTOM_THRESHOLD = \"totChol:0.2,sysBP:0.2\" #@param {type:\"string\"}"
   ]
  },
  {
   "cell_type": "markdown",
   "metadata": {
    "id": "DJebVX9jiG9q"
   },
   "source": [
    "Starts the job with prediction drift as the only monitoring objective\n",
    "\n",
    "Note: if you want to enable the feature attributions score\n",
    "(based on Sampled Sharpley method, more details are [here](https://cloud.google.com/ai-platform-unified/docs/explainable-ai)) monitoring, just change the \"enable_feature_attributes\" to True in monitoring_objective_config_template. Make sure your model is configed with explanations [requirement](https://cloud.google.com/ai-platform-unified/docs/explainable-ai/configuring-explanations). "
   ]
  },
  {
   "cell_type": "code",
   "execution_count": null,
   "metadata": {
    "id": "XC32ue93eTzp"
   },
   "outputs": [],
   "source": [
    "drift_detection_thresholds = get_thresholds(\n",
    "    FEATURES_ENABLE_DRIFT_DETECTION_WITH_DEFAULT_THRESHOLD,\n",
    "    FEATURES_ENABLE_DRIFT_DETECTION_WITH_CUSTOM_THRESHOLD)\n",
    "\n",
    "monitoring_objective_config_template = ModelDeploymentMonitoringObjectiveConfig(\n",
    "    objective_config = ModelMonitoringObjectiveConfig(\n",
    "        prediction_drift_detection_config = ModelMonitoringObjectiveConfig.PredictionDriftDetectionConfig(\n",
    "            drift_thresholds = drift_detection_thresholds\n",
    "        ),\n",
    "        explanation_config = ModelMonitoringObjectiveConfig.ExplanationConfig(\n",
    "            enable_feature_attributes = False\n",
    "        )\n",
    "    )  \n",
    ")\n",
    "\n",
    "monitoring_objective_configs = copy_monitoring_objective_for_each_model(\n",
    "    monitoring_objective_config_template)\n",
    "\n",
    "monitoring_job = create_model_deployment_monitoring_job(\n",
    "    monitoring_objective_configs)\n"
   ]
  },
  {
   "cell_type": "markdown",
   "metadata": {
    "id": "6J8RypS5Fn8t"
   },
   "source": [
    "## Prepare fake prediction traffic for testing\n",
    "In this section, we will help you generate some fake data to send to your Endpoint for prediction. This will generate some logs for us to analyze the feature distributions.\n",
    "\n",
    "Note: The instance needs to follow a key-value pairs format, key is name of the feature and value is the feature value.\n"
   ]
  },
  {
   "cell_type": "code",
   "execution_count": null,
   "metadata": {
    "id": "DEzLFsecdVPa"
   },
   "outputs": [],
   "source": [
    "ENDPOINT = 'projects/{}/locations/us-central1/endpoints/{}'.format(PROJECT_ID, ENDPOINT_RESOURCE_ID)\n",
    "MONITORING_JOB = monitoring_job.name\n",
    "print(\"Endpoint: \" + ENDPOINT)\n",
    "print(\"Monitoring Job: \" + MONITORING_JOB)"
   ]
  },
  {
   "cell_type": "code",
   "execution_count": null,
   "metadata": {
    "id": "Ez0wE4aXGLf4"
   },
   "outputs": [],
   "source": [
    "from google.cloud.aiplatform_v1alpha1.services.prediction_service import PredictionServiceClient\n",
    "from google.cloud.aiplatform_v1alpha1.types.prediction_service import PredictRequest\n",
    "from google.protobuf import json_format\n",
    "from google.protobuf.struct_pb2 import Value\n",
    "\n",
    "import time\n",
    "def send_predict_request(totChol):\n",
    "  client_options = {\n",
    "      \"api_endpoint\": PREDICT_API_ENDPOINT\n",
    "  }\n",
    "  client = PredictionServiceClient(client_options=client_options)\n",
    "  instance_dict = {\n",
    "      \"age\": \"30\",\n",
    "      \"education\": \"4\", \n",
    "      \"currentSmoker\": \"0\", \n",
    "      \"cigsPerDay\": \"0\", \n",
    "      \"BPMeds\": \"0\", \n",
    "      \"prevalentStroke\": \"0\", \n",
    "      \"prevalentHyp\": \"0\", \n",
    "      \"diabetes\": \"0\", \n",
    "      \"totChol\": totChol,\n",
    "      \"sysBP\": \"106\", \n",
    "      \"diaBP\": \"70\", \n",
    "      \"BMI\": \"18\", \n",
    "      \"heartRate\": \"1\", \n",
    "      \"glucose\": \"5\", \n",
    "      \"TenYearCHD\": \"0\"\n",
    "  }\n",
    "  instance = json_format.ParseDict(instance_dict, Value())\n",
    "  parameters_dict = {}\n",
    "  parameters = json_format.ParseDict(parameters_dict, Value())\n",
    "  instances = [instance]\n",
    "  request = PredictRequest(\n",
    "      endpoint=ENDPOINT,\n",
    "      parameters=parameters\n",
    "  )\n",
    "  request.instances.extend(instances)\n",
    "  response = client.predict(request)\n",
    "\n",
    "# Keep sending the request every one minute. It will last for 2 hours. You can \n",
    "# cancel it by interrupting the cell.\n",
    "for i in range(0, 60):\n",
    "  try:\n",
    "    send_predict_request(str(i+100))\n",
    "  except:\n",
    "    print('predict request failed')\n",
    "  time.sleep(60)\n",
    "\n",
    "for i in range(0, 60):\n",
    "  try:\n",
    "    send_predict_request(\"100\")\n",
    "  except:\n",
    "    print('predict request failed')\n",
    "  time.sleep(60)"
   ]
  },
  {
   "cell_type": "markdown",
   "metadata": {
    "id": "i58xbuy4aMAX"
   },
   "source": [
    "In between the 2 hour fake traffic running, you should be able to receive an email like this:\n",
    "![sd.jpg](data:image/jpeg;base64,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)\n",
    "This email has the following key information:\n",
    "\n",
    "\n",
    "1.   Basic information including endpoint resource name, monitoring job resource name and statistics/anomalies file path. We will try to visualize the stats using TFDV to diagnose.\n",
    "2.   The feature attribution score csv path(if you have enabled the feature attribution monitoring). The first red box above shows both the training/prediction data feature attribution csv file paths. This will be used in the following visualization.\n",
    "2.   The exact anomalies information, indicating whether this is training-serving skew or prediction drift. There are also the detailed anomaly information shown in the email.\n",
    "\n"
   ]
  },
  {
   "cell_type": "markdown",
   "metadata": {
    "id": "I1lLnLAIkmhD"
   },
   "source": [
    "## More API samples"
   ]
  },
  {
   "cell_type": "markdown",
   "metadata": {
    "id": "AQ4vtmTkcTpb"
   },
   "source": [
    "### Update the monitoring config\n",
    "You can try to update the model monitoring configs with our update API. For example if I want to update the email alerting config to include more engineers:"
   ]
  },
  {
   "cell_type": "code",
   "execution_count": null,
   "metadata": {
    "id": "Ktn7hyrgeg1r"
   },
   "outputs": [],
   "source": [
    "UPDATED_USER_EMAIL_1 = \"a@gmail.com\" #@param {type:\"string\"}\n",
    "UPDATED_USER_EMAIL_2 = \"b@gmail.com\" #@param {type:\"string\"}"
   ]
  },
  {
   "cell_type": "code",
   "execution_count": null,
   "metadata": {
    "id": "vStxYpMQaLcP"
   },
   "outputs": [],
   "source": [
    "from google.cloud.aiplatform_v1alpha1.services.job_service import JobServiceClient\n",
    "from google.cloud.aiplatform_v1alpha1.types.model_deployment_monitoring_job import ModelDeploymentMonitoringJob\n",
    "from google.cloud.aiplatform_v1alpha1.types.model_monitoring import ModelMonitoringAlertConfig\n",
    "from google.protobuf.field_mask_pb2 import FieldMask\n",
    "\n",
    "def update_model_deployment_monitoring_job():\n",
    "  client_options = dict(\n",
    "      api_endpoint = API_ENDPOINT\n",
    "  )\n",
    "  client = JobServiceClient(client_options=client_options)\n",
    "  model_deployment_monitoring_job = ModelDeploymentMonitoringJob(\n",
    "      name = MONITORING_JOB,\n",
    "      model_monitoring_alert_config = ModelMonitoringAlertConfig(\n",
    "          email_alert_config = ModelMonitoringAlertConfig.EmailAlertConfig(\n",
    "              user_emails = [\n",
    "              UPDATED_USER_EMAIL_1, # This can be any email domains\n",
    "              UPDATED_USER_EMAIL_2,\n",
    "            ]\n",
    "          )\n",
    "      )\n",
    "  )\n",
    "\n",
    "  update_mask = FieldMask(paths = [\"model_monitoring_alert_config\"])\n",
    "  \n",
    "  response = client.update_model_deployment_monitoring_job(\n",
    "      model_deployment_monitoring_job=model_deployment_monitoring_job, update_mask=update_mask\n",
    "  )\n",
    "  print(response)\n",
    "\n",
    "update_model_deployment_monitoring_job()"
   ]
  },
  {
   "cell_type": "markdown",
   "metadata": {
    "id": "ySwEIihRkv8f"
   },
   "source": [
    "Or updating the alerting threshold by setting a higher skew threshold for age feature and adding the education for monitoring with a low threshold:\n"
   ]
  },
  {
   "cell_type": "code",
   "execution_count": null,
   "metadata": {
    "id": "O2RFbLCllG2u"
   },
   "outputs": [],
   "source": [
    "from google.cloud.aiplatform_v1alpha1.services.job_service import JobServiceClient\n",
    "from google.cloud.aiplatform_v1alpha1.types.model_deployment_monitoring_job import ModelDeploymentMonitoringJob\n",
    "from google.cloud.aiplatform_v1alpha1.types.model_deployment_monitoring_job import ModelDeploymentMonitoringObjectiveConfig\n",
    "from google.cloud.aiplatform_v1alpha1.types.model_monitoring import ThresholdConfig\n",
    "from google.cloud.aiplatform_v1alpha1.types.model_monitoring import ModelMonitoringObjectiveConfig\n",
    "from google.protobuf.field_mask_pb2 import FieldMask\n",
    "\n",
    "def update_model_deployment_monitoring_job():\n",
    "  client_options = dict(\n",
    "      api_endpoint = API_ENDPOINT\n",
    "  )\n",
    "  client = JobServiceClient(client_options=client_options)\n",
    "  threshold = ThresholdConfig(value = 1e-05)\n",
    "  \n",
    "  monitoring_objective_config_template = ModelDeploymentMonitoringObjectiveConfig(\n",
    "      objective_config = ModelMonitoringObjectiveConfig(\n",
    "        training_dataset = ModelMonitoringObjectiveConfig.TrainingDataset(\n",
    "          dataset = \"projects/677687165274/locations/us-central1/datasets/2508579759236055040\",\n",
    "          target_field = \"male\"   \n",
    "        ),\n",
    "        training_prediction_skew_detection_config = ModelMonitoringObjectiveConfig.TrainingPredictionSkewDetectionConfig(\n",
    "          skew_thresholds = {\n",
    "            \"age\": threshold,\n",
    "            \"education\": threshold\n",
    "          }\n",
    "        ),\n",
    "        prediction_drift_detection_config = ModelMonitoringObjectiveConfig.PredictionDriftDetectionConfig(\n",
    "          drift_thresholds = {\n",
    "            \"age\": threshold\n",
    "          }\n",
    "        )\n",
    "      )\n",
    "  )\n",
    "  monitoring_objective_configs = copy_monitoring_objective_for_each_model(\n",
    "      monitoring_objective_config_template)\n",
    "  model_deployment_monitoring_job = ModelDeploymentMonitoringJob(\n",
    "      name = MONITORING_JOB,\n",
    "      model_deployment_monitoring_objective_configs = monitoring_objective_configs\n",
    "  )\n",
    "\n",
    "  update_mask = FieldMask(paths = [\"model_deployment_monitoring_objective_configs\"])\n",
    "  response = client.update_model_deployment_monitoring_job(\n",
    "      model_deployment_monitoring_job=model_deployment_monitoring_job, update_mask=update_mask\n",
    "  )\n",
    "  print(response)\n",
    "\n",
    "update_model_deployment_monitoring_job()"
   ]
  },
  {
   "cell_type": "markdown",
   "metadata": {
    "id": "5vbNYg0Hn-fW"
   },
   "source": [
    "### Pause a monitoring job\n",
    "If you do not want to monitor the endpoint and get alert, you can call pause API to pause the job.\n",
    "\n",
    "Note: \n",
    "1. if there is a scheduled analysis being running, you may still get email notification for this analysis as pause function will not interrupt the running schedule. After the schedule is finished, there will not be any more analysis schedule.\n",
    "2. Even after the job is paused, logging continuous in prediction service."
   ]
  },
  {
   "cell_type": "code",
   "execution_count": null,
   "metadata": {
    "id": "BnNn-cQ9o9PD"
   },
   "outputs": [],
   "source": [
    "def pause_model_deployment_monitoring_job():\n",
    "  client_options = dict(\n",
    "      api_endpoint = API_ENDPOINT\n",
    "  )\n",
    "  client = JobServiceClient(client_options=client_options)\n",
    "  response = client.pause_model_deployment_monitoring_job(name=MONITORING_JOB)\n",
    "  print(response)\n",
    "\n",
    "pause_model_deployment_monitoring_job()"
   ]
  },
  {
   "cell_type": "markdown",
   "metadata": {
    "id": "cRj-aSDJ94s8"
   },
   "source": [
    "### Delete a paused job"
   ]
  },
  {
   "cell_type": "code",
   "execution_count": null,
   "metadata": {
    "id": "OZmxyPmn98Ct"
   },
   "outputs": [],
   "source": [
    "def delete_model_deployment_monitoring_job():\n",
    "  client_options = dict(\n",
    "      api_endpoint = API_ENDPOINT\n",
    "  )\n",
    "  client = JobServiceClient(client_options=client_options)\n",
    "  response = client.delete_model_deployment_monitoring_job(name=MONITORING_JOB)\n",
    "  print(response)\n",
    "\n",
    "delete_model_deployment_monitoring_job()"
   ]
  },
  {
   "cell_type": "markdown",
   "metadata": {
    "id": "zNrmSyALpdeF"
   },
   "source": [
    "### Resume a paused job"
   ]
  },
  {
   "cell_type": "code",
   "execution_count": null,
   "metadata": {
    "id": "9KIzxE0Ipa9C"
   },
   "outputs": [],
   "source": [
    "def resume_model_deployment_monitoring_job():\n",
    "  client_options = dict(\n",
    "      api_endpoint = API_ENDPOINT\n",
    "  )\n",
    "  client = JobServiceClient(client_options=client_options)\n",
    "  response = client.resume_model_deployment_monitoring_job(name=MONITORING_JOB)\n",
    "  print(response)\n",
    "\n",
    "resume_model_deployment_monitoring_job()"
   ]
  },
  {
   "cell_type": "markdown",
   "metadata": {
    "id": "93BPPGUh__PJ"
   },
   "source": [
    "### Get a monitoring job"
   ]
  },
  {
   "cell_type": "code",
   "execution_count": null,
   "metadata": {
    "id": "TcKLMt9p__PK"
   },
   "outputs": [],
   "source": [
    "def get_model_deployment_monitoring_job():\n",
    "  client_options = dict(\n",
    "      api_endpoint = API_ENDPOINT\n",
    "  )\n",
    "  client = JobServiceClient(client_options=client_options)\n",
    "  response = client.get_model_deployment_monitoring_job(name=MONITORING_JOB)\n",
    "  print(response)\n",
    "\n",
    "get_model_deployment_monitoring_job()"
   ]
  },
  {
   "cell_type": "markdown",
   "metadata": {
    "id": "mAkK1JjQ8Vbj"
   },
   "source": [
    "### List monitoring jobs"
   ]
  },
  {
   "cell_type": "code",
   "execution_count": null,
   "metadata": {
    "id": "aKa4v-eE8Vbk"
   },
   "outputs": [],
   "source": [
    "def list_model_deployment_monitoring_jobs():\n",
    "  client_options = dict(\n",
    "      api_endpoint = API_ENDPOINT\n",
    "  )\n",
    "  parent = 'projects/{}/locations/us-central1'.format(PROJECT_ID)\n",
    "  client = JobServiceClient(client_options=client_options)\n",
    "  response = client.list_model_deployment_monitoring_jobs(parent=parent)\n",
    "  print(response)\n",
    "\n",
    "list_model_deployment_monitoring_jobs()"
   ]
  },
  {
   "cell_type": "markdown",
   "metadata": {
    "id": "vNtyKCXwpo8J"
   },
   "source": [
    "# Clean up\n",
    "The following steps are for clean up:\n",
    "1. If the job is in running state, pause the job\n",
    "2. Wait until the 'scheduleState' to be 'OFFLINE' and then delete the monitoring job\n",
    "3. Delete the bigquery table."
   ]
  }
 ],
 "metadata": {
  "colab": {
   "collapsed_sections": [
    "AG7m6wYbYlB_",
    "6J8RypS5Fn8t",
    "I1lLnLAIkmhD"
   ],
   "name": "[Prediction Drift Detection] ai-platform-model-monitoring.ipynb",
   "provenance": []
  },
  "environment": {
   "name": "tf2-gpu.2-4.m65",
   "type": "gcloud",
   "uri": "gcr.io/deeplearning-platform-release/tf2-gpu.2-4:m65"
  },
  "kernelspec": {
   "display_name": "Python 3",
   "language": "python",
   "name": "python3"
  },
  "language_info": {
   "codemirror_mode": {
    "name": "ipython",
    "version": 3
   },
   "file_extension": ".py",
   "mimetype": "text/x-python",
   "name": "python",
   "nbconvert_exporter": "python",
   "pygments_lexer": "ipython3",
   "version": "3.7.10"
  }
 },
 "nbformat": 4,
 "nbformat_minor": 4
}
